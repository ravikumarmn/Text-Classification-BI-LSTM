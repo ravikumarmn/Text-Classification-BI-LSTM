{
 "cells": [
  {
   "cell_type": "markdown",
   "metadata": {},
   "source": [
    "## REQUIREMENTS"
   ]
  },
  {
   "cell_type": "code",
   "execution_count": 8,
   "metadata": {},
   "outputs": [],
   "source": [
    "import sys\n",
    "sys.path.append(\"/content/drive/MyDrive/DL_projects/text_classification/src\")"
   ]
  },
  {
   "cell_type": "code",
   "execution_count": 2,
   "metadata": {},
   "outputs": [
    {
     "output_type": "stream",
     "name": "stderr",
     "text": [
      "[nltk_data] Downloading package stopwords to /root/nltk_data...\n[nltk_data]   Package stopwords is already up-to-date!\n[nltk_data] Downloading package wordnet to /root/nltk_data...\n[nltk_data] Downloading package omw-1.4 to /root/nltk_data...\n"
     ]
    },
    {
     "output_type": "execute_result",
     "data": {
      "text/plain": [
       "True"
      ]
     },
     "metadata": {},
     "execution_count": 2
    }
   ],
   "source": [
    "import sys \n",
    "import json\n",
    "import torch\n",
    "import nltk\n",
    "import pickle\n",
    "import numpy as np\n",
    "import pandas as pd\n",
    "from tqdm.notebook import tqdm\n",
    "import re\n",
    "import gensim\n",
    "import config\n",
    "import helper\n",
    "from sklearn.model_selection import train_test_split\n",
    "from model import ClassifierModel\n",
    "from nltk.corpus import stopwords\n",
    "from nltk.stem import PorterStemmer\n",
    "from nltk.stem import WordNetLemmatizer\n",
    "sw = stopwords.words('english')\n",
    "from gensim.models import KeyedVectors\n",
    "import model\n",
    "nltk.download('wordnet')\n",
    "nltk.download('omw-1.4')\n"
   ]
  },
  {
   "cell_type": "code",
   "execution_count": 3,
   "metadata": {},
   "outputs": [],
   "source": [
    "config.local_base_dir = \"/content/drive/MyDrive/DL_projects/text_classification/\"\n",
    "config.local_train_file = \"dataset/imdb_dataset.csv\"\n",
    "config.prep_train_test_vocabed = \"imdb_train_test_vocabed.pkl\"\n",
    "config.EMBED_SIZE = 32"
   ]
  },
  {
   "cell_type": "code",
   "execution_count": 44,
   "metadata": {},
   "outputs": [],
   "source": [
    "data = pd.read_csv(config.local_base_dir +config.local_train_file)"
   ]
  },
  {
   "cell_type": "code",
   "execution_count": 45,
   "metadata": {},
   "outputs": [
    {
     "output_type": "execute_result",
     "data": {
      "text/plain": [
       "                                              review  sentiment\n",
       "0  One of the other reviewers has mentioned that ...          1\n",
       "1  A wonderful little production. <br /><br />The...          1\n",
       "2  I thought this was a wonderful way to spend ti...          1\n",
       "3  Basically there's a family where a little boy ...          0\n",
       "4  Petter Mattei's \"Love in the Time of Money\" is...          1"
      ],
      "text/html": "\n  <div id=\"df-483b71dd-33db-4e86-b679-9bf8a568b173\">\n    <div class=\"colab-df-container\">\n      <div>\n<style scoped>\n    .dataframe tbody tr th:only-of-type {\n        vertical-align: middle;\n    }\n\n    .dataframe tbody tr th {\n        vertical-align: top;\n    }\n\n    .dataframe thead th {\n        text-align: right;\n    }\n</style>\n<table border=\"1\" class=\"dataframe\">\n  <thead>\n    <tr style=\"text-align: right;\">\n      <th></th>\n      <th>review</th>\n      <th>sentiment</th>\n    </tr>\n  </thead>\n  <tbody>\n    <tr>\n      <th>0</th>\n      <td>One of the other reviewers has mentioned that ...</td>\n      <td>1</td>\n    </tr>\n    <tr>\n      <th>1</th>\n      <td>A wonderful little production. &lt;br /&gt;&lt;br /&gt;The...</td>\n      <td>1</td>\n    </tr>\n    <tr>\n      <th>2</th>\n      <td>I thought this was a wonderful way to spend ti...</td>\n      <td>1</td>\n    </tr>\n    <tr>\n      <th>3</th>\n      <td>Basically there's a family where a little boy ...</td>\n      <td>0</td>\n    </tr>\n    <tr>\n      <th>4</th>\n      <td>Petter Mattei's \"Love in the Time of Money\" is...</td>\n      <td>1</td>\n    </tr>\n  </tbody>\n</table>\n</div>\n      <button class=\"colab-df-convert\" onclick=\"convertToInteractive('df-483b71dd-33db-4e86-b679-9bf8a568b173')\"\n              title=\"Convert this dataframe to an interactive table.\"\n              style=\"display:none;\">\n        \n  <svg xmlns=\"http://www.w3.org/2000/svg\" height=\"24px\"viewBox=\"0 0 24 24\"\n       width=\"24px\">\n    <path d=\"M0 0h24v24H0V0z\" fill=\"none\"/>\n    <path d=\"M18.56 5.44l.94 2.06.94-2.06 2.06-.94-2.06-.94-.94-2.06-.94 2.06-2.06.94zm-11 1L8.5 8.5l.94-2.06 2.06-.94-2.06-.94L8.5 2.5l-.94 2.06-2.06.94zm10 10l.94 2.06.94-2.06 2.06-.94-2.06-.94-.94-2.06-.94 2.06-2.06.94z\"/><path d=\"M17.41 7.96l-1.37-1.37c-.4-.4-.92-.59-1.43-.59-.52 0-1.04.2-1.43.59L10.3 9.45l-7.72 7.72c-.78.78-.78 2.05 0 2.83L4 21.41c.39.39.9.59 1.41.59.51 0 1.02-.2 1.41-.59l7.78-7.78 2.81-2.81c.8-.78.8-2.07 0-2.86zM5.41 20L4 18.59l7.72-7.72 1.47 1.35L5.41 20z\"/>\n  </svg>\n      </button>\n      \n  <style>\n    .colab-df-container {\n      display:flex;\n      flex-wrap:wrap;\n      gap: 12px;\n    }\n\n    .colab-df-convert {\n      background-color: #E8F0FE;\n      border: none;\n      border-radius: 50%;\n      cursor: pointer;\n      display: none;\n      fill: #1967D2;\n      height: 32px;\n      padding: 0 0 0 0;\n      width: 32px;\n    }\n\n    .colab-df-convert:hover {\n      background-color: #E2EBFA;\n      box-shadow: 0px 1px 2px rgba(60, 64, 67, 0.3), 0px 1px 3px 1px rgba(60, 64, 67, 0.15);\n      fill: #174EA6;\n    }\n\n    [theme=dark] .colab-df-convert {\n      background-color: #3B4455;\n      fill: #D2E3FC;\n    }\n\n    [theme=dark] .colab-df-convert:hover {\n      background-color: #434B5C;\n      box-shadow: 0px 1px 3px 1px rgba(0, 0, 0, 0.15);\n      filter: drop-shadow(0px 1px 2px rgba(0, 0, 0, 0.3));\n      fill: #FFFFFF;\n    }\n  </style>\n\n      <script>\n        const buttonEl =\n          document.querySelector('#df-483b71dd-33db-4e86-b679-9bf8a568b173 button.colab-df-convert');\n        buttonEl.style.display =\n          google.colab.kernel.accessAllowed ? 'block' : 'none';\n\n        async function convertToInteractive(key) {\n          const element = document.querySelector('#df-483b71dd-33db-4e86-b679-9bf8a568b173');\n          const dataTable =\n            await google.colab.kernel.invokeFunction('convertToInteractive',\n                                                     [key], {});\n          if (!dataTable) return;\n\n          const docLinkHtml = 'Like what you see? Visit the ' +\n            '<a target=\"_blank\" href=https://colab.research.google.com/notebooks/data_table.ipynb>data table notebook</a>'\n            + ' to learn more about interactive tables.';\n          element.innerHTML = '';\n          dataTable['output_type'] = 'display_data';\n          await google.colab.output.renderOutput(dataTable, element);\n          const docLink = document.createElement('div');\n          docLink.innerHTML = docLinkHtml;\n          element.appendChild(docLink);\n        }\n      </script>\n    </div>\n  </div>\n  "
     },
     "metadata": {},
     "execution_count": 45
    }
   ],
   "source": [
    "mapping = {\"positive\" : 1,\"negative\":0}\n",
    "data['sentiment'] = data['sentiment'].map(mapping) \n",
    "data.head()"
   ]
  },
  {
   "cell_type": "markdown",
   "metadata": {},
   "source": [
    "## PREPROCESSING"
   ]
  },
  {
   "cell_type": "code",
   "execution_count": 46,
   "metadata": {},
   "outputs": [],
   "source": [
    "wordnet_lemmatizer = WordNetLemmatizer()\n",
    "porter_stemmer  = PorterStemmer()\n",
    "\n",
    "def preprocess_text(text):\n",
    "    text = re.sub(r\"^[A-Za-z]\",\"\",text)\n",
    "    # text = \" \".join([x for x in text.split() if x not in sw])\n",
    "    # text = \" \".join([wordnet_lemmatizer.lemmatize(x) for x in text.split() ])\n",
    "    # # text = \" \".join([porter_stemmer.stem(x) for x in text.split()])\n",
    "    # text = re.sub(r'[^\\w\\s]', '', text)\n",
    "    text = text.lower()\n",
    "    return text"
   ]
  },
  {
   "cell_type": "code",
   "execution_count": 47,
   "metadata": {},
   "outputs": [],
   "source": [
    "def data_length(dataframe):\n",
    "    all_words = set()\n",
    "    all_sentence = list()\n",
    "    for sentence in dataframe[\"prep_data\"]:\n",
    "        all_sentence.append(sentence.lower().split())\n",
    "        for word in sentence.lower().split():\n",
    "            all_words.add(word)\n",
    "    len_all_words = len(all_words)\n",
    "    len_all_sentence = len(all_sentence)\n",
    "    print(f\"Total number of words : {len_all_words}\")\n",
    "    print(f\"Total number of sentence : {len_all_sentence}\")\n",
    "    print()\n",
    "    return all_words,all_sentence"
   ]
  },
  {
   "cell_type": "code",
   "execution_count": null,
   "metadata": {},
   "outputs": [],
   "source": []
  },
  {
   "cell_type": "code",
   "execution_count": 48,
   "metadata": {},
   "outputs": [
    {
     "output_type": "stream",
     "name": "stdout",
     "text": [
      "Total number of words : 394208\nTotal number of sentence : 50000\n\n"
     ]
    }
   ],
   "source": [
    "if __name__ == \"__main__\":\n",
    "    prep_data = data[\"review\"].apply(lambda x : preprocess_text(x)) \n",
    "    data[\"prep_data\"] = prep_data\n",
    "    all_words,all_sentence = data_length(data)\n",
    "    samples_lbl = data[\"sentiment\"]\n",
    "    X_train, X_test, y_train, y_test = train_test_split(all_sentence,samples_lbl,test_size=0.2,shuffle=True)\n"
   ]
  },
  {
   "cell_type": "code",
   "execution_count": 49,
   "metadata": {},
   "outputs": [
    {
     "output_type": "execute_result",
     "data": {
      "text/plain": [
       "                                              review  sentiment  \\\n",
       "0  One of the other reviewers has mentioned that ...          1   \n",
       "1  A wonderful little production. <br /><br />The...          1   \n",
       "2  I thought this was a wonderful way to spend ti...          1   \n",
       "3  Basically there's a family where a little boy ...          0   \n",
       "4  Petter Mattei's \"Love in the Time of Money\" is...          1   \n",
       "\n",
       "                                           prep_data  \n",
       "0  ne of the other reviewers has mentioned that a...  \n",
       "1   wonderful little production. <br /><br />the ...  \n",
       "2   thought this was a wonderful way to spend tim...  \n",
       "3  asically there's a family where a little boy (...  \n",
       "4  etter mattei's \"love in the time of money\" is ...  "
      ],
      "text/html": "\n  <div id=\"df-acf9ca8b-7721-485c-ba96-e139ac8d628c\">\n    <div class=\"colab-df-container\">\n      <div>\n<style scoped>\n    .dataframe tbody tr th:only-of-type {\n        vertical-align: middle;\n    }\n\n    .dataframe tbody tr th {\n        vertical-align: top;\n    }\n\n    .dataframe thead th {\n        text-align: right;\n    }\n</style>\n<table border=\"1\" class=\"dataframe\">\n  <thead>\n    <tr style=\"text-align: right;\">\n      <th></th>\n      <th>review</th>\n      <th>sentiment</th>\n      <th>prep_data</th>\n    </tr>\n  </thead>\n  <tbody>\n    <tr>\n      <th>0</th>\n      <td>One of the other reviewers has mentioned that ...</td>\n      <td>1</td>\n      <td>ne of the other reviewers has mentioned that a...</td>\n    </tr>\n    <tr>\n      <th>1</th>\n      <td>A wonderful little production. &lt;br /&gt;&lt;br /&gt;The...</td>\n      <td>1</td>\n      <td>wonderful little production. &lt;br /&gt;&lt;br /&gt;the ...</td>\n    </tr>\n    <tr>\n      <th>2</th>\n      <td>I thought this was a wonderful way to spend ti...</td>\n      <td>1</td>\n      <td>thought this was a wonderful way to spend tim...</td>\n    </tr>\n    <tr>\n      <th>3</th>\n      <td>Basically there's a family where a little boy ...</td>\n      <td>0</td>\n      <td>asically there's a family where a little boy (...</td>\n    </tr>\n    <tr>\n      <th>4</th>\n      <td>Petter Mattei's \"Love in the Time of Money\" is...</td>\n      <td>1</td>\n      <td>etter mattei's \"love in the time of money\" is ...</td>\n    </tr>\n  </tbody>\n</table>\n</div>\n      <button class=\"colab-df-convert\" onclick=\"convertToInteractive('df-acf9ca8b-7721-485c-ba96-e139ac8d628c')\"\n              title=\"Convert this dataframe to an interactive table.\"\n              style=\"display:none;\">\n        \n  <svg xmlns=\"http://www.w3.org/2000/svg\" height=\"24px\"viewBox=\"0 0 24 24\"\n       width=\"24px\">\n    <path d=\"M0 0h24v24H0V0z\" fill=\"none\"/>\n    <path d=\"M18.56 5.44l.94 2.06.94-2.06 2.06-.94-2.06-.94-.94-2.06-.94 2.06-2.06.94zm-11 1L8.5 8.5l.94-2.06 2.06-.94-2.06-.94L8.5 2.5l-.94 2.06-2.06.94zm10 10l.94 2.06.94-2.06 2.06-.94-2.06-.94-.94-2.06-.94 2.06-2.06.94z\"/><path d=\"M17.41 7.96l-1.37-1.37c-.4-.4-.92-.59-1.43-.59-.52 0-1.04.2-1.43.59L10.3 9.45l-7.72 7.72c-.78.78-.78 2.05 0 2.83L4 21.41c.39.39.9.59 1.41.59.51 0 1.02-.2 1.41-.59l7.78-7.78 2.81-2.81c.8-.78.8-2.07 0-2.86zM5.41 20L4 18.59l7.72-7.72 1.47 1.35L5.41 20z\"/>\n  </svg>\n      </button>\n      \n  <style>\n    .colab-df-container {\n      display:flex;\n      flex-wrap:wrap;\n      gap: 12px;\n    }\n\n    .colab-df-convert {\n      background-color: #E8F0FE;\n      border: none;\n      border-radius: 50%;\n      cursor: pointer;\n      display: none;\n      fill: #1967D2;\n      height: 32px;\n      padding: 0 0 0 0;\n      width: 32px;\n    }\n\n    .colab-df-convert:hover {\n      background-color: #E2EBFA;\n      box-shadow: 0px 1px 2px rgba(60, 64, 67, 0.3), 0px 1px 3px 1px rgba(60, 64, 67, 0.15);\n      fill: #174EA6;\n    }\n\n    [theme=dark] .colab-df-convert {\n      background-color: #3B4455;\n      fill: #D2E3FC;\n    }\n\n    [theme=dark] .colab-df-convert:hover {\n      background-color: #434B5C;\n      box-shadow: 0px 1px 3px 1px rgba(0, 0, 0, 0.15);\n      filter: drop-shadow(0px 1px 2px rgba(0, 0, 0, 0.3));\n      fill: #FFFFFF;\n    }\n  </style>\n\n      <script>\n        const buttonEl =\n          document.querySelector('#df-acf9ca8b-7721-485c-ba96-e139ac8d628c button.colab-df-convert');\n        buttonEl.style.display =\n          google.colab.kernel.accessAllowed ? 'block' : 'none';\n\n        async function convertToInteractive(key) {\n          const element = document.querySelector('#df-acf9ca8b-7721-485c-ba96-e139ac8d628c');\n          const dataTable =\n            await google.colab.kernel.invokeFunction('convertToInteractive',\n                                                     [key], {});\n          if (!dataTable) return;\n\n          const docLinkHtml = 'Like what you see? Visit the ' +\n            '<a target=\"_blank\" href=https://colab.research.google.com/notebooks/data_table.ipynb>data table notebook</a>'\n            + ' to learn more about interactive tables.';\n          element.innerHTML = '';\n          dataTable['output_type'] = 'display_data';\n          await google.colab.output.renderOutput(dataTable, element);\n          const docLink = document.createElement('div');\n          docLink.innerHTML = docLinkHtml;\n          element.appendChild(docLink);\n        }\n      </script>\n    </div>\n  </div>\n  "
     },
     "metadata": {},
     "execution_count": 49
    }
   ],
   "source": [
    "data.head()"
   ]
  },
  {
   "cell_type": "code",
   "execution_count": 50,
   "metadata": {},
   "outputs": [
    {
     "output_type": "execute_result",
     "data": {
      "text/plain": [
       "0        1\n",
       "1        1\n",
       "2        1\n",
       "3        0\n",
       "4        1\n",
       "        ..\n",
       "49995    1\n",
       "49996    0\n",
       "49997    0\n",
       "49998    0\n",
       "49999    0\n",
       "Name: sentiment, Length: 50000, dtype: int64"
      ]
     },
     "metadata": {},
     "execution_count": 50
    }
   ],
   "source": [
    "data['sentiment']"
   ]
  },
  {
   "cell_type": "code",
   "execution_count": 51,
   "metadata": {},
   "outputs": [],
   "source": [
    "\n",
    "pickle.dump({\n",
    "    \"X_train\" : X_train,\n",
    "    \"X_test\" : X_test,\n",
    "    \"y_train\" : y_train.values.tolist(),\n",
    "    \"y_test\" : y_test.values.tolist(),\n",
    "},open(config.local_base_dir + \"dataset/\"+ config.prep_train_test_vocabed,'wb'))\n",
    "\n"
   ]
  },
  {
   "cell_type": "code",
   "execution_count": 52,
   "metadata": {},
   "outputs": [
    {
     "output_type": "execute_result",
     "data": {
      "text/plain": [
       "'/content/drive/MyDrive/DL_projects/text_classification/dataset/imdb_train_test_vocabed.pkl'"
      ],
      "application/vnd.google.colaboratory.intrinsic+json": {
       "type": "string"
      }
     },
     "metadata": {},
     "execution_count": 52
    }
   ],
   "source": [
    "config.local_base_dir + \"dataset/\"+ config.prep_train_test_vocabed"
   ]
  },
  {
   "cell_type": "code",
   "execution_count": 53,
   "metadata": {},
   "outputs": [],
   "source": [
    "split_data = pickle.load(open(config.local_base_dir + \"dataset/\"+ config.prep_train_test_vocabed,'rb'))"
   ]
  },
  {
   "cell_type": "markdown",
   "metadata": {},
   "source": [
    "# **Word to Vectors**"
   ]
  },
  {
   "cell_type": "code",
   "execution_count": 54,
   "metadata": {},
   "outputs": [],
   "source": [
    "def build_word2vec(all_sentence,embedding_size):\n",
    "    w2v_model = gensim.models.Word2Vec(sentences=all_sentence,min_count=1,vector_size= embedding_size)\n",
    "    w2v_model.build_vocab(all_sentence)\n",
    "    print(\"Length of samples : \",w2v_model.corpus_count)\n",
    "    print(\"Length of vocab   : \",len(w2v_model.wv.key_to_index))\n",
    "    print(\"Training and saving model...\")\n",
    "    w2v_model.train(all_sentence,total_examples=w2v_model.corpus_count,epochs=w2v_model.epochs)\n",
    "    w2v_model.save(f\"{config.local_base_dir}dataset/prep_word2vectors_{config.EMBED_SIZE}.model\")\n",
    "    wordvecs = KeyedVectors.load(f\"{config.local_base_dir}dataset/prep_word2vectors_{config.EMBED_SIZE}.model\")    \n",
    "    all_words = list(wordvecs.wv.key_to_index.keys())\n",
    "# wordvecs.wv.index_to_key = {v:k for k,v in wordvecs.wv.key_to_index.items()}\n",
    "    word2index = {k:v+1 for k,v in wordvecs.wv.key_to_index.items()}\n",
    "    index2word = {v:k for k,v in word2index.items()}\n",
    "    \n",
    "    matrix_vec = np.zeros((len(word2index)+1,config.EMBED_SIZE))\n",
    "    for word,idx in word2index.items():\n",
    "        vector_x = wordvecs.wv[word]\n",
    "        matrix_vec[idx,:] = vector_x    \n",
    "    pickle_data = {\n",
    "    \"word2index\" : word2index,\n",
    "    \"index2word\" : index2word,\n",
    "    \"embedding_vector\" : matrix_vec\n",
    "    }\n",
    "    pickle.dump(pickle_data,open(config.local_base_dir+\"dataset/prep_emb_vec.pkl\",'wb'))\n",
    "    print(\"Done\")\n",
    "    print(f'Model saved to {config.local_base_dir+\"dataset/prep_emb_vec.pkl\"}')\n",
    "    "
   ]
  },
  {
   "cell_type": "code",
   "execution_count": 55,
   "metadata": {},
   "outputs": [
    {
     "output_type": "stream",
     "name": "stderr",
     "text": [
      "WARNING:gensim.models.keyedvectors:sorting after vectors have been allocated is expensive & error-prone\n",
      "WARNING:gensim.models.word2vec:Effective 'alpha' higher than previous training cycles\n",
      "Length of samples :  50000\n",
      "Length of vocab   :  394208\n",
      "Training and saving model...\n",
      "Done\n",
      "Model saved to /content/drive/MyDrive/DL_projects/text_classification/dataset/prep_emb_vec.pkl\n"
     ]
    }
   ],
   "source": [
    "config.EMBED_SIZE = 32\n",
    "build_word2vec(all_sentence,config.EMBED_SIZE)"
   ]
  },
  {
   "cell_type": "code",
   "execution_count": 2,
   "metadata": {},
   "outputs": [],
   "source": [
    "import pickle"
   ]
  },
  {
   "cell_type": "code",
   "execution_count": 3,
   "metadata": {},
   "outputs": [
    {
     "output_type": "error",
     "ename": "UnpicklingError",
     "evalue": "A load persistent id instruction was encountered,\nbut no persistent_load function was specified.",
     "traceback": [
      "\u001b[0;31m---------------------------------------------------------------------------\u001b[0m",
      "\u001b[0;31mUnpicklingError\u001b[0m                           Traceback (most recent call last)",
      "\u001b[0;32m<ipython-input-3-cd7baf947c91>\u001b[0m in \u001b[0;36m<module>\u001b[0;34m\u001b[0m\n\u001b[0;32m----> 1\u001b[0;31m \u001b[0mpickle_data\u001b[0m \u001b[0;34m=\u001b[0m\u001b[0mpickle\u001b[0m\u001b[0;34m.\u001b[0m\u001b[0mload\u001b[0m\u001b[0;34m(\u001b[0m\u001b[0mopen\u001b[0m\u001b[0;34m(\u001b[0m\u001b[0;34m\"/content/drive/MyDrive/DL_projects/text_classification/trained_models/seq2seq_hidden_32_embed_32_imdb_word2vec.pt\"\u001b[0m\u001b[0;34m,\u001b[0m\u001b[0;34m'rb'\u001b[0m\u001b[0;34m)\u001b[0m\u001b[0;34m)\u001b[0m\u001b[0;34m\u001b[0m\u001b[0;34m\u001b[0m\u001b[0m\n\u001b[0m",
      "\u001b[0;31mUnpicklingError\u001b[0m: A load persistent id instruction was encountered,\nbut no persistent_load function was specified."
     ]
    }
   ],
   "source": [
    "pickle_data =pickle.load(open(\"/content/drive/MyDrive/DL_projects/text_classification/trained_models/seq2seq_hidden_32_embed_32_imdb_word2vec.pt\",'rb'))"
   ]
  },
  {
   "cell_type": "code",
   "execution_count": 57,
   "metadata": {},
   "outputs": [],
   "source": [
    "word2index = pickle_data['word2index']\n",
    "index2word = pickle_data['index2word']\n",
    "word_vectors = pd.DataFrame(pickle_data['embedding_vector'])\n",
    "word_vectors = word_vectors.iloc[:1000,:]\n",
    "word_vectors.to_csv(\"imdb_embedding_matrix.tsv\",sep =\"\\t\",header = None,index = False)\n",
    "index2word[0] = \"[PAD]\"\n",
    "only_words = [index2word[x] for x in range(len(index2word))]\n",
    "word_vectors[\"metadata\"] =only_words\n",
    "word_vectors.to_csv(\"imdb_meta_data.tsv\",sep =\"\\t\",index = False)"
   ]
  },
  {
   "cell_type": "code",
   "execution_count": 58,
   "metadata": {},
   "outputs": [
    {
     "output_type": "execute_result",
     "data": {
      "text/plain": [
       "(1000, 33)"
      ]
     },
     "metadata": {},
     "execution_count": 58
    }
   ],
   "source": [
    "word_vectors = word_vectors.iloc[:1000,:]"
   ]
  },
  {
   "cell_type": "code",
   "execution_count": 67,
   "metadata": {},
   "outputs": [
    {
     "output_type": "execute_result",
     "data": {
      "text/plain": [
       "dict_keys(['model_state_dict', 'params'])"
      ]
     },
     "metadata": {},
     "execution_count": 67
    }
   ],
   "source": [
    "import torch\n",
    "checkpoint = torch.load(\"/content/drive/MyDrive/DL_projects/text_classification/trained_models/seq2seq_hidden_32_embed_32_imdb_prep_word2vec.pt\")\n",
    "checkpoint.keys()"
   ]
  },
  {
   "cell_type": "code",
   "execution_count": 68,
   "metadata": {},
   "outputs": [],
   "source": [
    "params = checkpoint['params']\n",
    "pickle_data =pickle.load(open(params[\"base_dir\"] +params[\"emb_vec_file\"],'rb'))\n",
    "pickle_data.keys()\n",
    "\n",
    "word2index = pickle_data['word2index']\n",
    "index2word = pickle_data['index2word']"
   ]
  },
  {
   "cell_type": "code",
   "execution_count": 69,
   "metadata": {},
   "outputs": [],
   "source": [
    "# n_vocab,hidden_size,out_hidden,embedding_dim,n_labels,max_seq\n",
    "import model\n",
    "my_model = model.ClassifierModel(len(word2index),params[\"HIDDEN_SIZE\"],params[\"OUT_DIM\"],params[\"EMBED_SIZE\"],n_labels = params[\"n_labels\"],max_seq=params['max_seq_len'])"
   ]
  },
  {
   "cell_type": "code",
   "execution_count": 70,
   "metadata": {},
   "outputs": [
    {
     "output_type": "execute_result",
     "data": {
      "text/plain": [
       "<All keys matched successfully>"
      ]
     },
     "metadata": {},
     "execution_count": 70
    }
   ],
   "source": [
    "my_model.load_state_dict(checkpoint['model_state_dict'])"
   ]
  },
  {
   "cell_type": "code",
   "execution_count": 71,
   "metadata": {},
   "outputs": [],
   "source": [
    "import pandas as pd\n",
    "emb_matrix = my_model.embedding.weight.detach().numpy()"
   ]
  },
  {
   "cell_type": "code",
   "execution_count": 72,
   "metadata": {},
   "outputs": [],
   "source": [
    "emb = pd.DataFrame(emb_matrix)"
   ]
  },
  {
   "cell_type": "code",
   "execution_count": 73,
   "metadata": {},
   "outputs": [
    {
     "output_type": "execute_result",
     "data": {
      "text/plain": [
       "         0         1         2         3         4         5         6   \\\n",
       "0  0.000000  0.000000  0.000000  0.000000  0.000000  0.000000  0.000000   \n",
       "1  3.215135 -2.039822 -1.991017 -1.874602  3.375530 -2.805663  1.647659   \n",
       "2  2.682374 -0.059880 -1.709466  0.929107 -0.586223 -0.812075  3.737223   \n",
       "3  3.583761 -2.879290  0.511685 -0.695925  3.157705 -0.685953  2.243956   \n",
       "4  0.920667 -4.159053  1.667749 -2.287287  0.812242 -2.126994  3.033233   \n",
       "\n",
       "         7         8         9   ...        22        23        24        25  \\\n",
       "0  0.000000  0.000000  0.000000  ...  0.000000  0.000000  0.000000  0.000000   \n",
       "1 -2.811729 -3.131666 -1.880979  ... -0.563289  3.812085 -0.895236  0.120245   \n",
       "2 -1.679718 -4.843754  1.652838  ... -0.728424  5.129432 -1.086249 -1.162141   \n",
       "3 -2.056694 -3.179038 -1.172965  ...  0.711902 -0.934894 -2.205631 -0.492827   \n",
       "4 -4.145588 -2.513504  0.050523  ... -1.246631  1.154336 -0.579854 -2.764482   \n",
       "\n",
       "         26        27        28        29        30        31  \n",
       "0  0.000000  0.000000  0.000000  0.000000  0.000000  0.000000  \n",
       "1  3.119622  0.190353 -1.900077 -2.479097 -0.229150 -0.140410  \n",
       "2  0.742907 -1.912346 -3.197052 -2.823757  1.761539 -2.172132  \n",
       "3  1.623653 -0.510843 -3.563397 -2.351779  0.207879 -1.253219  \n",
       "4  2.871315 -0.273873 -0.568649 -0.442415 -2.348348 -0.989500  \n",
       "\n",
       "[5 rows x 32 columns]"
      ],
      "text/html": "\n  <div id=\"df-0ce95790-a777-4f62-b1b0-2a59089f0aac\">\n    <div class=\"colab-df-container\">\n      <div>\n<style scoped>\n    .dataframe tbody tr th:only-of-type {\n        vertical-align: middle;\n    }\n\n    .dataframe tbody tr th {\n        vertical-align: top;\n    }\n\n    .dataframe thead th {\n        text-align: right;\n    }\n</style>\n<table border=\"1\" class=\"dataframe\">\n  <thead>\n    <tr style=\"text-align: right;\">\n      <th></th>\n      <th>0</th>\n      <th>1</th>\n      <th>2</th>\n      <th>3</th>\n      <th>4</th>\n      <th>5</th>\n      <th>6</th>\n      <th>7</th>\n      <th>8</th>\n      <th>9</th>\n      <th>...</th>\n      <th>22</th>\n      <th>23</th>\n      <th>24</th>\n      <th>25</th>\n      <th>26</th>\n      <th>27</th>\n      <th>28</th>\n      <th>29</th>\n      <th>30</th>\n      <th>31</th>\n    </tr>\n  </thead>\n  <tbody>\n    <tr>\n      <th>0</th>\n      <td>0.000000</td>\n      <td>0.000000</td>\n      <td>0.000000</td>\n      <td>0.000000</td>\n      <td>0.000000</td>\n      <td>0.000000</td>\n      <td>0.000000</td>\n      <td>0.000000</td>\n      <td>0.000000</td>\n      <td>0.000000</td>\n      <td>...</td>\n      <td>0.000000</td>\n      <td>0.000000</td>\n      <td>0.000000</td>\n      <td>0.000000</td>\n      <td>0.000000</td>\n      <td>0.000000</td>\n      <td>0.000000</td>\n      <td>0.000000</td>\n      <td>0.000000</td>\n      <td>0.000000</td>\n    </tr>\n    <tr>\n      <th>1</th>\n      <td>3.215135</td>\n      <td>-2.039822</td>\n      <td>-1.991017</td>\n      <td>-1.874602</td>\n      <td>3.375530</td>\n      <td>-2.805663</td>\n      <td>1.647659</td>\n      <td>-2.811729</td>\n      <td>-3.131666</td>\n      <td>-1.880979</td>\n      <td>...</td>\n      <td>-0.563289</td>\n      <td>3.812085</td>\n      <td>-0.895236</td>\n      <td>0.120245</td>\n      <td>3.119622</td>\n      <td>0.190353</td>\n      <td>-1.900077</td>\n      <td>-2.479097</td>\n      <td>-0.229150</td>\n      <td>-0.140410</td>\n    </tr>\n    <tr>\n      <th>2</th>\n      <td>2.682374</td>\n      <td>-0.059880</td>\n      <td>-1.709466</td>\n      <td>0.929107</td>\n      <td>-0.586223</td>\n      <td>-0.812075</td>\n      <td>3.737223</td>\n      <td>-1.679718</td>\n      <td>-4.843754</td>\n      <td>1.652838</td>\n      <td>...</td>\n      <td>-0.728424</td>\n      <td>5.129432</td>\n      <td>-1.086249</td>\n      <td>-1.162141</td>\n      <td>0.742907</td>\n      <td>-1.912346</td>\n      <td>-3.197052</td>\n      <td>-2.823757</td>\n      <td>1.761539</td>\n      <td>-2.172132</td>\n    </tr>\n    <tr>\n      <th>3</th>\n      <td>3.583761</td>\n      <td>-2.879290</td>\n      <td>0.511685</td>\n      <td>-0.695925</td>\n      <td>3.157705</td>\n      <td>-0.685953</td>\n      <td>2.243956</td>\n      <td>-2.056694</td>\n      <td>-3.179038</td>\n      <td>-1.172965</td>\n      <td>...</td>\n      <td>0.711902</td>\n      <td>-0.934894</td>\n      <td>-2.205631</td>\n      <td>-0.492827</td>\n      <td>1.623653</td>\n      <td>-0.510843</td>\n      <td>-3.563397</td>\n      <td>-2.351779</td>\n      <td>0.207879</td>\n      <td>-1.253219</td>\n    </tr>\n    <tr>\n      <th>4</th>\n      <td>0.920667</td>\n      <td>-4.159053</td>\n      <td>1.667749</td>\n      <td>-2.287287</td>\n      <td>0.812242</td>\n      <td>-2.126994</td>\n      <td>3.033233</td>\n      <td>-4.145588</td>\n      <td>-2.513504</td>\n      <td>0.050523</td>\n      <td>...</td>\n      <td>-1.246631</td>\n      <td>1.154336</td>\n      <td>-0.579854</td>\n      <td>-2.764482</td>\n      <td>2.871315</td>\n      <td>-0.273873</td>\n      <td>-0.568649</td>\n      <td>-0.442415</td>\n      <td>-2.348348</td>\n      <td>-0.989500</td>\n    </tr>\n  </tbody>\n</table>\n<p>5 rows × 32 columns</p>\n</div>\n      <button class=\"colab-df-convert\" onclick=\"convertToInteractive('df-0ce95790-a777-4f62-b1b0-2a59089f0aac')\"\n              title=\"Convert this dataframe to an interactive table.\"\n              style=\"display:none;\">\n        \n  <svg xmlns=\"http://www.w3.org/2000/svg\" height=\"24px\"viewBox=\"0 0 24 24\"\n       width=\"24px\">\n    <path d=\"M0 0h24v24H0V0z\" fill=\"none\"/>\n    <path d=\"M18.56 5.44l.94 2.06.94-2.06 2.06-.94-2.06-.94-.94-2.06-.94 2.06-2.06.94zm-11 1L8.5 8.5l.94-2.06 2.06-.94-2.06-.94L8.5 2.5l-.94 2.06-2.06.94zm10 10l.94 2.06.94-2.06 2.06-.94-2.06-.94-.94-2.06-.94 2.06-2.06.94z\"/><path d=\"M17.41 7.96l-1.37-1.37c-.4-.4-.92-.59-1.43-.59-.52 0-1.04.2-1.43.59L10.3 9.45l-7.72 7.72c-.78.78-.78 2.05 0 2.83L4 21.41c.39.39.9.59 1.41.59.51 0 1.02-.2 1.41-.59l7.78-7.78 2.81-2.81c.8-.78.8-2.07 0-2.86zM5.41 20L4 18.59l7.72-7.72 1.47 1.35L5.41 20z\"/>\n  </svg>\n      </button>\n      \n  <style>\n    .colab-df-container {\n      display:flex;\n      flex-wrap:wrap;\n      gap: 12px;\n    }\n\n    .colab-df-convert {\n      background-color: #E8F0FE;\n      border: none;\n      border-radius: 50%;\n      cursor: pointer;\n      display: none;\n      fill: #1967D2;\n      height: 32px;\n      padding: 0 0 0 0;\n      width: 32px;\n    }\n\n    .colab-df-convert:hover {\n      background-color: #E2EBFA;\n      box-shadow: 0px 1px 2px rgba(60, 64, 67, 0.3), 0px 1px 3px 1px rgba(60, 64, 67, 0.15);\n      fill: #174EA6;\n    }\n\n    [theme=dark] .colab-df-convert {\n      background-color: #3B4455;\n      fill: #D2E3FC;\n    }\n\n    [theme=dark] .colab-df-convert:hover {\n      background-color: #434B5C;\n      box-shadow: 0px 1px 3px 1px rgba(0, 0, 0, 0.15);\n      filter: drop-shadow(0px 1px 2px rgba(0, 0, 0, 0.3));\n      fill: #FFFFFF;\n    }\n  </style>\n\n      <script>\n        const buttonEl =\n          document.querySelector('#df-0ce95790-a777-4f62-b1b0-2a59089f0aac button.colab-df-convert');\n        buttonEl.style.display =\n          google.colab.kernel.accessAllowed ? 'block' : 'none';\n\n        async function convertToInteractive(key) {\n          const element = document.querySelector('#df-0ce95790-a777-4f62-b1b0-2a59089f0aac');\n          const dataTable =\n            await google.colab.kernel.invokeFunction('convertToInteractive',\n                                                     [key], {});\n          if (!dataTable) return;\n\n          const docLinkHtml = 'Like what you see? Visit the ' +\n            '<a target=\"_blank\" href=https://colab.research.google.com/notebooks/data_table.ipynb>data table notebook</a>'\n            + ' to learn more about interactive tables.';\n          element.innerHTML = '';\n          dataTable['output_type'] = 'display_data';\n          await google.colab.output.renderOutput(dataTable, element);\n          const docLink = document.createElement('div');\n          docLink.innerHTML = docLinkHtml;\n          element.appendChild(docLink);\n        }\n      </script>\n    </div>\n  </div>\n  "
     },
     "metadata": {},
     "execution_count": 73
    }
   ],
   "source": [
    "emb.head()"
   ]
  },
  {
   "cell_type": "code",
   "execution_count": 74,
   "metadata": {},
   "outputs": [
    {
     "output_type": "execute_result",
     "data": {
      "text/plain": [
       "(394209, 32)"
      ]
     },
     "metadata": {},
     "execution_count": 74
    }
   ],
   "source": [
    "emb.shape"
   ]
  },
  {
   "cell_type": "code",
   "execution_count": 75,
   "metadata": {},
   "outputs": [
    {
     "output_type": "execute_result",
     "data": {
      "text/plain": [
       "394208"
      ]
     },
     "metadata": {},
     "execution_count": 75
    }
   ],
   "source": [
    "len(index2word)"
   ]
  },
  {
   "cell_type": "code",
   "execution_count": 76,
   "metadata": {},
   "outputs": [],
   "source": [
    "emb = emb.iloc[:10000,:]"
   ]
  },
  {
   "cell_type": "code",
   "execution_count": 78,
   "metadata": {},
   "outputs": [],
   "source": [
    "emb.to_csv(\"imdb_prep_embedding_matrix.tsv\",sep = '\\t',header=None,index = False)"
   ]
  },
  {
   "cell_type": "code",
   "execution_count": 79,
   "metadata": {},
   "outputs": [
    {
     "output_type": "execute_result",
     "data": {
      "text/plain": [
       "        0.0     0.0.1     0.0.2     0.0.3     0.0.4     0.0.5     0.0.6  \\\n",
       "0  3.215135 -2.039822 -1.991017 -1.874602  3.375530 -2.805663  1.647659   \n",
       "1  2.682374 -0.059880 -1.709466  0.929107 -0.586223 -0.812075  3.737223   \n",
       "2  3.583761 -2.879290  0.511685 -0.695925  3.157705 -0.685953  2.243956   \n",
       "3  0.920667 -4.159053  1.667749 -2.287288  0.812242 -2.126994  3.033233   \n",
       "4  4.590484 -5.857524 -4.149547  1.851173  0.939141  0.385021  0.859584   \n",
       "\n",
       "      0.0.7     0.0.8     0.0.9  ...    0.0.22    0.0.23    0.0.24    0.0.25  \\\n",
       "0 -2.811729 -3.131666 -1.880979  ... -0.563289  3.812085 -0.895236  0.120245   \n",
       "1 -1.679718 -4.843754  1.652837  ... -0.728424  5.129432 -1.086249 -1.162141   \n",
       "2 -2.056694 -3.179038 -1.172965  ...  0.711902 -0.934894 -2.205631 -0.492827   \n",
       "3 -4.145588 -2.513504  0.050523  ... -1.246630  1.154336 -0.579854 -2.764482   \n",
       "4 -6.055910  1.353823  3.357303  ...  0.859147  0.668078  0.218401  2.529448   \n",
       "\n",
       "     0.0.26    0.0.27    0.0.28    0.0.29    0.0.30    0.0.31  \n",
       "0  3.119622  0.190353 -1.900078 -2.479097 -0.229150 -0.140410  \n",
       "1  0.742907 -1.912346 -3.197052 -2.823757  1.761540 -2.172132  \n",
       "2  1.623653 -0.510843 -3.563397 -2.351778  0.207879 -1.253219  \n",
       "3  2.871315 -0.273873 -0.568649 -0.442415 -2.348348 -0.989500  \n",
       "4  3.724398  0.445080 -4.904037  1.302230  3.461204  1.466099  \n",
       "\n",
       "[5 rows x 32 columns]"
      ],
      "text/html": "\n  <div id=\"df-4ddcfffe-46fb-4d2a-875a-d9dac1ae496c\">\n    <div class=\"colab-df-container\">\n      <div>\n<style scoped>\n    .dataframe tbody tr th:only-of-type {\n        vertical-align: middle;\n    }\n\n    .dataframe tbody tr th {\n        vertical-align: top;\n    }\n\n    .dataframe thead th {\n        text-align: right;\n    }\n</style>\n<table border=\"1\" class=\"dataframe\">\n  <thead>\n    <tr style=\"text-align: right;\">\n      <th></th>\n      <th>0.0</th>\n      <th>0.0.1</th>\n      <th>0.0.2</th>\n      <th>0.0.3</th>\n      <th>0.0.4</th>\n      <th>0.0.5</th>\n      <th>0.0.6</th>\n      <th>0.0.7</th>\n      <th>0.0.8</th>\n      <th>0.0.9</th>\n      <th>...</th>\n      <th>0.0.22</th>\n      <th>0.0.23</th>\n      <th>0.0.24</th>\n      <th>0.0.25</th>\n      <th>0.0.26</th>\n      <th>0.0.27</th>\n      <th>0.0.28</th>\n      <th>0.0.29</th>\n      <th>0.0.30</th>\n      <th>0.0.31</th>\n    </tr>\n  </thead>\n  <tbody>\n    <tr>\n      <th>0</th>\n      <td>3.215135</td>\n      <td>-2.039822</td>\n      <td>-1.991017</td>\n      <td>-1.874602</td>\n      <td>3.375530</td>\n      <td>-2.805663</td>\n      <td>1.647659</td>\n      <td>-2.811729</td>\n      <td>-3.131666</td>\n      <td>-1.880979</td>\n      <td>...</td>\n      <td>-0.563289</td>\n      <td>3.812085</td>\n      <td>-0.895236</td>\n      <td>0.120245</td>\n      <td>3.119622</td>\n      <td>0.190353</td>\n      <td>-1.900078</td>\n      <td>-2.479097</td>\n      <td>-0.229150</td>\n      <td>-0.140410</td>\n    </tr>\n    <tr>\n      <th>1</th>\n      <td>2.682374</td>\n      <td>-0.059880</td>\n      <td>-1.709466</td>\n      <td>0.929107</td>\n      <td>-0.586223</td>\n      <td>-0.812075</td>\n      <td>3.737223</td>\n      <td>-1.679718</td>\n      <td>-4.843754</td>\n      <td>1.652837</td>\n      <td>...</td>\n      <td>-0.728424</td>\n      <td>5.129432</td>\n      <td>-1.086249</td>\n      <td>-1.162141</td>\n      <td>0.742907</td>\n      <td>-1.912346</td>\n      <td>-3.197052</td>\n      <td>-2.823757</td>\n      <td>1.761540</td>\n      <td>-2.172132</td>\n    </tr>\n    <tr>\n      <th>2</th>\n      <td>3.583761</td>\n      <td>-2.879290</td>\n      <td>0.511685</td>\n      <td>-0.695925</td>\n      <td>3.157705</td>\n      <td>-0.685953</td>\n      <td>2.243956</td>\n      <td>-2.056694</td>\n      <td>-3.179038</td>\n      <td>-1.172965</td>\n      <td>...</td>\n      <td>0.711902</td>\n      <td>-0.934894</td>\n      <td>-2.205631</td>\n      <td>-0.492827</td>\n      <td>1.623653</td>\n      <td>-0.510843</td>\n      <td>-3.563397</td>\n      <td>-2.351778</td>\n      <td>0.207879</td>\n      <td>-1.253219</td>\n    </tr>\n    <tr>\n      <th>3</th>\n      <td>0.920667</td>\n      <td>-4.159053</td>\n      <td>1.667749</td>\n      <td>-2.287288</td>\n      <td>0.812242</td>\n      <td>-2.126994</td>\n      <td>3.033233</td>\n      <td>-4.145588</td>\n      <td>-2.513504</td>\n      <td>0.050523</td>\n      <td>...</td>\n      <td>-1.246630</td>\n      <td>1.154336</td>\n      <td>-0.579854</td>\n      <td>-2.764482</td>\n      <td>2.871315</td>\n      <td>-0.273873</td>\n      <td>-0.568649</td>\n      <td>-0.442415</td>\n      <td>-2.348348</td>\n      <td>-0.989500</td>\n    </tr>\n    <tr>\n      <th>4</th>\n      <td>4.590484</td>\n      <td>-5.857524</td>\n      <td>-4.149547</td>\n      <td>1.851173</td>\n      <td>0.939141</td>\n      <td>0.385021</td>\n      <td>0.859584</td>\n      <td>-6.055910</td>\n      <td>1.353823</td>\n      <td>3.357303</td>\n      <td>...</td>\n      <td>0.859147</td>\n      <td>0.668078</td>\n      <td>0.218401</td>\n      <td>2.529448</td>\n      <td>3.724398</td>\n      <td>0.445080</td>\n      <td>-4.904037</td>\n      <td>1.302230</td>\n      <td>3.461204</td>\n      <td>1.466099</td>\n    </tr>\n  </tbody>\n</table>\n<p>5 rows × 32 columns</p>\n</div>\n      <button class=\"colab-df-convert\" onclick=\"convertToInteractive('df-4ddcfffe-46fb-4d2a-875a-d9dac1ae496c')\"\n              title=\"Convert this dataframe to an interactive table.\"\n              style=\"display:none;\">\n        \n  <svg xmlns=\"http://www.w3.org/2000/svg\" height=\"24px\"viewBox=\"0 0 24 24\"\n       width=\"24px\">\n    <path d=\"M0 0h24v24H0V0z\" fill=\"none\"/>\n    <path d=\"M18.56 5.44l.94 2.06.94-2.06 2.06-.94-2.06-.94-.94-2.06-.94 2.06-2.06.94zm-11 1L8.5 8.5l.94-2.06 2.06-.94-2.06-.94L8.5 2.5l-.94 2.06-2.06.94zm10 10l.94 2.06.94-2.06 2.06-.94-2.06-.94-.94-2.06-.94 2.06-2.06.94z\"/><path d=\"M17.41 7.96l-1.37-1.37c-.4-.4-.92-.59-1.43-.59-.52 0-1.04.2-1.43.59L10.3 9.45l-7.72 7.72c-.78.78-.78 2.05 0 2.83L4 21.41c.39.39.9.59 1.41.59.51 0 1.02-.2 1.41-.59l7.78-7.78 2.81-2.81c.8-.78.8-2.07 0-2.86zM5.41 20L4 18.59l7.72-7.72 1.47 1.35L5.41 20z\"/>\n  </svg>\n      </button>\n      \n  <style>\n    .colab-df-container {\n      display:flex;\n      flex-wrap:wrap;\n      gap: 12px;\n    }\n\n    .colab-df-convert {\n      background-color: #E8F0FE;\n      border: none;\n      border-radius: 50%;\n      cursor: pointer;\n      display: none;\n      fill: #1967D2;\n      height: 32px;\n      padding: 0 0 0 0;\n      width: 32px;\n    }\n\n    .colab-df-convert:hover {\n      background-color: #E2EBFA;\n      box-shadow: 0px 1px 2px rgba(60, 64, 67, 0.3), 0px 1px 3px 1px rgba(60, 64, 67, 0.15);\n      fill: #174EA6;\n    }\n\n    [theme=dark] .colab-df-convert {\n      background-color: #3B4455;\n      fill: #D2E3FC;\n    }\n\n    [theme=dark] .colab-df-convert:hover {\n      background-color: #434B5C;\n      box-shadow: 0px 1px 3px 1px rgba(0, 0, 0, 0.15);\n      filter: drop-shadow(0px 1px 2px rgba(0, 0, 0, 0.3));\n      fill: #FFFFFF;\n    }\n  </style>\n\n      <script>\n        const buttonEl =\n          document.querySelector('#df-4ddcfffe-46fb-4d2a-875a-d9dac1ae496c button.colab-df-convert');\n        buttonEl.style.display =\n          google.colab.kernel.accessAllowed ? 'block' : 'none';\n\n        async function convertToInteractive(key) {\n          const element = document.querySelector('#df-4ddcfffe-46fb-4d2a-875a-d9dac1ae496c');\n          const dataTable =\n            await google.colab.kernel.invokeFunction('convertToInteractive',\n                                                     [key], {});\n          if (!dataTable) return;\n\n          const docLinkHtml = 'Like what you see? Visit the ' +\n            '<a target=\"_blank\" href=https://colab.research.google.com/notebooks/data_table.ipynb>data table notebook</a>'\n            + ' to learn more about interactive tables.';\n          element.innerHTML = '';\n          dataTable['output_type'] = 'display_data';\n          await google.colab.output.renderOutput(dataTable, element);\n          const docLink = document.createElement('div');\n          docLink.innerHTML = docLinkHtml;\n          element.appendChild(docLink);\n        }\n      </script>\n    </div>\n  </div>\n  "
     },
     "metadata": {},
     "execution_count": 79
    }
   ],
   "source": [
    "pd.read_csv(\"/content/drive/MyDrive/DL_projects/text_classification/src/interpret/imdb_prep_embedding_matrix.tsv\",sep = '\\t').head()"
   ]
  },
  {
   "cell_type": "code",
   "execution_count": 80,
   "metadata": {},
   "outputs": [],
   "source": [
    "index2word[0] = \"[PAD]\""
   ]
  },
  {
   "cell_type": "code",
   "execution_count": 81,
   "metadata": {},
   "outputs": [
    {
     "output_type": "stream",
     "name": "stdout",
     "text": [
      "(10000, 32) 394209\n(10000, 32)\n"
     ]
    }
   ],
   "source": [
    "word_vectors = pd.read_csv(\"/content/drive/MyDrive/DL_projects/text_classification/src/interpret/imdb_prep_embedding_matrix.tsv\",sep = '\\t',header = None)\n",
    "print(word_vectors.shape,len(index2word))\n",
    "word_vectors.head()\n",
    "print(word_vectors.shape)"
   ]
  },
  {
   "cell_type": "code",
   "execution_count": 82,
   "metadata": {},
   "outputs": [],
   "source": [
    "only_words = [index2word[x] for x in range(len(index2word))]"
   ]
  },
  {
   "cell_type": "code",
   "execution_count": 83,
   "metadata": {},
   "outputs": [
    {
     "output_type": "execute_result",
     "data": {
      "text/plain": [
       "((10000, 32), 394209, 'firm);')"
      ]
     },
     "metadata": {},
     "execution_count": 83
    }
   ],
   "source": [
    "word_vectors.shape,len(only_words),only_words[-1]"
   ]
  },
  {
   "cell_type": "code",
   "execution_count": 84,
   "metadata": {},
   "outputs": [
    {
     "output_type": "execute_result",
     "data": {
      "text/plain": [
       "         0         1         2         3         4         5         6   \\\n",
       "0  0.000000  0.000000  0.000000  0.000000  0.000000  0.000000  0.000000   \n",
       "1  3.215135 -2.039822 -1.991017 -1.874602  3.375530 -2.805663  1.647659   \n",
       "2  2.682374 -0.059880 -1.709466  0.929107 -0.586223 -0.812075  3.737223   \n",
       "3  3.583761 -2.879290  0.511685 -0.695925  3.157705 -0.685953  2.243956   \n",
       "4  0.920667 -4.159053  1.667749 -2.287288  0.812242 -2.126994  3.033233   \n",
       "\n",
       "         7         8         9   ...        22        23        24        25  \\\n",
       "0  0.000000  0.000000  0.000000  ...  0.000000  0.000000  0.000000  0.000000   \n",
       "1 -2.811729 -3.131666 -1.880979  ... -0.563289  3.812085 -0.895236  0.120245   \n",
       "2 -1.679718 -4.843754  1.652837  ... -0.728424  5.129432 -1.086249 -1.162141   \n",
       "3 -2.056694 -3.179038 -1.172965  ...  0.711902 -0.934894 -2.205631 -0.492827   \n",
       "4 -4.145588 -2.513504  0.050523  ... -1.246630  1.154336 -0.579854 -2.764482   \n",
       "\n",
       "         26        27        28        29        30        31  \n",
       "0  0.000000  0.000000  0.000000  0.000000  0.000000  0.000000  \n",
       "1  3.119622  0.190353 -1.900078 -2.479097 -0.229150 -0.140410  \n",
       "2  0.742907 -1.912346 -3.197052 -2.823757  1.761540 -2.172132  \n",
       "3  1.623653 -0.510843 -3.563397 -2.351778  0.207879 -1.253219  \n",
       "4  2.871315 -0.273873 -0.568649 -0.442415 -2.348348 -0.989500  \n",
       "\n",
       "[5 rows x 32 columns]"
      ],
      "text/html": "\n  <div id=\"df-c9d1c8ca-6878-4195-b343-73102a85829e\">\n    <div class=\"colab-df-container\">\n      <div>\n<style scoped>\n    .dataframe tbody tr th:only-of-type {\n        vertical-align: middle;\n    }\n\n    .dataframe tbody tr th {\n        vertical-align: top;\n    }\n\n    .dataframe thead th {\n        text-align: right;\n    }\n</style>\n<table border=\"1\" class=\"dataframe\">\n  <thead>\n    <tr style=\"text-align: right;\">\n      <th></th>\n      <th>0</th>\n      <th>1</th>\n      <th>2</th>\n      <th>3</th>\n      <th>4</th>\n      <th>5</th>\n      <th>6</th>\n      <th>7</th>\n      <th>8</th>\n      <th>9</th>\n      <th>...</th>\n      <th>22</th>\n      <th>23</th>\n      <th>24</th>\n      <th>25</th>\n      <th>26</th>\n      <th>27</th>\n      <th>28</th>\n      <th>29</th>\n      <th>30</th>\n      <th>31</th>\n    </tr>\n  </thead>\n  <tbody>\n    <tr>\n      <th>0</th>\n      <td>0.000000</td>\n      <td>0.000000</td>\n      <td>0.000000</td>\n      <td>0.000000</td>\n      <td>0.000000</td>\n      <td>0.000000</td>\n      <td>0.000000</td>\n      <td>0.000000</td>\n      <td>0.000000</td>\n      <td>0.000000</td>\n      <td>...</td>\n      <td>0.000000</td>\n      <td>0.000000</td>\n      <td>0.000000</td>\n      <td>0.000000</td>\n      <td>0.000000</td>\n      <td>0.000000</td>\n      <td>0.000000</td>\n      <td>0.000000</td>\n      <td>0.000000</td>\n      <td>0.000000</td>\n    </tr>\n    <tr>\n      <th>1</th>\n      <td>3.215135</td>\n      <td>-2.039822</td>\n      <td>-1.991017</td>\n      <td>-1.874602</td>\n      <td>3.375530</td>\n      <td>-2.805663</td>\n      <td>1.647659</td>\n      <td>-2.811729</td>\n      <td>-3.131666</td>\n      <td>-1.880979</td>\n      <td>...</td>\n      <td>-0.563289</td>\n      <td>3.812085</td>\n      <td>-0.895236</td>\n      <td>0.120245</td>\n      <td>3.119622</td>\n      <td>0.190353</td>\n      <td>-1.900078</td>\n      <td>-2.479097</td>\n      <td>-0.229150</td>\n      <td>-0.140410</td>\n    </tr>\n    <tr>\n      <th>2</th>\n      <td>2.682374</td>\n      <td>-0.059880</td>\n      <td>-1.709466</td>\n      <td>0.929107</td>\n      <td>-0.586223</td>\n      <td>-0.812075</td>\n      <td>3.737223</td>\n      <td>-1.679718</td>\n      <td>-4.843754</td>\n      <td>1.652837</td>\n      <td>...</td>\n      <td>-0.728424</td>\n      <td>5.129432</td>\n      <td>-1.086249</td>\n      <td>-1.162141</td>\n      <td>0.742907</td>\n      <td>-1.912346</td>\n      <td>-3.197052</td>\n      <td>-2.823757</td>\n      <td>1.761540</td>\n      <td>-2.172132</td>\n    </tr>\n    <tr>\n      <th>3</th>\n      <td>3.583761</td>\n      <td>-2.879290</td>\n      <td>0.511685</td>\n      <td>-0.695925</td>\n      <td>3.157705</td>\n      <td>-0.685953</td>\n      <td>2.243956</td>\n      <td>-2.056694</td>\n      <td>-3.179038</td>\n      <td>-1.172965</td>\n      <td>...</td>\n      <td>0.711902</td>\n      <td>-0.934894</td>\n      <td>-2.205631</td>\n      <td>-0.492827</td>\n      <td>1.623653</td>\n      <td>-0.510843</td>\n      <td>-3.563397</td>\n      <td>-2.351778</td>\n      <td>0.207879</td>\n      <td>-1.253219</td>\n    </tr>\n    <tr>\n      <th>4</th>\n      <td>0.920667</td>\n      <td>-4.159053</td>\n      <td>1.667749</td>\n      <td>-2.287288</td>\n      <td>0.812242</td>\n      <td>-2.126994</td>\n      <td>3.033233</td>\n      <td>-4.145588</td>\n      <td>-2.513504</td>\n      <td>0.050523</td>\n      <td>...</td>\n      <td>-1.246630</td>\n      <td>1.154336</td>\n      <td>-0.579854</td>\n      <td>-2.764482</td>\n      <td>2.871315</td>\n      <td>-0.273873</td>\n      <td>-0.568649</td>\n      <td>-0.442415</td>\n      <td>-2.348348</td>\n      <td>-0.989500</td>\n    </tr>\n  </tbody>\n</table>\n<p>5 rows × 32 columns</p>\n</div>\n      <button class=\"colab-df-convert\" onclick=\"convertToInteractive('df-c9d1c8ca-6878-4195-b343-73102a85829e')\"\n              title=\"Convert this dataframe to an interactive table.\"\n              style=\"display:none;\">\n        \n  <svg xmlns=\"http://www.w3.org/2000/svg\" height=\"24px\"viewBox=\"0 0 24 24\"\n       width=\"24px\">\n    <path d=\"M0 0h24v24H0V0z\" fill=\"none\"/>\n    <path d=\"M18.56 5.44l.94 2.06.94-2.06 2.06-.94-2.06-.94-.94-2.06-.94 2.06-2.06.94zm-11 1L8.5 8.5l.94-2.06 2.06-.94-2.06-.94L8.5 2.5l-.94 2.06-2.06.94zm10 10l.94 2.06.94-2.06 2.06-.94-2.06-.94-.94-2.06-.94 2.06-2.06.94z\"/><path d=\"M17.41 7.96l-1.37-1.37c-.4-.4-.92-.59-1.43-.59-.52 0-1.04.2-1.43.59L10.3 9.45l-7.72 7.72c-.78.78-.78 2.05 0 2.83L4 21.41c.39.39.9.59 1.41.59.51 0 1.02-.2 1.41-.59l7.78-7.78 2.81-2.81c.8-.78.8-2.07 0-2.86zM5.41 20L4 18.59l7.72-7.72 1.47 1.35L5.41 20z\"/>\n  </svg>\n      </button>\n      \n  <style>\n    .colab-df-container {\n      display:flex;\n      flex-wrap:wrap;\n      gap: 12px;\n    }\n\n    .colab-df-convert {\n      background-color: #E8F0FE;\n      border: none;\n      border-radius: 50%;\n      cursor: pointer;\n      display: none;\n      fill: #1967D2;\n      height: 32px;\n      padding: 0 0 0 0;\n      width: 32px;\n    }\n\n    .colab-df-convert:hover {\n      background-color: #E2EBFA;\n      box-shadow: 0px 1px 2px rgba(60, 64, 67, 0.3), 0px 1px 3px 1px rgba(60, 64, 67, 0.15);\n      fill: #174EA6;\n    }\n\n    [theme=dark] .colab-df-convert {\n      background-color: #3B4455;\n      fill: #D2E3FC;\n    }\n\n    [theme=dark] .colab-df-convert:hover {\n      background-color: #434B5C;\n      box-shadow: 0px 1px 3px 1px rgba(0, 0, 0, 0.15);\n      filter: drop-shadow(0px 1px 2px rgba(0, 0, 0, 0.3));\n      fill: #FFFFFF;\n    }\n  </style>\n\n      <script>\n        const buttonEl =\n          document.querySelector('#df-c9d1c8ca-6878-4195-b343-73102a85829e button.colab-df-convert');\n        buttonEl.style.display =\n          google.colab.kernel.accessAllowed ? 'block' : 'none';\n\n        async function convertToInteractive(key) {\n          const element = document.querySelector('#df-c9d1c8ca-6878-4195-b343-73102a85829e');\n          const dataTable =\n            await google.colab.kernel.invokeFunction('convertToInteractive',\n                                                     [key], {});\n          if (!dataTable) return;\n\n          const docLinkHtml = 'Like what you see? Visit the ' +\n            '<a target=\"_blank\" href=https://colab.research.google.com/notebooks/data_table.ipynb>data table notebook</a>'\n            + ' to learn more about interactive tables.';\n          element.innerHTML = '';\n          dataTable['output_type'] = 'display_data';\n          await google.colab.output.renderOutput(dataTable, element);\n          const docLink = document.createElement('div');\n          docLink.innerHTML = docLinkHtml;\n          element.appendChild(docLink);\n        }\n      </script>\n    </div>\n  </div>\n  "
     },
     "metadata": {},
     "execution_count": 84
    }
   ],
   "source": [
    "word_vectors.head()"
   ]
  },
  {
   "cell_type": "code",
   "execution_count": 85,
   "metadata": {},
   "outputs": [],
   "source": [
    "only_words = only_words[:10000]"
   ]
  },
  {
   "cell_type": "code",
   "execution_count": 86,
   "metadata": {},
   "outputs": [],
   "source": [
    "word_vectors[\"metadata\"] =only_words"
   ]
  },
  {
   "cell_type": "code",
   "execution_count": 87,
   "metadata": {},
   "outputs": [
    {
     "output_type": "execute_result",
     "data": {
      "text/plain": [
       "          0         1         2         3         4         5         6  \\\n",
       "0  0.000000  0.000000  0.000000  0.000000  0.000000  0.000000  0.000000   \n",
       "1  3.215135 -2.039822 -1.991017 -1.874602  3.375530 -2.805663  1.647659   \n",
       "2  2.682374 -0.059880 -1.709466  0.929107 -0.586223 -0.812075  3.737223   \n",
       "3  3.583761 -2.879290  0.511685 -0.695925  3.157705 -0.685953  2.243956   \n",
       "4  0.920667 -4.159053  1.667749 -2.287288  0.812242 -2.126994  3.033233   \n",
       "\n",
       "          7         8         9  ...        23        24        25        26  \\\n",
       "0  0.000000  0.000000  0.000000  ...  0.000000  0.000000  0.000000  0.000000   \n",
       "1 -2.811729 -3.131666 -1.880979  ...  3.812085 -0.895236  0.120245  3.119622   \n",
       "2 -1.679718 -4.843754  1.652837  ...  5.129432 -1.086249 -1.162141  0.742907   \n",
       "3 -2.056694 -3.179038 -1.172965  ... -0.934894 -2.205631 -0.492827  1.623653   \n",
       "4 -4.145588 -2.513504  0.050523  ...  1.154336 -0.579854 -2.764482  2.871315   \n",
       "\n",
       "         27        28        29        30        31  metadata  \n",
       "0  0.000000  0.000000  0.000000  0.000000  0.000000     [PAD]  \n",
       "1  0.190353 -1.900078 -2.479097 -0.229150 -0.140410       the  \n",
       "2 -1.912346 -3.197052 -2.823757  1.761540 -2.172132         a  \n",
       "3 -0.510843 -3.563397 -2.351778  0.207879 -1.253219       and  \n",
       "4 -0.273873 -0.568649 -0.442415 -2.348348 -0.989500        of  \n",
       "\n",
       "[5 rows x 33 columns]"
      ],
      "text/html": "\n  <div id=\"df-83e934ec-f81a-4d4d-89ac-7a4d28a29092\">\n    <div class=\"colab-df-container\">\n      <div>\n<style scoped>\n    .dataframe tbody tr th:only-of-type {\n        vertical-align: middle;\n    }\n\n    .dataframe tbody tr th {\n        vertical-align: top;\n    }\n\n    .dataframe thead th {\n        text-align: right;\n    }\n</style>\n<table border=\"1\" class=\"dataframe\">\n  <thead>\n    <tr style=\"text-align: right;\">\n      <th></th>\n      <th>0</th>\n      <th>1</th>\n      <th>2</th>\n      <th>3</th>\n      <th>4</th>\n      <th>5</th>\n      <th>6</th>\n      <th>7</th>\n      <th>8</th>\n      <th>9</th>\n      <th>...</th>\n      <th>23</th>\n      <th>24</th>\n      <th>25</th>\n      <th>26</th>\n      <th>27</th>\n      <th>28</th>\n      <th>29</th>\n      <th>30</th>\n      <th>31</th>\n      <th>metadata</th>\n    </tr>\n  </thead>\n  <tbody>\n    <tr>\n      <th>0</th>\n      <td>0.000000</td>\n      <td>0.000000</td>\n      <td>0.000000</td>\n      <td>0.000000</td>\n      <td>0.000000</td>\n      <td>0.000000</td>\n      <td>0.000000</td>\n      <td>0.000000</td>\n      <td>0.000000</td>\n      <td>0.000000</td>\n      <td>...</td>\n      <td>0.000000</td>\n      <td>0.000000</td>\n      <td>0.000000</td>\n      <td>0.000000</td>\n      <td>0.000000</td>\n      <td>0.000000</td>\n      <td>0.000000</td>\n      <td>0.000000</td>\n      <td>0.000000</td>\n      <td>[PAD]</td>\n    </tr>\n    <tr>\n      <th>1</th>\n      <td>3.215135</td>\n      <td>-2.039822</td>\n      <td>-1.991017</td>\n      <td>-1.874602</td>\n      <td>3.375530</td>\n      <td>-2.805663</td>\n      <td>1.647659</td>\n      <td>-2.811729</td>\n      <td>-3.131666</td>\n      <td>-1.880979</td>\n      <td>...</td>\n      <td>3.812085</td>\n      <td>-0.895236</td>\n      <td>0.120245</td>\n      <td>3.119622</td>\n      <td>0.190353</td>\n      <td>-1.900078</td>\n      <td>-2.479097</td>\n      <td>-0.229150</td>\n      <td>-0.140410</td>\n      <td>the</td>\n    </tr>\n    <tr>\n      <th>2</th>\n      <td>2.682374</td>\n      <td>-0.059880</td>\n      <td>-1.709466</td>\n      <td>0.929107</td>\n      <td>-0.586223</td>\n      <td>-0.812075</td>\n      <td>3.737223</td>\n      <td>-1.679718</td>\n      <td>-4.843754</td>\n      <td>1.652837</td>\n      <td>...</td>\n      <td>5.129432</td>\n      <td>-1.086249</td>\n      <td>-1.162141</td>\n      <td>0.742907</td>\n      <td>-1.912346</td>\n      <td>-3.197052</td>\n      <td>-2.823757</td>\n      <td>1.761540</td>\n      <td>-2.172132</td>\n      <td>a</td>\n    </tr>\n    <tr>\n      <th>3</th>\n      <td>3.583761</td>\n      <td>-2.879290</td>\n      <td>0.511685</td>\n      <td>-0.695925</td>\n      <td>3.157705</td>\n      <td>-0.685953</td>\n      <td>2.243956</td>\n      <td>-2.056694</td>\n      <td>-3.179038</td>\n      <td>-1.172965</td>\n      <td>...</td>\n      <td>-0.934894</td>\n      <td>-2.205631</td>\n      <td>-0.492827</td>\n      <td>1.623653</td>\n      <td>-0.510843</td>\n      <td>-3.563397</td>\n      <td>-2.351778</td>\n      <td>0.207879</td>\n      <td>-1.253219</td>\n      <td>and</td>\n    </tr>\n    <tr>\n      <th>4</th>\n      <td>0.920667</td>\n      <td>-4.159053</td>\n      <td>1.667749</td>\n      <td>-2.287288</td>\n      <td>0.812242</td>\n      <td>-2.126994</td>\n      <td>3.033233</td>\n      <td>-4.145588</td>\n      <td>-2.513504</td>\n      <td>0.050523</td>\n      <td>...</td>\n      <td>1.154336</td>\n      <td>-0.579854</td>\n      <td>-2.764482</td>\n      <td>2.871315</td>\n      <td>-0.273873</td>\n      <td>-0.568649</td>\n      <td>-0.442415</td>\n      <td>-2.348348</td>\n      <td>-0.989500</td>\n      <td>of</td>\n    </tr>\n  </tbody>\n</table>\n<p>5 rows × 33 columns</p>\n</div>\n      <button class=\"colab-df-convert\" onclick=\"convertToInteractive('df-83e934ec-f81a-4d4d-89ac-7a4d28a29092')\"\n              title=\"Convert this dataframe to an interactive table.\"\n              style=\"display:none;\">\n        \n  <svg xmlns=\"http://www.w3.org/2000/svg\" height=\"24px\"viewBox=\"0 0 24 24\"\n       width=\"24px\">\n    <path d=\"M0 0h24v24H0V0z\" fill=\"none\"/>\n    <path d=\"M18.56 5.44l.94 2.06.94-2.06 2.06-.94-2.06-.94-.94-2.06-.94 2.06-2.06.94zm-11 1L8.5 8.5l.94-2.06 2.06-.94-2.06-.94L8.5 2.5l-.94 2.06-2.06.94zm10 10l.94 2.06.94-2.06 2.06-.94-2.06-.94-.94-2.06-.94 2.06-2.06.94z\"/><path d=\"M17.41 7.96l-1.37-1.37c-.4-.4-.92-.59-1.43-.59-.52 0-1.04.2-1.43.59L10.3 9.45l-7.72 7.72c-.78.78-.78 2.05 0 2.83L4 21.41c.39.39.9.59 1.41.59.51 0 1.02-.2 1.41-.59l7.78-7.78 2.81-2.81c.8-.78.8-2.07 0-2.86zM5.41 20L4 18.59l7.72-7.72 1.47 1.35L5.41 20z\"/>\n  </svg>\n      </button>\n      \n  <style>\n    .colab-df-container {\n      display:flex;\n      flex-wrap:wrap;\n      gap: 12px;\n    }\n\n    .colab-df-convert {\n      background-color: #E8F0FE;\n      border: none;\n      border-radius: 50%;\n      cursor: pointer;\n      display: none;\n      fill: #1967D2;\n      height: 32px;\n      padding: 0 0 0 0;\n      width: 32px;\n    }\n\n    .colab-df-convert:hover {\n      background-color: #E2EBFA;\n      box-shadow: 0px 1px 2px rgba(60, 64, 67, 0.3), 0px 1px 3px 1px rgba(60, 64, 67, 0.15);\n      fill: #174EA6;\n    }\n\n    [theme=dark] .colab-df-convert {\n      background-color: #3B4455;\n      fill: #D2E3FC;\n    }\n\n    [theme=dark] .colab-df-convert:hover {\n      background-color: #434B5C;\n      box-shadow: 0px 1px 3px 1px rgba(0, 0, 0, 0.15);\n      filter: drop-shadow(0px 1px 2px rgba(0, 0, 0, 0.3));\n      fill: #FFFFFF;\n    }\n  </style>\n\n      <script>\n        const buttonEl =\n          document.querySelector('#df-83e934ec-f81a-4d4d-89ac-7a4d28a29092 button.colab-df-convert');\n        buttonEl.style.display =\n          google.colab.kernel.accessAllowed ? 'block' : 'none';\n\n        async function convertToInteractive(key) {\n          const element = document.querySelector('#df-83e934ec-f81a-4d4d-89ac-7a4d28a29092');\n          const dataTable =\n            await google.colab.kernel.invokeFunction('convertToInteractive',\n                                                     [key], {});\n          if (!dataTable) return;\n\n          const docLinkHtml = 'Like what you see? Visit the ' +\n            '<a target=\"_blank\" href=https://colab.research.google.com/notebooks/data_table.ipynb>data table notebook</a>'\n            + ' to learn more about interactive tables.';\n          element.innerHTML = '';\n          dataTable['output_type'] = 'display_data';\n          await google.colab.output.renderOutput(dataTable, element);\n          const docLink = document.createElement('div');\n          docLink.innerHTML = docLinkHtml;\n          element.appendChild(docLink);\n        }\n      </script>\n    </div>\n  </div>\n  "
     },
     "metadata": {},
     "execution_count": 87
    }
   ],
   "source": [
    "word_vectors.head()"
   ]
  },
  {
   "cell_type": "code",
   "execution_count": 88,
   "metadata": {},
   "outputs": [],
   "source": [
    "word_vectors.to_csv(\"imdb_prep_meta_data.tsv\",sep =\"\\t\",index = False)"
   ]
  },
  {
   "cell_type": "code",
   "execution_count": 89,
   "metadata": {},
   "outputs": [
    {
     "output_type": "execute_result",
     "data": {
      "text/plain": [
       "          0         1         2         3         4         5         6  \\\n",
       "0  0.000000  0.000000  0.000000  0.000000  0.000000  0.000000  0.000000   \n",
       "1  3.215135 -2.039822 -1.991017 -1.874602  3.375530 -2.805663  1.647659   \n",
       "2  2.682374 -0.059880 -1.709466  0.929107 -0.586223 -0.812075  3.737223   \n",
       "3  3.583761 -2.879290  0.511685 -0.695925  3.157705 -0.685953  2.243956   \n",
       "4  0.920667 -4.159053  1.667749 -2.287288  0.812242 -2.126994  3.033233   \n",
       "\n",
       "          7         8         9  ...        23        24        25        26  \\\n",
       "0  0.000000  0.000000  0.000000  ...  0.000000  0.000000  0.000000  0.000000   \n",
       "1 -2.811729 -3.131666 -1.880979  ...  3.812085 -0.895236  0.120245  3.119622   \n",
       "2 -1.679718 -4.843754  1.652837  ...  5.129432 -1.086249 -1.162141  0.742907   \n",
       "3 -2.056694 -3.179038 -1.172965  ... -0.934894 -2.205631 -0.492827  1.623653   \n",
       "4 -4.145588 -2.513504  0.050523  ...  1.154336 -0.579854 -2.764482  2.871315   \n",
       "\n",
       "         27        28        29        30        31  metadata  \n",
       "0  0.000000  0.000000  0.000000  0.000000  0.000000     [PAD]  \n",
       "1  0.190353 -1.900078 -2.479097 -0.229150 -0.140410       the  \n",
       "2 -1.912346 -3.197052 -2.823757  1.761540 -2.172132         a  \n",
       "3 -0.510843 -3.563397 -2.351778  0.207879 -1.253219       and  \n",
       "4 -0.273873 -0.568649 -0.442415 -2.348348 -0.989500        of  \n",
       "\n",
       "[5 rows x 33 columns]"
      ],
      "text/html": "\n  <div id=\"df-f6697bd3-f9c0-48db-9cf0-14f39b969b86\">\n    <div class=\"colab-df-container\">\n      <div>\n<style scoped>\n    .dataframe tbody tr th:only-of-type {\n        vertical-align: middle;\n    }\n\n    .dataframe tbody tr th {\n        vertical-align: top;\n    }\n\n    .dataframe thead th {\n        text-align: right;\n    }\n</style>\n<table border=\"1\" class=\"dataframe\">\n  <thead>\n    <tr style=\"text-align: right;\">\n      <th></th>\n      <th>0</th>\n      <th>1</th>\n      <th>2</th>\n      <th>3</th>\n      <th>4</th>\n      <th>5</th>\n      <th>6</th>\n      <th>7</th>\n      <th>8</th>\n      <th>9</th>\n      <th>...</th>\n      <th>23</th>\n      <th>24</th>\n      <th>25</th>\n      <th>26</th>\n      <th>27</th>\n      <th>28</th>\n      <th>29</th>\n      <th>30</th>\n      <th>31</th>\n      <th>metadata</th>\n    </tr>\n  </thead>\n  <tbody>\n    <tr>\n      <th>0</th>\n      <td>0.000000</td>\n      <td>0.000000</td>\n      <td>0.000000</td>\n      <td>0.000000</td>\n      <td>0.000000</td>\n      <td>0.000000</td>\n      <td>0.000000</td>\n      <td>0.000000</td>\n      <td>0.000000</td>\n      <td>0.000000</td>\n      <td>...</td>\n      <td>0.000000</td>\n      <td>0.000000</td>\n      <td>0.000000</td>\n      <td>0.000000</td>\n      <td>0.000000</td>\n      <td>0.000000</td>\n      <td>0.000000</td>\n      <td>0.000000</td>\n      <td>0.000000</td>\n      <td>[PAD]</td>\n    </tr>\n    <tr>\n      <th>1</th>\n      <td>3.215135</td>\n      <td>-2.039822</td>\n      <td>-1.991017</td>\n      <td>-1.874602</td>\n      <td>3.375530</td>\n      <td>-2.805663</td>\n      <td>1.647659</td>\n      <td>-2.811729</td>\n      <td>-3.131666</td>\n      <td>-1.880979</td>\n      <td>...</td>\n      <td>3.812085</td>\n      <td>-0.895236</td>\n      <td>0.120245</td>\n      <td>3.119622</td>\n      <td>0.190353</td>\n      <td>-1.900078</td>\n      <td>-2.479097</td>\n      <td>-0.229150</td>\n      <td>-0.140410</td>\n      <td>the</td>\n    </tr>\n    <tr>\n      <th>2</th>\n      <td>2.682374</td>\n      <td>-0.059880</td>\n      <td>-1.709466</td>\n      <td>0.929107</td>\n      <td>-0.586223</td>\n      <td>-0.812075</td>\n      <td>3.737223</td>\n      <td>-1.679718</td>\n      <td>-4.843754</td>\n      <td>1.652837</td>\n      <td>...</td>\n      <td>5.129432</td>\n      <td>-1.086249</td>\n      <td>-1.162141</td>\n      <td>0.742907</td>\n      <td>-1.912346</td>\n      <td>-3.197052</td>\n      <td>-2.823757</td>\n      <td>1.761540</td>\n      <td>-2.172132</td>\n      <td>a</td>\n    </tr>\n    <tr>\n      <th>3</th>\n      <td>3.583761</td>\n      <td>-2.879290</td>\n      <td>0.511685</td>\n      <td>-0.695925</td>\n      <td>3.157705</td>\n      <td>-0.685953</td>\n      <td>2.243956</td>\n      <td>-2.056694</td>\n      <td>-3.179038</td>\n      <td>-1.172965</td>\n      <td>...</td>\n      <td>-0.934894</td>\n      <td>-2.205631</td>\n      <td>-0.492827</td>\n      <td>1.623653</td>\n      <td>-0.510843</td>\n      <td>-3.563397</td>\n      <td>-2.351778</td>\n      <td>0.207879</td>\n      <td>-1.253219</td>\n      <td>and</td>\n    </tr>\n    <tr>\n      <th>4</th>\n      <td>0.920667</td>\n      <td>-4.159053</td>\n      <td>1.667749</td>\n      <td>-2.287288</td>\n      <td>0.812242</td>\n      <td>-2.126994</td>\n      <td>3.033233</td>\n      <td>-4.145588</td>\n      <td>-2.513504</td>\n      <td>0.050523</td>\n      <td>...</td>\n      <td>1.154336</td>\n      <td>-0.579854</td>\n      <td>-2.764482</td>\n      <td>2.871315</td>\n      <td>-0.273873</td>\n      <td>-0.568649</td>\n      <td>-0.442415</td>\n      <td>-2.348348</td>\n      <td>-0.989500</td>\n      <td>of</td>\n    </tr>\n  </tbody>\n</table>\n<p>5 rows × 33 columns</p>\n</div>\n      <button class=\"colab-df-convert\" onclick=\"convertToInteractive('df-f6697bd3-f9c0-48db-9cf0-14f39b969b86')\"\n              title=\"Convert this dataframe to an interactive table.\"\n              style=\"display:none;\">\n        \n  <svg xmlns=\"http://www.w3.org/2000/svg\" height=\"24px\"viewBox=\"0 0 24 24\"\n       width=\"24px\">\n    <path d=\"M0 0h24v24H0V0z\" fill=\"none\"/>\n    <path d=\"M18.56 5.44l.94 2.06.94-2.06 2.06-.94-2.06-.94-.94-2.06-.94 2.06-2.06.94zm-11 1L8.5 8.5l.94-2.06 2.06-.94-2.06-.94L8.5 2.5l-.94 2.06-2.06.94zm10 10l.94 2.06.94-2.06 2.06-.94-2.06-.94-.94-2.06-.94 2.06-2.06.94z\"/><path d=\"M17.41 7.96l-1.37-1.37c-.4-.4-.92-.59-1.43-.59-.52 0-1.04.2-1.43.59L10.3 9.45l-7.72 7.72c-.78.78-.78 2.05 0 2.83L4 21.41c.39.39.9.59 1.41.59.51 0 1.02-.2 1.41-.59l7.78-7.78 2.81-2.81c.8-.78.8-2.07 0-2.86zM5.41 20L4 18.59l7.72-7.72 1.47 1.35L5.41 20z\"/>\n  </svg>\n      </button>\n      \n  <style>\n    .colab-df-container {\n      display:flex;\n      flex-wrap:wrap;\n      gap: 12px;\n    }\n\n    .colab-df-convert {\n      background-color: #E8F0FE;\n      border: none;\n      border-radius: 50%;\n      cursor: pointer;\n      display: none;\n      fill: #1967D2;\n      height: 32px;\n      padding: 0 0 0 0;\n      width: 32px;\n    }\n\n    .colab-df-convert:hover {\n      background-color: #E2EBFA;\n      box-shadow: 0px 1px 2px rgba(60, 64, 67, 0.3), 0px 1px 3px 1px rgba(60, 64, 67, 0.15);\n      fill: #174EA6;\n    }\n\n    [theme=dark] .colab-df-convert {\n      background-color: #3B4455;\n      fill: #D2E3FC;\n    }\n\n    [theme=dark] .colab-df-convert:hover {\n      background-color: #434B5C;\n      box-shadow: 0px 1px 3px 1px rgba(0, 0, 0, 0.15);\n      filter: drop-shadow(0px 1px 2px rgba(0, 0, 0, 0.3));\n      fill: #FFFFFF;\n    }\n  </style>\n\n      <script>\n        const buttonEl =\n          document.querySelector('#df-f6697bd3-f9c0-48db-9cf0-14f39b969b86 button.colab-df-convert');\n        buttonEl.style.display =\n          google.colab.kernel.accessAllowed ? 'block' : 'none';\n\n        async function convertToInteractive(key) {\n          const element = document.querySelector('#df-f6697bd3-f9c0-48db-9cf0-14f39b969b86');\n          const dataTable =\n            await google.colab.kernel.invokeFunction('convertToInteractive',\n                                                     [key], {});\n          if (!dataTable) return;\n\n          const docLinkHtml = 'Like what you see? Visit the ' +\n            '<a target=\"_blank\" href=https://colab.research.google.com/notebooks/data_table.ipynb>data table notebook</a>'\n            + ' to learn more about interactive tables.';\n          element.innerHTML = '';\n          dataTable['output_type'] = 'display_data';\n          await google.colab.output.renderOutput(dataTable, element);\n          const docLink = document.createElement('div');\n          docLink.innerHTML = docLinkHtml;\n          element.appendChild(docLink);\n        }\n      </script>\n    </div>\n  </div>\n  "
     },
     "metadata": {},
     "execution_count": 89
    }
   ],
   "source": [
    "pd.read_csv(\"imdb_prep_meta_data.tsv\",sep =\"\\t\").head()"
   ]
  },
  {
   "cell_type": "code",
   "execution_count": 86,
   "metadata": {},
   "outputs": [
    {
     "output_type": "execute_result",
     "data": {
      "text/plain": [
       "(140808, 17)"
      ]
     },
     "metadata": {},
     "execution_count": 86
    }
   ],
   "source": [
    "word_vectors"
   ]
  },
  {
   "cell_type": "code",
   "execution_count": 90,
   "metadata": {},
   "outputs": [],
   "source": [
    "test_data = pd.read_csv(\"/content/drive/MyDrive/DL_projects/text_classification/dataset/imdb_dataset.csv\")[:100]"
   ]
  },
  {
   "cell_type": "code",
   "execution_count": 91,
   "metadata": {},
   "outputs": [
    {
     "output_type": "execute_result",
     "data": {
      "text/plain": [
       "\"One of the other reviewers has mentioned that after watching just 1 Oz episode you'll be hooked. They are right, as this is exactly what happened with me.<br /><br />The first thing that struck me about Oz was its brutality and unflinching scenes of violence, which set in right from the word GO. Trust me, this is not a show for the faint hearted or timid. This show pulls no punches with regards to drugs, sex or violence. Its is hardcore, in the classic use of the word.<br /><br />It is called OZ as that is the nickname given to the Oswald Maximum Security State Penitentary. It focuses mainly on Emerald City, an experimental section of the prison where all the cells have glass fronts and face inwards, so privacy is not high on the agenda. Em City is home to many..Aryans, Muslims, gangstas, Latinos, Christians, Italians, Irish and more....so scuffles, death stares, dodgy dealings and shady agreements are never far away.<br /><br />I would say the main appeal of the show is due to the fact that it goes where other shows wouldn't dare. Forget pretty pictures painted for mainstream audiences, forget charm, forget romance...OZ doesn't mess around. The first episode I ever saw struck me as so nasty it was surreal, I couldn't say I was ready for it, but as I watched more, I developed a taste for Oz, and got accustomed to the high levels of graphic violence. Not just violence, but injustice (crooked guards who'll be sold out for a nickel, inmates who'll kill on order and get away with it, well mannered, middle class inmates being turned into prison bitches due to their lack of street skills or prison experience) Watching Oz, you may become comfortable with what is uncomfortable viewing....thats if you can get in touch with your darker side.\""
      ],
      "application/vnd.google.colaboratory.intrinsic+json": {
       "type": "string"
      }
     },
     "metadata": {},
     "execution_count": 91
    }
   ],
   "source": [
    "test_data.iloc[0]['review']"
   ]
  },
  {
   "cell_type": "code",
   "execution_count": 92,
   "metadata": {},
   "outputs": [
    {
     "output_type": "stream",
     "name": "stdout",
     "text": [
      "POSITIVE\nOne of the other reviewers has mentioned that after watching just 1 Oz episode you'll be hooked. They are right, as this is exactly what happened with me.<br /><br />The first thing that struck me about Oz was its brutality and unflinching scenes of violence, which set in right from the word GO. Trust me, this is not a show for the faint hearted or timid. This show pulls no punches with regards to drugs, sex or violence. Its is hardcore, in the classic use of the word.<br /><br />It is called OZ as that is the nickname given to the Oswald Maximum Security State Penitentary. It focuses mainly on Emerald City, an experimental section of the prison where all the cells have glass fronts and face inwards, so privacy is not high on the agenda. Em City is home to many..Aryans, Muslims, gangstas, Latinos, Christians, Italians, Irish and more....so scuffles, death stares, dodgy dealings and shady agreements are never far away.<br /><br />I would say the main appeal of the show is due to the fact that it goes where other shows wouldn't dare. Forget pretty pictures painted for mainstream audiences, forget charm, forget romance...OZ doesn't mess around. The first episode I ever saw struck me as so nasty it was surreal, I couldn't say I was ready for it, but as I watched more, I developed a taste for Oz, and got accustomed to the high levels of graphic violence. Not just violence, but injustice (crooked guards who'll be sold out for a nickel, inmates who'll kill on order and get away with it, well mannered, middle class inmates being turned into prison bitches due to their lack of street skills or prison experience) Watching Oz, you may become comfortable with what is uncomfortable viewing....thats if you can get in touch with your darker side.\n\nPOSITIVE\nA wonderful little production. <br /><br />The filming technique is very unassuming- very old-time-BBC fashion and gives a comforting, and sometimes discomforting, sense of realism to the entire piece. <br /><br />The actors are extremely well chosen- Michael Sheen not only \"has got all the polari\" but he has all the voices down pat too! You can truly see the seamless editing guided by the references to Williams' diary entries, not only is it well worth the watching but it is a terrificly written and performed piece. A masterful production about one of the great master's of comedy and his life. <br /><br />The realism really comes home with the little things: the fantasy of the guard which, rather than use the traditional 'dream' techniques remains solid then disappears. It plays on our knowledge and our senses, particularly with the scenes concerning Orton and Halliwell and the sets (particularly of their flat with Halliwell's murals decorating every surface) are terribly well done.\n\nPOSITIVE\nI thought this was a wonderful way to spend time on a too hot summer weekend, sitting in the air conditioned theater and watching a light-hearted comedy. The plot is simplistic, but the dialogue is witty and the characters are likable (even the well bread suspected serial killer). While some may be disappointed when they realize this is not Match Point 2: Risk Addiction, I thought it was proof that Woody Allen is still fully in control of the style many of us have grown to love.<br /><br />This was the most I'd laughed at one of Woody's comedies in years (dare I say a decade?). While I've never been impressed with Scarlet Johanson, in this she managed to tone down her \"sexy\" image and jumped right into a average, but spirited young woman.<br /><br />This may not be the crown jewel of his career, but it was wittier than \"Devil Wears Prada\" and more interesting than \"Superman\" a great comedy to go see with friends.\n\nNEGATIVE\nBasically there's a family where a little boy (Jake) thinks there's a zombie in his closet & his parents are fighting all the time.<br /><br />This movie is slower than a soap opera... and suddenly, Jake decides to become Rambo and kill the zombie.<br /><br />OK, first of all when you're going to make a film you must Decide if its a thriller or a drama! As a drama the movie is watchable. Parents are divorcing & arguing like in real life. And then we have Jake with his closet which totally ruins all the film! I expected to see a BOOGEYMAN similar movie, and instead i watched a drama with some meaningless thriller spots.<br /><br />3 out of 10 just for the well playing parents & descent dialogs. As for the shots with Jake: just ignore them.\n\nPOSITIVE\nPetter Mattei's \"Love in the Time of Money\" is a visually stunning film to watch. Mr. Mattei offers us a vivid portrait about human relations. This is a movie that seems to be telling us what money, power and success do to people in the different situations we encounter. <br /><br />This being a variation on the Arthur Schnitzler's play about the same theme, the director transfers the action to the present time New York where all these different characters meet and connect. Each one is connected in one way, or another to the next person, but no one seems to know the previous point of contact. Stylishly, the film has a sophisticated luxurious look. We are taken to see how these people live and the world they live in their own habitat.<br /><br />The only thing one gets out of all these souls in the picture is the different stages of loneliness each one inhabits. A big city is not exactly the best place in which human relations find sincere fulfillment, as one discerns is the case with most of the people we encounter.<br /><br />The acting is good under Mr. Mattei's direction. Steve Buscemi, Rosario Dawson, Carol Kane, Michael Imperioli, Adrian Grenier, and the rest of the talented cast, make these characters come alive.<br /><br />We wish Mr. Mattei good luck and await anxiously for his next work.\n\nPOSITIVE\nProbably my all-time favorite movie, a story of selflessness, sacrifice and dedication to a noble cause, but it's not preachy or boring. It just never gets old, despite my having seen it some 15 or more times in the last 25 years. Paul Lukas' performance brings tears to my eyes, and Bette Davis, in one of her very few truly sympathetic roles, is a delight. The kids are, as grandma says, more like \"dressed-up midgets\" than children, but that only makes them more fun to watch. And the mother's slow awakening to what's happening in the world and under her own roof is believable and startling. If I had a dozen thumbs, they'd all be \"up\" for this movie.\n\nPOSITIVE\nI sure would like to see a resurrection of a up dated Seahunt series with the tech they have today it would bring back the kid excitement in me.I grew up on black and white TV and Seahunt with Gunsmoke were my hero's every week.You have my vote for a comeback of a new sea hunt.We need a change of pace in TV and this would work for a world of under water adventure.Oh by the way thank you for an outlet like this to view many viewpoints about TV and the many movies.So any ole way I believe I've got what I wanna say.Would be nice to read some more plus points about sea hunt.If my rhymes would be 10 lines would you let me submit,or leave me out to be in doubt and have me to quit,If this is so then I must go so lets do it.\n\nNEGATIVE\nThis show was an amazing, fresh & innovative idea in the 70's when it first aired. The first 7 or 8 years were brilliant, but things dropped off after that. By 1990, the show was not really funny anymore, and it's continued its decline further to the complete waste of time it is today.<br /><br />It's truly disgraceful how far this show has fallen. The writing is painfully bad, the performances are almost as bad - if not for the mildly entertaining respite of the guest-hosts, this show probably wouldn't still be on the air. I find it so hard to believe that the same creator that hand-selected the original cast also chose the band of hacks that followed. How can one recognize such brilliance and then see fit to replace it with such mediocrity? I felt I must give 2 stars out of respect for the original cast that made this show such a huge success. As it is now, the show is just awful. I can't believe it's still on the air.\n\nNEGATIVE\nEncouraged by the positive comments about this film on here I was looking forward to watching this film. Bad mistake. I've seen 950+ films and this is truly one of the worst of them - it's awful in almost every way: editing, pacing, storyline, 'acting,' soundtrack (the film's only song - a lame country tune - is played no less than four times). The film looks cheap and nasty and is boring in the extreme. Rarely have I been so happy to see the end credits of a film. <br /><br />The only thing that prevents me giving this a 1-score is Harvey Keitel - while this is far from his best performance he at least seems to be making a bit of an effort. One for Keitel obsessives only.\n\nPOSITIVE\nIf you like original gut wrenching laughter you will like this movie. If you are young or old then you will love this movie, hell even my mom liked it.<br /><br />Great Camp!!!\n\n"
     ]
    }
   ],
   "source": [
    "for i in range(10):\n",
    "    if test_data['sentiment'][i] == 'positive':\n",
    "        print(\"POSITIVE\")\n",
    "        print(test_data.iloc[i]['review'])\n",
    "        print()\n",
    "    else:\n",
    "        print(\"NEGATIVE\")\n",
    "        print(test_data.iloc[i]['review'])\n",
    "        print()"
   ]
  },
  {
   "cell_type": "code",
   "execution_count": 130,
   "metadata": {},
   "outputs": [
    {
     "output_type": "stream",
     "name": "stdout",
     "text": [
      "HAM\nI have done a lot of international travel, both on business and as a tourist. For both types I assure you the best advice is also the oldest: Always drink the wine of the country. In this movie the archangel Michael comes to Earth on business, wraps it up quickly and decides to hang around for a little touring. Boy! Does he \"drink the wine of the country.\"<br /><br />Could man be drunk forever with liquor, love and fights <br /><br />He'd lief rise up of mornings and lief lie down of nights.<br /><br />These are things you can't do in Heaven so he enjoys them while he's here! Of course it turns out he had a couple of other jobs to tackle and, if he is less direct about them than he was about the first one, he is just as successful. The final scene is a little schmaltzy but it is also wonderful. Jean Stapleton gets to dance with John Travolta.\n\nHAM\nOne of the most frightening game experiences ever that will make you keep the lights on next to your bed. Great storyline with a romantic, horrific, and ironic plot. Fans of the original Resident Evil will be in for a surprise of a returning character! Not to mention that the voice-acting have drastically improved over the previous of the series. Don't miss out on the best of the series.\n\nHAM\nI was amazingly impressed by this movie. It contained fundamental elements of depression, grief, loneliness, despair, hope, dreams and companionship. It wasn't merely about a genius musician who hit rock bottom but it was about a man caught up in grief trying drastically to find solace within his music. He finds a companion who comes with her own issues. Claire and Des were able to provide each other with friendship and love but more importantly a conclusion to events which had shaped their life for the worst. <br /><br />Des is an unlikely character by todays standards of a rock star. Yet he has musical genius. He also has an event in his past that has made him stagnate, while things around him literally go to ruins. His focus is creating his Whale Music, in fact it becomes an obsession for him.<br /><br />Claire is the streetwise kid that needs a place to stay. She finds hidden talents while being in Des company. She also finds a mutual friend that accepts her. She learns to trust him over a period of time.<br /><br />These two find love with one another. Not the mind blowing, sex infused kind of passion, but a love where friendship and understanding means more. For two people who have been hurt, they find trust together.\n\nSPAM\nThis film is stale, and misses the mark. It is far off compared to the 89 Batman that it tries to coppy. That women singer whats her name can not act, and we see why her film carrier died. Notice how this film died in the box office no one see this film on tv either. My uncle and dad were expecting Batman, and the films impression is more like Cop Rock. Not worth renting 3/10\n\nHAM\nAt last!! Sandra Bullock is indeed a beautiful woman, but I've finally found a film that she gets to be an actress! Forget the predictable Keanu-fodder of SPEED, forget the predictable Kleenex-fodder of WHILE YOU WERE SLEEPING - this tests her!<br /><br />And she is great! A techno-feminist role that really works well on screen, on a subject that is very close to the bone. The issues raised don't seem far-fetched at all and the whole experience, helped along by a fine supporting cast, makes for quite an un-nerving couple of hours.<br /><br />You may never enter another chat-room again, in fact I'm getting quite nervous just writing this review...er...bye!\n\n"
     ]
    }
   ],
   "source": [
    "for i in range(5):\n",
    "    if test_data[1][i] == 1:\n",
    "        print(\"HAM\")\n",
    "        print(test_data[3][i])\n",
    "        print()\n",
    "\n",
    "    else:\n",
    "        print(\"SPAM\")\n",
    "        print(test_data[3][i])\n",
    "        print()\n",
    "\n",
    "\n",
    "# test_data[3]"
   ]
  },
  {
   "cell_type": "code",
   "execution_count": null,
   "metadata": {},
   "outputs": [],
   "source": []
  }
 ],
 "metadata": {
  "kernelspec": {
   "name": "python3",
   "display_name": "Python 3.7.15 64-bit"
  },
  "language_info": {
   "codemirror_mode": {
    "name": "ipython",
    "version": 3
   },
   "file_extension": ".py",
   "mimetype": "text/x-python",
   "name": "python",
   "nbconvert_exporter": "python",
   "pygments_lexer": "ipython3",
   "version": "3.7.15"
  },
  "metadata": {
   "interpreter": {
    "hash": "4cd7ab41f5fca4b9b44701077e38c5ffd31fe66a6cab21e0214b68d958d0e462"
   }
  }
 },
 "nbformat": 4,
 "nbformat_minor": 2
}