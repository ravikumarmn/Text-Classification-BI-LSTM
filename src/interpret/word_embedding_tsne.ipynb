{
 "cells": [
  {
   "cell_type": "markdown",
   "metadata": {},
   "source": [
    "## REQUIREMENTS"
   ]
  },
  {
   "cell_type": "code",
   "execution_count": 10,
   "metadata": {},
   "outputs": [],
   "source": [
    "import sys\n",
    "sys.path.append(\"/content/drive/MyDrive/DL_projects/text_classification/src\")"
   ]
  },
  {
   "cell_type": "code",
   "execution_count": 141,
   "metadata": {},
   "outputs": [
    {
     "output_type": "stream",
     "name": "stderr",
     "text": [
      "[nltk_data] Downloading package wordnet to /root/nltk_data...\n[nltk_data]   Package wordnet is already up-to-date!\n[nltk_data] Downloading package omw-1.4 to /root/nltk_data...\n"
     ]
    },
    {
     "output_type": "execute_result",
     "data": {
      "text/plain": [
       "True"
      ]
     },
     "metadata": {},
     "execution_count": 141
    }
   ],
   "source": [
    "import sys \n",
    "import json\n",
    "import torch\n",
    "import nltk\n",
    "import pickle\n",
    "import numpy as np\n",
    "import pandas as pd\n",
    "from tqdm.notebook import tqdm\n",
    "import re\n",
    "import gensim\n",
    "import config\n",
    "import helper\n",
    "from sklearn.model_selection import train_test_split\n",
    "from model import ClassifierModel\n",
    "from nltk.corpus import stopwords\n",
    "from nltk.stem import PorterStemmer\n",
    "from nltk.stem import WordNetLemmatizer\n",
    "sw = stopwords.words('english')\n",
    "from gensim.models import KeyedVectors\n",
    "import model\n",
    "nltk.download('wordnet')\n",
    "nltk.download('omw-1.4')\n"
   ]
  },
  {
   "cell_type": "code",
   "execution_count": 161,
   "metadata": {},
   "outputs": [],
   "source": [
    "config.local_base_dir = \"/content/drive/MyDrive/DL_projects/text_classification/\"\n",
    "config.local_train_file = \"dataset/train.tsv\"\n",
    "config.prep_train_test_vocabed = \"prep_train_test_vocabed.pkl\"\n",
    "config.EMBED_SIZE = 32"
   ]
  },
  {
   "cell_type": "code",
   "execution_count": 152,
   "metadata": {},
   "outputs": [],
   "source": [
    "data = pd.read_csv(\"/content/drive/MyDrive/DL_projects/text_classification/dataset/train.tsv\",sep = '\\t',header = None)"
   ]
  },
  {
   "cell_type": "markdown",
   "metadata": {},
   "source": [
    "## PREPROCESSING"
   ]
  },
  {
   "cell_type": "code",
   "execution_count": 153,
   "metadata": {},
   "outputs": [],
   "source": [
    "wordnet_lemmatizer = WordNetLemmatizer()\n",
    "porter_stemmer  = PorterStemmer()\n",
    "\n",
    "def preprocess_text(text):\n",
    "    text = re.sub(r\"^[A-Za-z]\",\"\",text)\n",
    "    text = \" \".join([x for x in text.split() if x not in sw])\n",
    "    text = \" \".join([wordnet_lemmatizer.lemmatize(x) for x in text.split() ])\n",
    "    # text = \" \".join([porter_stemmer.stem(x) for x in text.split()])\n",
    "    text = re.sub(r'[^\\w\\s]', '', text)\n",
    "    text = text.lower()\n",
    "    return text"
   ]
  },
  {
   "cell_type": "code",
   "execution_count": 154,
   "metadata": {},
   "outputs": [],
   "source": [
    "def data_length(dataframe):\n",
    "    all_words = set()\n",
    "    all_sentence = list()\n",
    "    for sentence in dataframe[\"prep_data\"]:\n",
    "        all_sentence.append(sentence.lower().split())\n",
    "        for word in sentence.lower().split():\n",
    "            all_words.add(word)\n",
    "    len_all_words = len(all_words)\n",
    "    len_all_sentence = len(all_sentence)\n",
    "    print(f\"Total number of words : {len_all_words}\")\n",
    "    print(f\"Total number of sentence : {len_all_sentence}\")\n",
    "    print()\n",
    "    return all_words,all_sentence"
   ]
  },
  {
   "cell_type": "code",
   "execution_count": null,
   "metadata": {},
   "outputs": [],
   "source": []
  },
  {
   "cell_type": "code",
   "execution_count": 156,
   "metadata": {},
   "outputs": [
    {
     "output_type": "stream",
     "name": "stdout",
     "text": [
      "Total number of words : 148823\nTotal number of sentence : 35000\n\n"
     ]
    }
   ],
   "source": [
    "if __name__ == \"__main__\":\n",
    "    prep_data = data[3].apply(lambda x : preprocess_text(x)) \n",
    "    data[\"prep_data\"] = prep_data\n",
    "    all_words,all_sentence = data_length(data)\n",
    "    \n",
    "    samples_lbl = data[1]\n",
    "    X_train, X_test, y_train, y_test = train_test_split(all_sentence,samples_lbl,test_size=0.2,shuffle=True)\n"
   ]
  },
  {
   "cell_type": "code",
   "execution_count": 162,
   "metadata": {},
   "outputs": [],
   "source": [
    "\n",
    "pickle.dump({\n",
    "    \"X_train\" : X_train,\n",
    "    \"X_test\" : X_test,\n",
    "    \"y_train\" : y_train.values.tolist(),\n",
    "    \"y_test\" : y_test.values.tolist(),\n",
    "},open(config.local_base_dir + \"dataset/\"+ config.prep_train_test_vocabed,'wb'))\n",
    "\n"
   ]
  },
  {
   "cell_type": "code",
   "execution_count": 163,
   "metadata": {},
   "outputs": [
    {
     "output_type": "execute_result",
     "data": {
      "text/plain": [
       "'/content/drive/MyDrive/DL_projects/text_classification/dataset/prep_train_test_vocabed.pkl'"
      ],
      "application/vnd.google.colaboratory.intrinsic+json": {
       "type": "string"
      }
     },
     "metadata": {},
     "execution_count": 163
    }
   ],
   "source": [
    "config.local_base_dir + \"dataset/\"+ config.prep_train_test_vocabed"
   ]
  },
  {
   "cell_type": "code",
   "execution_count": 10,
   "metadata": {},
   "outputs": [],
   "source": [
    "split_data = pickle.load(open(config.local_base_dir + \"dataset/\"+config.prep_train_test_vocabed,'rb'))"
   ]
  },
  {
   "cell_type": "markdown",
   "metadata": {},
   "source": [
    "# **Word to Vectors**"
   ]
  },
  {
   "cell_type": "code",
   "execution_count": 164,
   "metadata": {},
   "outputs": [],
   "source": [
    "def build_word2vec(all_sentence,embedding_size):\n",
    "    w2v_model = gensim.models.Word2Vec(sentences=all_sentence,min_count=1,vector_size= embedding_size)\n",
    "    w2v_model.build_vocab(all_sentence)\n",
    "    print(\"Length of samples : \",w2v_model.corpus_count)\n",
    "    print(\"Length of vocab   : \",len(w2v_model.wv.key_to_index))\n",
    "    print(\"Training and saving model...\")\n",
    "    w2v_model.train(all_sentence,total_examples=w2v_model.corpus_count,epochs=w2v_model.epochs)\n",
    "    w2v_model.save(f\"{config.local_base_dir}dataset/prep_word2vectors_{config.EMBED_SIZE}.model\")\n",
    "    wordvecs = KeyedVectors.load(f\"{config.local_base_dir}dataset/prep_word2vectors_{config.EMBED_SIZE}.model\")    \n",
    "    all_words = list(wordvecs.wv.key_to_index.keys())\n",
    "# wordvecs.wv.index_to_key = {v:k for k,v in wordvecs.wv.key_to_index.items()}\n",
    "    word2index = {k:v+1 for k,v in wordvecs.wv.key_to_index.items()}\n",
    "    index2word = {v:k for k,v in word2index.items()}\n",
    "    \n",
    "    matrix_vec = np.zeros((len(word2index)+1,config.EMBED_SIZE))\n",
    "    for word,idx in word2index.items():\n",
    "        vector_x = wordvecs.wv[word]\n",
    "        matrix_vec[idx,:] = vector_x    \n",
    "    pickle_data = {\n",
    "    \"word2index\" : word2index,\n",
    "    \"index2word\" : index2word,\n",
    "    \"embedding_vector\" : matrix_vec\n",
    "    }\n",
    "    pickle.dump(pickle_data,open(config.local_base_dir+\"dataset/prep_emb_vec.pkl\",'wb'))\n",
    "    print(\"Done\")\n",
    "    print(f'Model saved to {config.local_base_dir+\"dataset/prep_emb_vec.pkl\"}')\n",
    "    "
   ]
  },
  {
   "cell_type": "code",
   "execution_count": 165,
   "metadata": {},
   "outputs": [
    {
     "output_type": "stream",
     "name": "stderr",
     "text": [
      "WARNING:gensim.models.keyedvectors:sorting after vectors have been allocated is expensive & error-prone\n",
      "WARNING:gensim.models.word2vec:Effective 'alpha' higher than previous training cycles\n",
      "Length of samples :  35000\n",
      "Length of vocab   :  148823\n",
      "Training and saving model...\n",
      "Done\n",
      "Model saved to /content/drive/MyDrive/DL_projects/text_classification/dataset/prep_emb_vec.pkl\n"
     ]
    }
   ],
   "source": [
    "config.EMBED_SIZE = 8\n",
    "build_word2vec(all_sentence,config.EMBED_SIZE)"
   ]
  },
  {
   "cell_type": "code",
   "execution_count": 166,
   "metadata": {},
   "outputs": [
    {
     "output_type": "error",
     "ename": "FileNotFoundError",
     "evalue": "[Errno 2] No such file or directory: 'emb_vec.pkl'",
     "traceback": [
      "\u001b[0;31m---------------------------------------------------------------------------\u001b[0m",
      "\u001b[0;31mFileNotFoundError\u001b[0m                         Traceback (most recent call last)",
      "\u001b[0;32m<ipython-input-166-9b47f4971b2f>\u001b[0m in \u001b[0;36m<module>\u001b[0;34m\u001b[0m\n\u001b[0;32m----> 1\u001b[0;31m \u001b[0mpickle_data\u001b[0m \u001b[0;34m=\u001b[0m\u001b[0mpickle\u001b[0m\u001b[0;34m.\u001b[0m\u001b[0mload\u001b[0m\u001b[0;34m(\u001b[0m\u001b[0mopen\u001b[0m\u001b[0;34m(\u001b[0m\u001b[0;34m\"emb_vec.pkl\"\u001b[0m\u001b[0;34m,\u001b[0m\u001b[0;34m'rb'\u001b[0m\u001b[0;34m)\u001b[0m\u001b[0;34m)\u001b[0m\u001b[0;34m\u001b[0m\u001b[0;34m\u001b[0m\u001b[0m\n\u001b[0m",
      "\u001b[0;31mFileNotFoundError\u001b[0m: [Errno 2] No such file or directory: 'emb_vec.pkl'"
     ]
    }
   ],
   "source": [
    "pickle_data =pickle.load(open(\"emb_vec.pkl\",'rb'))"
   ]
  },
  {
   "cell_type": "code",
   "execution_count": null,
   "metadata": {},
   "outputs": [],
   "source": [
    "# word2index = pickle_data['word2index']\n",
    "# index2word = pickle_data['index2word']\n",
    "# word_vectors = pd.DataFrame(pickle_data['embedding_vector'])\n",
    "# word_vectors.to_csv(\"embedding_matrix.tsv\",sep =\"\\t\",header = None,index = False)\n",
    "# index2word[0] = \"[PAD]\"\n",
    "# only_words = [index2word[x] for x in range(len(index2word))]\n",
    "# word_vectors[\"metadata\"] =only_words\n",
    "# word_vectors.to_csv(\"meta_data.tsv\",sep =\"\\t\",index = False)"
   ]
  },
  {
   "cell_type": "code",
   "execution_count": null,
   "metadata": {},
   "outputs": [],
   "source": []
  },
  {
   "cell_type": "code",
   "execution_count": 2,
   "metadata": {},
   "outputs": [
    {
     "output_type": "execute_result",
     "data": {
      "text/plain": [
       "dict_keys(['model_state_dict', 'params'])"
      ]
     },
     "metadata": {},
     "execution_count": 2
    }
   ],
   "source": [
    "checkpoint = torch.load(\"/content/drive/MyDrive/DL_projects/text_classification/trained_models/seq2seq_hidden_32_embed_32_word2vec.pt\")\n",
    "checkpoint.keys()"
   ]
  },
  {
   "cell_type": "code",
   "execution_count": 43,
   "metadata": {},
   "outputs": [],
   "source": [
    "params = checkpoint['params']\n",
    "pickle_data =pickle.load(open(params[\"base_dir\"] +params[\"emb_vec_file\"],'rb'))\n",
    "pickle_data.keys()\n",
    "\n",
    "word2index = pickle_data['word2index']\n",
    "index2word = pickle_data['index2word']"
   ]
  },
  {
   "cell_type": "code",
   "execution_count": 44,
   "metadata": {},
   "outputs": [],
   "source": [
    "# n_vocab,hidden_size,out_hidden,embedding_dim,n_labels,max_seq\n",
    "\n",
    "my_model = model.ClassifierModel(len(word2index),params[\"HIDDEN_SIZE\"],params[\"OUT_DIM\"],params[\"EMBED_SIZE\"],n_labels = params[\"n_labels\"],max_seq=params['max_seq_len'])"
   ]
  },
  {
   "cell_type": "code",
   "execution_count": 45,
   "metadata": {},
   "outputs": [
    {
     "output_type": "execute_result",
     "data": {
      "text/plain": [
       "<All keys matched successfully>"
      ]
     },
     "metadata": {},
     "execution_count": 45
    }
   ],
   "source": [
    "my_model.load_state_dict(checkpoint['model_state_dict'])"
   ]
  },
  {
   "cell_type": "code",
   "execution_count": 46,
   "metadata": {},
   "outputs": [],
   "source": [
    "import pandas as pd\n",
    "emb_matrix = my_model.embedding.weight.detach().numpy()"
   ]
  },
  {
   "cell_type": "code",
   "execution_count": 68,
   "metadata": {},
   "outputs": [],
   "source": [
    "emb = pd.DataFrame(emb_matrix)"
   ]
  },
  {
   "cell_type": "code",
   "execution_count": 69,
   "metadata": {},
   "outputs": [
    {
     "output_type": "execute_result",
     "data": {
      "text/plain": [
       "         0         1         2         3         4         5         6   \\\n",
       "0  0.000000  0.000000  0.000000  0.000000  0.000000  0.000000  0.000000   \n",
       "1 -8.009912 -2.296135  1.751826 -2.643408  1.582709 -3.423228  1.673678   \n",
       "2  0.168141 -1.772859 -0.500348  1.046328  3.021698 -7.178311  3.537433   \n",
       "3 -3.558702 -1.454928  2.358758  1.284768 -0.278380 -2.398882  3.422882   \n",
       "4 -2.494306 -2.278086  1.807872  0.244650  3.597616 -1.243710  0.698184   \n",
       "\n",
       "         7         8         9         10        11        12        13  \\\n",
       "0  0.000000  0.000000  0.000000  0.000000  0.000000  0.000000  0.000000   \n",
       "1  2.366343  0.920419  3.158559  2.454304  0.311159  3.599848  1.312220   \n",
       "2 -0.229177  0.014891 -0.685747 -1.323345 -1.795694 -0.414231  4.162427   \n",
       "3  2.132612  1.681724 -4.255305  0.222466 -0.502357 -1.533517  0.967723   \n",
       "4 -0.634613 -0.723817 -0.340771  3.004715  1.082289  4.934502  0.853312   \n",
       "\n",
       "         14        15  \n",
       "0  0.000000  0.000000  \n",
       "1 -0.423543  1.432479  \n",
       "2 -3.456668  4.509147  \n",
       "3 -0.499883 -1.353392  \n",
       "4  0.782405 -0.290913  "
      ],
      "text/html": "\n  <div id=\"df-b431a944-7a40-47ab-9e2f-10d095a6979f\">\n    <div class=\"colab-df-container\">\n      <div>\n<style scoped>\n    .dataframe tbody tr th:only-of-type {\n        vertical-align: middle;\n    }\n\n    .dataframe tbody tr th {\n        vertical-align: top;\n    }\n\n    .dataframe thead th {\n        text-align: right;\n    }\n</style>\n<table border=\"1\" class=\"dataframe\">\n  <thead>\n    <tr style=\"text-align: right;\">\n      <th></th>\n      <th>0</th>\n      <th>1</th>\n      <th>2</th>\n      <th>3</th>\n      <th>4</th>\n      <th>5</th>\n      <th>6</th>\n      <th>7</th>\n      <th>8</th>\n      <th>9</th>\n      <th>10</th>\n      <th>11</th>\n      <th>12</th>\n      <th>13</th>\n      <th>14</th>\n      <th>15</th>\n    </tr>\n  </thead>\n  <tbody>\n    <tr>\n      <th>0</th>\n      <td>0.000000</td>\n      <td>0.000000</td>\n      <td>0.000000</td>\n      <td>0.000000</td>\n      <td>0.000000</td>\n      <td>0.000000</td>\n      <td>0.000000</td>\n      <td>0.000000</td>\n      <td>0.000000</td>\n      <td>0.000000</td>\n      <td>0.000000</td>\n      <td>0.000000</td>\n      <td>0.000000</td>\n      <td>0.000000</td>\n      <td>0.000000</td>\n      <td>0.000000</td>\n    </tr>\n    <tr>\n      <th>1</th>\n      <td>-8.009912</td>\n      <td>-2.296135</td>\n      <td>1.751826</td>\n      <td>-2.643408</td>\n      <td>1.582709</td>\n      <td>-3.423228</td>\n      <td>1.673678</td>\n      <td>2.366343</td>\n      <td>0.920419</td>\n      <td>3.158559</td>\n      <td>2.454304</td>\n      <td>0.311159</td>\n      <td>3.599848</td>\n      <td>1.312220</td>\n      <td>-0.423543</td>\n      <td>1.432479</td>\n    </tr>\n    <tr>\n      <th>2</th>\n      <td>0.168141</td>\n      <td>-1.772859</td>\n      <td>-0.500348</td>\n      <td>1.046328</td>\n      <td>3.021698</td>\n      <td>-7.178311</td>\n      <td>3.537433</td>\n      <td>-0.229177</td>\n      <td>0.014891</td>\n      <td>-0.685747</td>\n      <td>-1.323345</td>\n      <td>-1.795694</td>\n      <td>-0.414231</td>\n      <td>4.162427</td>\n      <td>-3.456668</td>\n      <td>4.509147</td>\n    </tr>\n    <tr>\n      <th>3</th>\n      <td>-3.558702</td>\n      <td>-1.454928</td>\n      <td>2.358758</td>\n      <td>1.284768</td>\n      <td>-0.278380</td>\n      <td>-2.398882</td>\n      <td>3.422882</td>\n      <td>2.132612</td>\n      <td>1.681724</td>\n      <td>-4.255305</td>\n      <td>0.222466</td>\n      <td>-0.502357</td>\n      <td>-1.533517</td>\n      <td>0.967723</td>\n      <td>-0.499883</td>\n      <td>-1.353392</td>\n    </tr>\n    <tr>\n      <th>4</th>\n      <td>-2.494306</td>\n      <td>-2.278086</td>\n      <td>1.807872</td>\n      <td>0.244650</td>\n      <td>3.597616</td>\n      <td>-1.243710</td>\n      <td>0.698184</td>\n      <td>-0.634613</td>\n      <td>-0.723817</td>\n      <td>-0.340771</td>\n      <td>3.004715</td>\n      <td>1.082289</td>\n      <td>4.934502</td>\n      <td>0.853312</td>\n      <td>0.782405</td>\n      <td>-0.290913</td>\n    </tr>\n  </tbody>\n</table>\n</div>\n      <button class=\"colab-df-convert\" onclick=\"convertToInteractive('df-b431a944-7a40-47ab-9e2f-10d095a6979f')\"\n              title=\"Convert this dataframe to an interactive table.\"\n              style=\"display:none;\">\n        \n  <svg xmlns=\"http://www.w3.org/2000/svg\" height=\"24px\"viewBox=\"0 0 24 24\"\n       width=\"24px\">\n    <path d=\"M0 0h24v24H0V0z\" fill=\"none\"/>\n    <path d=\"M18.56 5.44l.94 2.06.94-2.06 2.06-.94-2.06-.94-.94-2.06-.94 2.06-2.06.94zm-11 1L8.5 8.5l.94-2.06 2.06-.94-2.06-.94L8.5 2.5l-.94 2.06-2.06.94zm10 10l.94 2.06.94-2.06 2.06-.94-2.06-.94-.94-2.06-.94 2.06-2.06.94z\"/><path d=\"M17.41 7.96l-1.37-1.37c-.4-.4-.92-.59-1.43-.59-.52 0-1.04.2-1.43.59L10.3 9.45l-7.72 7.72c-.78.78-.78 2.05 0 2.83L4 21.41c.39.39.9.59 1.41.59.51 0 1.02-.2 1.41-.59l7.78-7.78 2.81-2.81c.8-.78.8-2.07 0-2.86zM5.41 20L4 18.59l7.72-7.72 1.47 1.35L5.41 20z\"/>\n  </svg>\n      </button>\n      \n  <style>\n    .colab-df-container {\n      display:flex;\n      flex-wrap:wrap;\n      gap: 12px;\n    }\n\n    .colab-df-convert {\n      background-color: #E8F0FE;\n      border: none;\n      border-radius: 50%;\n      cursor: pointer;\n      display: none;\n      fill: #1967D2;\n      height: 32px;\n      padding: 0 0 0 0;\n      width: 32px;\n    }\n\n    .colab-df-convert:hover {\n      background-color: #E2EBFA;\n      box-shadow: 0px 1px 2px rgba(60, 64, 67, 0.3), 0px 1px 3px 1px rgba(60, 64, 67, 0.15);\n      fill: #174EA6;\n    }\n\n    [theme=dark] .colab-df-convert {\n      background-color: #3B4455;\n      fill: #D2E3FC;\n    }\n\n    [theme=dark] .colab-df-convert:hover {\n      background-color: #434B5C;\n      box-shadow: 0px 1px 3px 1px rgba(0, 0, 0, 0.15);\n      filter: drop-shadow(0px 1px 2px rgba(0, 0, 0, 0.3));\n      fill: #FFFFFF;\n    }\n  </style>\n\n      <script>\n        const buttonEl =\n          document.querySelector('#df-b431a944-7a40-47ab-9e2f-10d095a6979f button.colab-df-convert');\n        buttonEl.style.display =\n          google.colab.kernel.accessAllowed ? 'block' : 'none';\n\n        async function convertToInteractive(key) {\n          const element = document.querySelector('#df-b431a944-7a40-47ab-9e2f-10d095a6979f');\n          const dataTable =\n            await google.colab.kernel.invokeFunction('convertToInteractive',\n                                                     [key], {});\n          if (!dataTable) return;\n\n          const docLinkHtml = 'Like what you see? Visit the ' +\n            '<a target=\"_blank\" href=https://colab.research.google.com/notebooks/data_table.ipynb>data table notebook</a>'\n            + ' to learn more about interactive tables.';\n          element.innerHTML = '';\n          dataTable['output_type'] = 'display_data';\n          await google.colab.output.renderOutput(dataTable, element);\n          const docLink = document.createElement('div');\n          docLink.innerHTML = docLinkHtml;\n          element.appendChild(docLink);\n        }\n      </script>\n    </div>\n  </div>\n  "
     },
     "metadata": {},
     "execution_count": 69
    }
   ],
   "source": [
    "emb.head()"
   ]
  },
  {
   "cell_type": "code",
   "execution_count": 49,
   "metadata": {},
   "outputs": [
    {
     "output_type": "execute_result",
     "data": {
      "text/plain": [
       "(140808, 16)"
      ]
     },
     "metadata": {},
     "execution_count": 49
    }
   ],
   "source": [
    "emb.shape"
   ]
  },
  {
   "cell_type": "code",
   "execution_count": 51,
   "metadata": {},
   "outputs": [
    {
     "output_type": "execute_result",
     "data": {
      "text/plain": [
       "140807"
      ]
     },
     "metadata": {},
     "execution_count": 51
    }
   ],
   "source": [
    "len(index2word)"
   ]
  },
  {
   "cell_type": "code",
   "execution_count": 70,
   "metadata": {},
   "outputs": [],
   "source": [
    "emb.to_csv(\"prep_embedding_matrix.tsv\",sep = '\\t',header=None,index = False)"
   ]
  },
  {
   "cell_type": "code",
   "execution_count": 73,
   "metadata": {},
   "outputs": [
    {
     "output_type": "execute_result",
     "data": {
      "text/plain": [
       "        0.0     0.0.1     0.0.2     0.0.3     0.0.4     0.0.5     0.0.6  \\\n",
       "0 -8.009912 -2.296135  1.751826 -2.643408  1.582709 -3.423228  1.673678   \n",
       "1  0.168141 -1.772859 -0.500348  1.046328  3.021698 -7.178311  3.537433   \n",
       "2 -3.558702 -1.454928  2.358758  1.284768 -0.278380 -2.398882  3.422882   \n",
       "3 -2.494306 -2.278086  1.807872  0.244650  3.597616 -1.243710  0.698184   \n",
       "4 -4.728490 -1.770580  1.477018  0.332946  2.624093 -2.911763  0.631502   \n",
       "\n",
       "      0.0.7     0.0.8     0.0.9    0.0.10    0.0.11    0.0.12    0.0.13  \\\n",
       "0  2.366344  0.920419  3.158559  2.454304  0.311159  3.599848  1.312220   \n",
       "1 -0.229177  0.014891 -0.685747 -1.323345 -1.795694 -0.414231  4.162427   \n",
       "2  2.132612  1.681724 -4.255305  0.222466 -0.502357 -1.533516  0.967723   \n",
       "3 -0.634613 -0.723817 -0.340771  3.004715  1.082288  4.934502  0.853312   \n",
       "4 -0.532540  0.631188  1.111279  0.748544  1.091287  5.950947  0.435730   \n",
       "\n",
       "     0.0.14    0.0.15  \n",
       "0 -0.423543  1.432478  \n",
       "1 -3.456668  4.509147  \n",
       "2 -0.499883 -1.353392  \n",
       "3  0.782405 -0.290913  \n",
       "4  1.386499  0.056322  "
      ],
      "text/html": "\n  <div id=\"df-1c685595-b99b-464e-9565-d1218885b2dc\">\n    <div class=\"colab-df-container\">\n      <div>\n<style scoped>\n    .dataframe tbody tr th:only-of-type {\n        vertical-align: middle;\n    }\n\n    .dataframe tbody tr th {\n        vertical-align: top;\n    }\n\n    .dataframe thead th {\n        text-align: right;\n    }\n</style>\n<table border=\"1\" class=\"dataframe\">\n  <thead>\n    <tr style=\"text-align: right;\">\n      <th></th>\n      <th>0.0</th>\n      <th>0.0.1</th>\n      <th>0.0.2</th>\n      <th>0.0.3</th>\n      <th>0.0.4</th>\n      <th>0.0.5</th>\n      <th>0.0.6</th>\n      <th>0.0.7</th>\n      <th>0.0.8</th>\n      <th>0.0.9</th>\n      <th>0.0.10</th>\n      <th>0.0.11</th>\n      <th>0.0.12</th>\n      <th>0.0.13</th>\n      <th>0.0.14</th>\n      <th>0.0.15</th>\n    </tr>\n  </thead>\n  <tbody>\n    <tr>\n      <th>0</th>\n      <td>-8.009912</td>\n      <td>-2.296135</td>\n      <td>1.751826</td>\n      <td>-2.643408</td>\n      <td>1.582709</td>\n      <td>-3.423228</td>\n      <td>1.673678</td>\n      <td>2.366344</td>\n      <td>0.920419</td>\n      <td>3.158559</td>\n      <td>2.454304</td>\n      <td>0.311159</td>\n      <td>3.599848</td>\n      <td>1.312220</td>\n      <td>-0.423543</td>\n      <td>1.432478</td>\n    </tr>\n    <tr>\n      <th>1</th>\n      <td>0.168141</td>\n      <td>-1.772859</td>\n      <td>-0.500348</td>\n      <td>1.046328</td>\n      <td>3.021698</td>\n      <td>-7.178311</td>\n      <td>3.537433</td>\n      <td>-0.229177</td>\n      <td>0.014891</td>\n      <td>-0.685747</td>\n      <td>-1.323345</td>\n      <td>-1.795694</td>\n      <td>-0.414231</td>\n      <td>4.162427</td>\n      <td>-3.456668</td>\n      <td>4.509147</td>\n    </tr>\n    <tr>\n      <th>2</th>\n      <td>-3.558702</td>\n      <td>-1.454928</td>\n      <td>2.358758</td>\n      <td>1.284768</td>\n      <td>-0.278380</td>\n      <td>-2.398882</td>\n      <td>3.422882</td>\n      <td>2.132612</td>\n      <td>1.681724</td>\n      <td>-4.255305</td>\n      <td>0.222466</td>\n      <td>-0.502357</td>\n      <td>-1.533516</td>\n      <td>0.967723</td>\n      <td>-0.499883</td>\n      <td>-1.353392</td>\n    </tr>\n    <tr>\n      <th>3</th>\n      <td>-2.494306</td>\n      <td>-2.278086</td>\n      <td>1.807872</td>\n      <td>0.244650</td>\n      <td>3.597616</td>\n      <td>-1.243710</td>\n      <td>0.698184</td>\n      <td>-0.634613</td>\n      <td>-0.723817</td>\n      <td>-0.340771</td>\n      <td>3.004715</td>\n      <td>1.082288</td>\n      <td>4.934502</td>\n      <td>0.853312</td>\n      <td>0.782405</td>\n      <td>-0.290913</td>\n    </tr>\n    <tr>\n      <th>4</th>\n      <td>-4.728490</td>\n      <td>-1.770580</td>\n      <td>1.477018</td>\n      <td>0.332946</td>\n      <td>2.624093</td>\n      <td>-2.911763</td>\n      <td>0.631502</td>\n      <td>-0.532540</td>\n      <td>0.631188</td>\n      <td>1.111279</td>\n      <td>0.748544</td>\n      <td>1.091287</td>\n      <td>5.950947</td>\n      <td>0.435730</td>\n      <td>1.386499</td>\n      <td>0.056322</td>\n    </tr>\n  </tbody>\n</table>\n</div>\n      <button class=\"colab-df-convert\" onclick=\"convertToInteractive('df-1c685595-b99b-464e-9565-d1218885b2dc')\"\n              title=\"Convert this dataframe to an interactive table.\"\n              style=\"display:none;\">\n        \n  <svg xmlns=\"http://www.w3.org/2000/svg\" height=\"24px\"viewBox=\"0 0 24 24\"\n       width=\"24px\">\n    <path d=\"M0 0h24v24H0V0z\" fill=\"none\"/>\n    <path d=\"M18.56 5.44l.94 2.06.94-2.06 2.06-.94-2.06-.94-.94-2.06-.94 2.06-2.06.94zm-11 1L8.5 8.5l.94-2.06 2.06-.94-2.06-.94L8.5 2.5l-.94 2.06-2.06.94zm10 10l.94 2.06.94-2.06 2.06-.94-2.06-.94-.94-2.06-.94 2.06-2.06.94z\"/><path d=\"M17.41 7.96l-1.37-1.37c-.4-.4-.92-.59-1.43-.59-.52 0-1.04.2-1.43.59L10.3 9.45l-7.72 7.72c-.78.78-.78 2.05 0 2.83L4 21.41c.39.39.9.59 1.41.59.51 0 1.02-.2 1.41-.59l7.78-7.78 2.81-2.81c.8-.78.8-2.07 0-2.86zM5.41 20L4 18.59l7.72-7.72 1.47 1.35L5.41 20z\"/>\n  </svg>\n      </button>\n      \n  <style>\n    .colab-df-container {\n      display:flex;\n      flex-wrap:wrap;\n      gap: 12px;\n    }\n\n    .colab-df-convert {\n      background-color: #E8F0FE;\n      border: none;\n      border-radius: 50%;\n      cursor: pointer;\n      display: none;\n      fill: #1967D2;\n      height: 32px;\n      padding: 0 0 0 0;\n      width: 32px;\n    }\n\n    .colab-df-convert:hover {\n      background-color: #E2EBFA;\n      box-shadow: 0px 1px 2px rgba(60, 64, 67, 0.3), 0px 1px 3px 1px rgba(60, 64, 67, 0.15);\n      fill: #174EA6;\n    }\n\n    [theme=dark] .colab-df-convert {\n      background-color: #3B4455;\n      fill: #D2E3FC;\n    }\n\n    [theme=dark] .colab-df-convert:hover {\n      background-color: #434B5C;\n      box-shadow: 0px 1px 3px 1px rgba(0, 0, 0, 0.15);\n      filter: drop-shadow(0px 1px 2px rgba(0, 0, 0, 0.3));\n      fill: #FFFFFF;\n    }\n  </style>\n\n      <script>\n        const buttonEl =\n          document.querySelector('#df-1c685595-b99b-464e-9565-d1218885b2dc button.colab-df-convert');\n        buttonEl.style.display =\n          google.colab.kernel.accessAllowed ? 'block' : 'none';\n\n        async function convertToInteractive(key) {\n          const element = document.querySelector('#df-1c685595-b99b-464e-9565-d1218885b2dc');\n          const dataTable =\n            await google.colab.kernel.invokeFunction('convertToInteractive',\n                                                     [key], {});\n          if (!dataTable) return;\n\n          const docLinkHtml = 'Like what you see? Visit the ' +\n            '<a target=\"_blank\" href=https://colab.research.google.com/notebooks/data_table.ipynb>data table notebook</a>'\n            + ' to learn more about interactive tables.';\n          element.innerHTML = '';\n          dataTable['output_type'] = 'display_data';\n          await google.colab.output.renderOutput(dataTable, element);\n          const docLink = document.createElement('div');\n          docLink.innerHTML = docLinkHtml;\n          element.appendChild(docLink);\n        }\n      </script>\n    </div>\n  </div>\n  "
     },
     "metadata": {},
     "execution_count": 73
    }
   ],
   "source": [
    "pd.read_csv(\"/content/drive/MyDrive/DL_projects/text_classification/src/interpret/prep_embedding_matrix.tsv\",sep = '\\t').head()"
   ]
  },
  {
   "cell_type": "code",
   "execution_count": 77,
   "metadata": {},
   "outputs": [],
   "source": [
    "index2word[0] = \"[PAD]\""
   ]
  },
  {
   "cell_type": "code",
   "execution_count": 78,
   "metadata": {},
   "outputs": [
    {
     "output_type": "stream",
     "name": "stdout",
     "text": [
      "(140808, 16) 140808\n"
     ]
    },
    {
     "output_type": "execute_result",
     "data": {
      "text/plain": [
       "         0         1         2         3         4         5         6   \\\n",
       "0  0.000000  0.000000  0.000000  0.000000  0.000000  0.000000  0.000000   \n",
       "1 -8.009912 -2.296135  1.751826 -2.643408  1.582709 -3.423228  1.673678   \n",
       "2  0.168141 -1.772859 -0.500348  1.046328  3.021698 -7.178311  3.537433   \n",
       "3 -3.558702 -1.454928  2.358758  1.284768 -0.278380 -2.398882  3.422882   \n",
       "4 -2.494306 -2.278086  1.807872  0.244650  3.597616 -1.243710  0.698184   \n",
       "\n",
       "         7         8         9         10        11        12        13  \\\n",
       "0  0.000000  0.000000  0.000000  0.000000  0.000000  0.000000  0.000000   \n",
       "1  2.366344  0.920419  3.158559  2.454304  0.311159  3.599848  1.312220   \n",
       "2 -0.229177  0.014891 -0.685747 -1.323345 -1.795694 -0.414231  4.162427   \n",
       "3  2.132612  1.681724 -4.255305  0.222466 -0.502357 -1.533516  0.967723   \n",
       "4 -0.634613 -0.723817 -0.340771  3.004715  1.082288  4.934502  0.853312   \n",
       "\n",
       "         14        15  \n",
       "0  0.000000  0.000000  \n",
       "1 -0.423543  1.432478  \n",
       "2 -3.456668  4.509147  \n",
       "3 -0.499883 -1.353392  \n",
       "4  0.782405 -0.290913  "
      ],
      "text/html": "\n  <div id=\"df-8f9735d3-e92c-4777-ab08-85829115d1ed\">\n    <div class=\"colab-df-container\">\n      <div>\n<style scoped>\n    .dataframe tbody tr th:only-of-type {\n        vertical-align: middle;\n    }\n\n    .dataframe tbody tr th {\n        vertical-align: top;\n    }\n\n    .dataframe thead th {\n        text-align: right;\n    }\n</style>\n<table border=\"1\" class=\"dataframe\">\n  <thead>\n    <tr style=\"text-align: right;\">\n      <th></th>\n      <th>0</th>\n      <th>1</th>\n      <th>2</th>\n      <th>3</th>\n      <th>4</th>\n      <th>5</th>\n      <th>6</th>\n      <th>7</th>\n      <th>8</th>\n      <th>9</th>\n      <th>10</th>\n      <th>11</th>\n      <th>12</th>\n      <th>13</th>\n      <th>14</th>\n      <th>15</th>\n    </tr>\n  </thead>\n  <tbody>\n    <tr>\n      <th>0</th>\n      <td>0.000000</td>\n      <td>0.000000</td>\n      <td>0.000000</td>\n      <td>0.000000</td>\n      <td>0.000000</td>\n      <td>0.000000</td>\n      <td>0.000000</td>\n      <td>0.000000</td>\n      <td>0.000000</td>\n      <td>0.000000</td>\n      <td>0.000000</td>\n      <td>0.000000</td>\n      <td>0.000000</td>\n      <td>0.000000</td>\n      <td>0.000000</td>\n      <td>0.000000</td>\n    </tr>\n    <tr>\n      <th>1</th>\n      <td>-8.009912</td>\n      <td>-2.296135</td>\n      <td>1.751826</td>\n      <td>-2.643408</td>\n      <td>1.582709</td>\n      <td>-3.423228</td>\n      <td>1.673678</td>\n      <td>2.366344</td>\n      <td>0.920419</td>\n      <td>3.158559</td>\n      <td>2.454304</td>\n      <td>0.311159</td>\n      <td>3.599848</td>\n      <td>1.312220</td>\n      <td>-0.423543</td>\n      <td>1.432478</td>\n    </tr>\n    <tr>\n      <th>2</th>\n      <td>0.168141</td>\n      <td>-1.772859</td>\n      <td>-0.500348</td>\n      <td>1.046328</td>\n      <td>3.021698</td>\n      <td>-7.178311</td>\n      <td>3.537433</td>\n      <td>-0.229177</td>\n      <td>0.014891</td>\n      <td>-0.685747</td>\n      <td>-1.323345</td>\n      <td>-1.795694</td>\n      <td>-0.414231</td>\n      <td>4.162427</td>\n      <td>-3.456668</td>\n      <td>4.509147</td>\n    </tr>\n    <tr>\n      <th>3</th>\n      <td>-3.558702</td>\n      <td>-1.454928</td>\n      <td>2.358758</td>\n      <td>1.284768</td>\n      <td>-0.278380</td>\n      <td>-2.398882</td>\n      <td>3.422882</td>\n      <td>2.132612</td>\n      <td>1.681724</td>\n      <td>-4.255305</td>\n      <td>0.222466</td>\n      <td>-0.502357</td>\n      <td>-1.533516</td>\n      <td>0.967723</td>\n      <td>-0.499883</td>\n      <td>-1.353392</td>\n    </tr>\n    <tr>\n      <th>4</th>\n      <td>-2.494306</td>\n      <td>-2.278086</td>\n      <td>1.807872</td>\n      <td>0.244650</td>\n      <td>3.597616</td>\n      <td>-1.243710</td>\n      <td>0.698184</td>\n      <td>-0.634613</td>\n      <td>-0.723817</td>\n      <td>-0.340771</td>\n      <td>3.004715</td>\n      <td>1.082288</td>\n      <td>4.934502</td>\n      <td>0.853312</td>\n      <td>0.782405</td>\n      <td>-0.290913</td>\n    </tr>\n  </tbody>\n</table>\n</div>\n      <button class=\"colab-df-convert\" onclick=\"convertToInteractive('df-8f9735d3-e92c-4777-ab08-85829115d1ed')\"\n              title=\"Convert this dataframe to an interactive table.\"\n              style=\"display:none;\">\n        \n  <svg xmlns=\"http://www.w3.org/2000/svg\" height=\"24px\"viewBox=\"0 0 24 24\"\n       width=\"24px\">\n    <path d=\"M0 0h24v24H0V0z\" fill=\"none\"/>\n    <path d=\"M18.56 5.44l.94 2.06.94-2.06 2.06-.94-2.06-.94-.94-2.06-.94 2.06-2.06.94zm-11 1L8.5 8.5l.94-2.06 2.06-.94-2.06-.94L8.5 2.5l-.94 2.06-2.06.94zm10 10l.94 2.06.94-2.06 2.06-.94-2.06-.94-.94-2.06-.94 2.06-2.06.94z\"/><path d=\"M17.41 7.96l-1.37-1.37c-.4-.4-.92-.59-1.43-.59-.52 0-1.04.2-1.43.59L10.3 9.45l-7.72 7.72c-.78.78-.78 2.05 0 2.83L4 21.41c.39.39.9.59 1.41.59.51 0 1.02-.2 1.41-.59l7.78-7.78 2.81-2.81c.8-.78.8-2.07 0-2.86zM5.41 20L4 18.59l7.72-7.72 1.47 1.35L5.41 20z\"/>\n  </svg>\n      </button>\n      \n  <style>\n    .colab-df-container {\n      display:flex;\n      flex-wrap:wrap;\n      gap: 12px;\n    }\n\n    .colab-df-convert {\n      background-color: #E8F0FE;\n      border: none;\n      border-radius: 50%;\n      cursor: pointer;\n      display: none;\n      fill: #1967D2;\n      height: 32px;\n      padding: 0 0 0 0;\n      width: 32px;\n    }\n\n    .colab-df-convert:hover {\n      background-color: #E2EBFA;\n      box-shadow: 0px 1px 2px rgba(60, 64, 67, 0.3), 0px 1px 3px 1px rgba(60, 64, 67, 0.15);\n      fill: #174EA6;\n    }\n\n    [theme=dark] .colab-df-convert {\n      background-color: #3B4455;\n      fill: #D2E3FC;\n    }\n\n    [theme=dark] .colab-df-convert:hover {\n      background-color: #434B5C;\n      box-shadow: 0px 1px 3px 1px rgba(0, 0, 0, 0.15);\n      filter: drop-shadow(0px 1px 2px rgba(0, 0, 0, 0.3));\n      fill: #FFFFFF;\n    }\n  </style>\n\n      <script>\n        const buttonEl =\n          document.querySelector('#df-8f9735d3-e92c-4777-ab08-85829115d1ed button.colab-df-convert');\n        buttonEl.style.display =\n          google.colab.kernel.accessAllowed ? 'block' : 'none';\n\n        async function convertToInteractive(key) {\n          const element = document.querySelector('#df-8f9735d3-e92c-4777-ab08-85829115d1ed');\n          const dataTable =\n            await google.colab.kernel.invokeFunction('convertToInteractive',\n                                                     [key], {});\n          if (!dataTable) return;\n\n          const docLinkHtml = 'Like what you see? Visit the ' +\n            '<a target=\"_blank\" href=https://colab.research.google.com/notebooks/data_table.ipynb>data table notebook</a>'\n            + ' to learn more about interactive tables.';\n          element.innerHTML = '';\n          dataTable['output_type'] = 'display_data';\n          await google.colab.output.renderOutput(dataTable, element);\n          const docLink = document.createElement('div');\n          docLink.innerHTML = docLinkHtml;\n          element.appendChild(docLink);\n        }\n      </script>\n    </div>\n  </div>\n  "
     },
     "metadata": {},
     "execution_count": 78
    }
   ],
   "source": [
    "word_vectors = pd.read_csv(\"/content/drive/MyDrive/DL_projects/text_classification/src/interpret/prep_embedding_matrix.tsv\",sep = '\\t',header = None)\n",
    "print(word_vectors.shape,len(index2word))\n",
    "word_vectors.head()"
   ]
  },
  {
   "cell_type": "code",
   "execution_count": 79,
   "metadata": {},
   "outputs": [],
   "source": [
    "only_words = [index2word[x] for x in range(len(index2word))]"
   ]
  },
  {
   "cell_type": "code",
   "execution_count": 87,
   "metadata": {},
   "outputs": [
    {
     "output_type": "execute_result",
     "data": {
      "text/plain": [
       "((140808, 17), 140808, 'burketsville')"
      ]
     },
     "metadata": {},
     "execution_count": 87
    }
   ],
   "source": [
    "word_vectors.shape,len(only_words),only_words[-1]"
   ]
  },
  {
   "cell_type": "code",
   "execution_count": 88,
   "metadata": {},
   "outputs": [
    {
     "output_type": "execute_result",
     "data": {
      "text/plain": [
       "          0         1         2         3         4         5         6  \\\n",
       "0  0.000000  0.000000  0.000000  0.000000  0.000000  0.000000  0.000000   \n",
       "1 -8.009912 -2.296135  1.751826 -2.643408  1.582709 -3.423228  1.673678   \n",
       "2  0.168141 -1.772859 -0.500348  1.046328  3.021698 -7.178311  3.537433   \n",
       "3 -3.558702 -1.454928  2.358758  1.284768 -0.278380 -2.398882  3.422882   \n",
       "4 -2.494306 -2.278086  1.807872  0.244650  3.597616 -1.243710  0.698184   \n",
       "\n",
       "          7         8         9        10        11        12        13  \\\n",
       "0  0.000000  0.000000  0.000000  0.000000  0.000000  0.000000  0.000000   \n",
       "1  2.366344  0.920419  3.158559  2.454304  0.311159  3.599848  1.312220   \n",
       "2 -0.229177  0.014891 -0.685747 -1.323345 -1.795694 -0.414231  4.162427   \n",
       "3  2.132612  1.681724 -4.255305  0.222466 -0.502357 -1.533516  0.967723   \n",
       "4 -0.634613 -0.723817 -0.340771  3.004715  1.082288  4.934502  0.853312   \n",
       "\n",
       "         14        15 metadata  \n",
       "0  0.000000  0.000000    [PAD]  \n",
       "1 -0.423543  1.432478        i  \n",
       "2 -3.456668  4.509147       br  \n",
       "3 -0.499883 -1.353392      the  \n",
       "4  0.782405 -0.290913     film  "
      ],
      "text/html": "\n  <div id=\"df-89b57f94-50ef-44d3-b793-c427712a0432\">\n    <div class=\"colab-df-container\">\n      <div>\n<style scoped>\n    .dataframe tbody tr th:only-of-type {\n        vertical-align: middle;\n    }\n\n    .dataframe tbody tr th {\n        vertical-align: top;\n    }\n\n    .dataframe thead th {\n        text-align: right;\n    }\n</style>\n<table border=\"1\" class=\"dataframe\">\n  <thead>\n    <tr style=\"text-align: right;\">\n      <th></th>\n      <th>0</th>\n      <th>1</th>\n      <th>2</th>\n      <th>3</th>\n      <th>4</th>\n      <th>5</th>\n      <th>6</th>\n      <th>7</th>\n      <th>8</th>\n      <th>9</th>\n      <th>10</th>\n      <th>11</th>\n      <th>12</th>\n      <th>13</th>\n      <th>14</th>\n      <th>15</th>\n      <th>metadata</th>\n    </tr>\n  </thead>\n  <tbody>\n    <tr>\n      <th>0</th>\n      <td>0.000000</td>\n      <td>0.000000</td>\n      <td>0.000000</td>\n      <td>0.000000</td>\n      <td>0.000000</td>\n      <td>0.000000</td>\n      <td>0.000000</td>\n      <td>0.000000</td>\n      <td>0.000000</td>\n      <td>0.000000</td>\n      <td>0.000000</td>\n      <td>0.000000</td>\n      <td>0.000000</td>\n      <td>0.000000</td>\n      <td>0.000000</td>\n      <td>0.000000</td>\n      <td>[PAD]</td>\n    </tr>\n    <tr>\n      <th>1</th>\n      <td>-8.009912</td>\n      <td>-2.296135</td>\n      <td>1.751826</td>\n      <td>-2.643408</td>\n      <td>1.582709</td>\n      <td>-3.423228</td>\n      <td>1.673678</td>\n      <td>2.366344</td>\n      <td>0.920419</td>\n      <td>3.158559</td>\n      <td>2.454304</td>\n      <td>0.311159</td>\n      <td>3.599848</td>\n      <td>1.312220</td>\n      <td>-0.423543</td>\n      <td>1.432478</td>\n      <td>i</td>\n    </tr>\n    <tr>\n      <th>2</th>\n      <td>0.168141</td>\n      <td>-1.772859</td>\n      <td>-0.500348</td>\n      <td>1.046328</td>\n      <td>3.021698</td>\n      <td>-7.178311</td>\n      <td>3.537433</td>\n      <td>-0.229177</td>\n      <td>0.014891</td>\n      <td>-0.685747</td>\n      <td>-1.323345</td>\n      <td>-1.795694</td>\n      <td>-0.414231</td>\n      <td>4.162427</td>\n      <td>-3.456668</td>\n      <td>4.509147</td>\n      <td>br</td>\n    </tr>\n    <tr>\n      <th>3</th>\n      <td>-3.558702</td>\n      <td>-1.454928</td>\n      <td>2.358758</td>\n      <td>1.284768</td>\n      <td>-0.278380</td>\n      <td>-2.398882</td>\n      <td>3.422882</td>\n      <td>2.132612</td>\n      <td>1.681724</td>\n      <td>-4.255305</td>\n      <td>0.222466</td>\n      <td>-0.502357</td>\n      <td>-1.533516</td>\n      <td>0.967723</td>\n      <td>-0.499883</td>\n      <td>-1.353392</td>\n      <td>the</td>\n    </tr>\n    <tr>\n      <th>4</th>\n      <td>-2.494306</td>\n      <td>-2.278086</td>\n      <td>1.807872</td>\n      <td>0.244650</td>\n      <td>3.597616</td>\n      <td>-1.243710</td>\n      <td>0.698184</td>\n      <td>-0.634613</td>\n      <td>-0.723817</td>\n      <td>-0.340771</td>\n      <td>3.004715</td>\n      <td>1.082288</td>\n      <td>4.934502</td>\n      <td>0.853312</td>\n      <td>0.782405</td>\n      <td>-0.290913</td>\n      <td>film</td>\n    </tr>\n  </tbody>\n</table>\n</div>\n      <button class=\"colab-df-convert\" onclick=\"convertToInteractive('df-89b57f94-50ef-44d3-b793-c427712a0432')\"\n              title=\"Convert this dataframe to an interactive table.\"\n              style=\"display:none;\">\n        \n  <svg xmlns=\"http://www.w3.org/2000/svg\" height=\"24px\"viewBox=\"0 0 24 24\"\n       width=\"24px\">\n    <path d=\"M0 0h24v24H0V0z\" fill=\"none\"/>\n    <path d=\"M18.56 5.44l.94 2.06.94-2.06 2.06-.94-2.06-.94-.94-2.06-.94 2.06-2.06.94zm-11 1L8.5 8.5l.94-2.06 2.06-.94-2.06-.94L8.5 2.5l-.94 2.06-2.06.94zm10 10l.94 2.06.94-2.06 2.06-.94-2.06-.94-.94-2.06-.94 2.06-2.06.94z\"/><path d=\"M17.41 7.96l-1.37-1.37c-.4-.4-.92-.59-1.43-.59-.52 0-1.04.2-1.43.59L10.3 9.45l-7.72 7.72c-.78.78-.78 2.05 0 2.83L4 21.41c.39.39.9.59 1.41.59.51 0 1.02-.2 1.41-.59l7.78-7.78 2.81-2.81c.8-.78.8-2.07 0-2.86zM5.41 20L4 18.59l7.72-7.72 1.47 1.35L5.41 20z\"/>\n  </svg>\n      </button>\n      \n  <style>\n    .colab-df-container {\n      display:flex;\n      flex-wrap:wrap;\n      gap: 12px;\n    }\n\n    .colab-df-convert {\n      background-color: #E8F0FE;\n      border: none;\n      border-radius: 50%;\n      cursor: pointer;\n      display: none;\n      fill: #1967D2;\n      height: 32px;\n      padding: 0 0 0 0;\n      width: 32px;\n    }\n\n    .colab-df-convert:hover {\n      background-color: #E2EBFA;\n      box-shadow: 0px 1px 2px rgba(60, 64, 67, 0.3), 0px 1px 3px 1px rgba(60, 64, 67, 0.15);\n      fill: #174EA6;\n    }\n\n    [theme=dark] .colab-df-convert {\n      background-color: #3B4455;\n      fill: #D2E3FC;\n    }\n\n    [theme=dark] .colab-df-convert:hover {\n      background-color: #434B5C;\n      box-shadow: 0px 1px 3px 1px rgba(0, 0, 0, 0.15);\n      filter: drop-shadow(0px 1px 2px rgba(0, 0, 0, 0.3));\n      fill: #FFFFFF;\n    }\n  </style>\n\n      <script>\n        const buttonEl =\n          document.querySelector('#df-89b57f94-50ef-44d3-b793-c427712a0432 button.colab-df-convert');\n        buttonEl.style.display =\n          google.colab.kernel.accessAllowed ? 'block' : 'none';\n\n        async function convertToInteractive(key) {\n          const element = document.querySelector('#df-89b57f94-50ef-44d3-b793-c427712a0432');\n          const dataTable =\n            await google.colab.kernel.invokeFunction('convertToInteractive',\n                                                     [key], {});\n          if (!dataTable) return;\n\n          const docLinkHtml = 'Like what you see? Visit the ' +\n            '<a target=\"_blank\" href=https://colab.research.google.com/notebooks/data_table.ipynb>data table notebook</a>'\n            + ' to learn more about interactive tables.';\n          element.innerHTML = '';\n          dataTable['output_type'] = 'display_data';\n          await google.colab.output.renderOutput(dataTable, element);\n          const docLink = document.createElement('div');\n          docLink.innerHTML = docLinkHtml;\n          element.appendChild(docLink);\n        }\n      </script>\n    </div>\n  </div>\n  "
     },
     "metadata": {},
     "execution_count": 88
    }
   ],
   "source": [
    "word_vectors.head()"
   ]
  },
  {
   "cell_type": "code",
   "execution_count": 82,
   "metadata": {},
   "outputs": [],
   "source": [
    "word_vectors[\"metadata\"] =only_words"
   ]
  },
  {
   "cell_type": "code",
   "execution_count": 83,
   "metadata": {},
   "outputs": [
    {
     "output_type": "execute_result",
     "data": {
      "text/plain": [
       "          0         1         2         3         4         5         6  \\\n",
       "0  0.000000  0.000000  0.000000  0.000000  0.000000  0.000000  0.000000   \n",
       "1 -8.009912 -2.296135  1.751826 -2.643408  1.582709 -3.423228  1.673678   \n",
       "2  0.168141 -1.772859 -0.500348  1.046328  3.021698 -7.178311  3.537433   \n",
       "3 -3.558702 -1.454928  2.358758  1.284768 -0.278380 -2.398882  3.422882   \n",
       "4 -2.494306 -2.278086  1.807872  0.244650  3.597616 -1.243710  0.698184   \n",
       "\n",
       "          7         8         9        10        11        12        13  \\\n",
       "0  0.000000  0.000000  0.000000  0.000000  0.000000  0.000000  0.000000   \n",
       "1  2.366344  0.920419  3.158559  2.454304  0.311159  3.599848  1.312220   \n",
       "2 -0.229177  0.014891 -0.685747 -1.323345 -1.795694 -0.414231  4.162427   \n",
       "3  2.132612  1.681724 -4.255305  0.222466 -0.502357 -1.533516  0.967723   \n",
       "4 -0.634613 -0.723817 -0.340771  3.004715  1.082288  4.934502  0.853312   \n",
       "\n",
       "         14        15 metadata  \n",
       "0  0.000000  0.000000    [PAD]  \n",
       "1 -0.423543  1.432478        i  \n",
       "2 -3.456668  4.509147       br  \n",
       "3 -0.499883 -1.353392      the  \n",
       "4  0.782405 -0.290913     film  "
      ],
      "text/html": "\n  <div id=\"df-98dccead-e067-4358-b1e6-4dc7d813260f\">\n    <div class=\"colab-df-container\">\n      <div>\n<style scoped>\n    .dataframe tbody tr th:only-of-type {\n        vertical-align: middle;\n    }\n\n    .dataframe tbody tr th {\n        vertical-align: top;\n    }\n\n    .dataframe thead th {\n        text-align: right;\n    }\n</style>\n<table border=\"1\" class=\"dataframe\">\n  <thead>\n    <tr style=\"text-align: right;\">\n      <th></th>\n      <th>0</th>\n      <th>1</th>\n      <th>2</th>\n      <th>3</th>\n      <th>4</th>\n      <th>5</th>\n      <th>6</th>\n      <th>7</th>\n      <th>8</th>\n      <th>9</th>\n      <th>10</th>\n      <th>11</th>\n      <th>12</th>\n      <th>13</th>\n      <th>14</th>\n      <th>15</th>\n      <th>metadata</th>\n    </tr>\n  </thead>\n  <tbody>\n    <tr>\n      <th>0</th>\n      <td>0.000000</td>\n      <td>0.000000</td>\n      <td>0.000000</td>\n      <td>0.000000</td>\n      <td>0.000000</td>\n      <td>0.000000</td>\n      <td>0.000000</td>\n      <td>0.000000</td>\n      <td>0.000000</td>\n      <td>0.000000</td>\n      <td>0.000000</td>\n      <td>0.000000</td>\n      <td>0.000000</td>\n      <td>0.000000</td>\n      <td>0.000000</td>\n      <td>0.000000</td>\n      <td>[PAD]</td>\n    </tr>\n    <tr>\n      <th>1</th>\n      <td>-8.009912</td>\n      <td>-2.296135</td>\n      <td>1.751826</td>\n      <td>-2.643408</td>\n      <td>1.582709</td>\n      <td>-3.423228</td>\n      <td>1.673678</td>\n      <td>2.366344</td>\n      <td>0.920419</td>\n      <td>3.158559</td>\n      <td>2.454304</td>\n      <td>0.311159</td>\n      <td>3.599848</td>\n      <td>1.312220</td>\n      <td>-0.423543</td>\n      <td>1.432478</td>\n      <td>i</td>\n    </tr>\n    <tr>\n      <th>2</th>\n      <td>0.168141</td>\n      <td>-1.772859</td>\n      <td>-0.500348</td>\n      <td>1.046328</td>\n      <td>3.021698</td>\n      <td>-7.178311</td>\n      <td>3.537433</td>\n      <td>-0.229177</td>\n      <td>0.014891</td>\n      <td>-0.685747</td>\n      <td>-1.323345</td>\n      <td>-1.795694</td>\n      <td>-0.414231</td>\n      <td>4.162427</td>\n      <td>-3.456668</td>\n      <td>4.509147</td>\n      <td>br</td>\n    </tr>\n    <tr>\n      <th>3</th>\n      <td>-3.558702</td>\n      <td>-1.454928</td>\n      <td>2.358758</td>\n      <td>1.284768</td>\n      <td>-0.278380</td>\n      <td>-2.398882</td>\n      <td>3.422882</td>\n      <td>2.132612</td>\n      <td>1.681724</td>\n      <td>-4.255305</td>\n      <td>0.222466</td>\n      <td>-0.502357</td>\n      <td>-1.533516</td>\n      <td>0.967723</td>\n      <td>-0.499883</td>\n      <td>-1.353392</td>\n      <td>the</td>\n    </tr>\n    <tr>\n      <th>4</th>\n      <td>-2.494306</td>\n      <td>-2.278086</td>\n      <td>1.807872</td>\n      <td>0.244650</td>\n      <td>3.597616</td>\n      <td>-1.243710</td>\n      <td>0.698184</td>\n      <td>-0.634613</td>\n      <td>-0.723817</td>\n      <td>-0.340771</td>\n      <td>3.004715</td>\n      <td>1.082288</td>\n      <td>4.934502</td>\n      <td>0.853312</td>\n      <td>0.782405</td>\n      <td>-0.290913</td>\n      <td>film</td>\n    </tr>\n  </tbody>\n</table>\n</div>\n      <button class=\"colab-df-convert\" onclick=\"convertToInteractive('df-98dccead-e067-4358-b1e6-4dc7d813260f')\"\n              title=\"Convert this dataframe to an interactive table.\"\n              style=\"display:none;\">\n        \n  <svg xmlns=\"http://www.w3.org/2000/svg\" height=\"24px\"viewBox=\"0 0 24 24\"\n       width=\"24px\">\n    <path d=\"M0 0h24v24H0V0z\" fill=\"none\"/>\n    <path d=\"M18.56 5.44l.94 2.06.94-2.06 2.06-.94-2.06-.94-.94-2.06-.94 2.06-2.06.94zm-11 1L8.5 8.5l.94-2.06 2.06-.94-2.06-.94L8.5 2.5l-.94 2.06-2.06.94zm10 10l.94 2.06.94-2.06 2.06-.94-2.06-.94-.94-2.06-.94 2.06-2.06.94z\"/><path d=\"M17.41 7.96l-1.37-1.37c-.4-.4-.92-.59-1.43-.59-.52 0-1.04.2-1.43.59L10.3 9.45l-7.72 7.72c-.78.78-.78 2.05 0 2.83L4 21.41c.39.39.9.59 1.41.59.51 0 1.02-.2 1.41-.59l7.78-7.78 2.81-2.81c.8-.78.8-2.07 0-2.86zM5.41 20L4 18.59l7.72-7.72 1.47 1.35L5.41 20z\"/>\n  </svg>\n      </button>\n      \n  <style>\n    .colab-df-container {\n      display:flex;\n      flex-wrap:wrap;\n      gap: 12px;\n    }\n\n    .colab-df-convert {\n      background-color: #E8F0FE;\n      border: none;\n      border-radius: 50%;\n      cursor: pointer;\n      display: none;\n      fill: #1967D2;\n      height: 32px;\n      padding: 0 0 0 0;\n      width: 32px;\n    }\n\n    .colab-df-convert:hover {\n      background-color: #E2EBFA;\n      box-shadow: 0px 1px 2px rgba(60, 64, 67, 0.3), 0px 1px 3px 1px rgba(60, 64, 67, 0.15);\n      fill: #174EA6;\n    }\n\n    [theme=dark] .colab-df-convert {\n      background-color: #3B4455;\n      fill: #D2E3FC;\n    }\n\n    [theme=dark] .colab-df-convert:hover {\n      background-color: #434B5C;\n      box-shadow: 0px 1px 3px 1px rgba(0, 0, 0, 0.15);\n      filter: drop-shadow(0px 1px 2px rgba(0, 0, 0, 0.3));\n      fill: #FFFFFF;\n    }\n  </style>\n\n      <script>\n        const buttonEl =\n          document.querySelector('#df-98dccead-e067-4358-b1e6-4dc7d813260f button.colab-df-convert');\n        buttonEl.style.display =\n          google.colab.kernel.accessAllowed ? 'block' : 'none';\n\n        async function convertToInteractive(key) {\n          const element = document.querySelector('#df-98dccead-e067-4358-b1e6-4dc7d813260f');\n          const dataTable =\n            await google.colab.kernel.invokeFunction('convertToInteractive',\n                                                     [key], {});\n          if (!dataTable) return;\n\n          const docLinkHtml = 'Like what you see? Visit the ' +\n            '<a target=\"_blank\" href=https://colab.research.google.com/notebooks/data_table.ipynb>data table notebook</a>'\n            + ' to learn more about interactive tables.';\n          element.innerHTML = '';\n          dataTable['output_type'] = 'display_data';\n          await google.colab.output.renderOutput(dataTable, element);\n          const docLink = document.createElement('div');\n          docLink.innerHTML = docLinkHtml;\n          element.appendChild(docLink);\n        }\n      </script>\n    </div>\n  </div>\n  "
     },
     "metadata": {},
     "execution_count": 83
    }
   ],
   "source": [
    "word_vectors.head()"
   ]
  },
  {
   "cell_type": "code",
   "execution_count": 89,
   "metadata": {},
   "outputs": [],
   "source": [
    "word_vectors.to_csv(\"prep_meta_data.tsv\",sep =\"\\t\",index = False)"
   ]
  },
  {
   "cell_type": "code",
   "execution_count": 90,
   "metadata": {},
   "outputs": [
    {
     "output_type": "execute_result",
     "data": {
      "text/plain": [
       "          0         1         2         3         4         5         6  \\\n",
       "0  0.000000  0.000000  0.000000  0.000000  0.000000  0.000000  0.000000   \n",
       "1 -8.009912 -2.296135  1.751826 -2.643408  1.582709 -3.423228  1.673678   \n",
       "2  0.168141 -1.772859 -0.500348  1.046328  3.021698 -7.178311  3.537433   \n",
       "3 -3.558702 -1.454928  2.358758  1.284768 -0.278380 -2.398882  3.422882   \n",
       "4 -2.494306 -2.278086  1.807872  0.244650  3.597616 -1.243710  0.698184   \n",
       "\n",
       "          7         8         9        10        11        12        13  \\\n",
       "0  0.000000  0.000000  0.000000  0.000000  0.000000  0.000000  0.000000   \n",
       "1  2.366344  0.920419  3.158559  2.454304  0.311159  3.599848  1.312220   \n",
       "2 -0.229177  0.014891 -0.685747 -1.323345 -1.795694 -0.414231  4.162427   \n",
       "3  2.132612  1.681724 -4.255305  0.222466 -0.502357 -1.533516  0.967723   \n",
       "4 -0.634613 -0.723817 -0.340771  3.004715  1.082288  4.934502  0.853312   \n",
       "\n",
       "         14        15 metadata  \n",
       "0  0.000000  0.000000    [PAD]  \n",
       "1 -0.423543  1.432478        i  \n",
       "2 -3.456668  4.509147       br  \n",
       "3 -0.499883 -1.353392      the  \n",
       "4  0.782405 -0.290913     film  "
      ],
      "text/html": "\n  <div id=\"df-93e50a83-1d30-42ae-a62c-04969ef962d1\">\n    <div class=\"colab-df-container\">\n      <div>\n<style scoped>\n    .dataframe tbody tr th:only-of-type {\n        vertical-align: middle;\n    }\n\n    .dataframe tbody tr th {\n        vertical-align: top;\n    }\n\n    .dataframe thead th {\n        text-align: right;\n    }\n</style>\n<table border=\"1\" class=\"dataframe\">\n  <thead>\n    <tr style=\"text-align: right;\">\n      <th></th>\n      <th>0</th>\n      <th>1</th>\n      <th>2</th>\n      <th>3</th>\n      <th>4</th>\n      <th>5</th>\n      <th>6</th>\n      <th>7</th>\n      <th>8</th>\n      <th>9</th>\n      <th>10</th>\n      <th>11</th>\n      <th>12</th>\n      <th>13</th>\n      <th>14</th>\n      <th>15</th>\n      <th>metadata</th>\n    </tr>\n  </thead>\n  <tbody>\n    <tr>\n      <th>0</th>\n      <td>0.000000</td>\n      <td>0.000000</td>\n      <td>0.000000</td>\n      <td>0.000000</td>\n      <td>0.000000</td>\n      <td>0.000000</td>\n      <td>0.000000</td>\n      <td>0.000000</td>\n      <td>0.000000</td>\n      <td>0.000000</td>\n      <td>0.000000</td>\n      <td>0.000000</td>\n      <td>0.000000</td>\n      <td>0.000000</td>\n      <td>0.000000</td>\n      <td>0.000000</td>\n      <td>[PAD]</td>\n    </tr>\n    <tr>\n      <th>1</th>\n      <td>-8.009912</td>\n      <td>-2.296135</td>\n      <td>1.751826</td>\n      <td>-2.643408</td>\n      <td>1.582709</td>\n      <td>-3.423228</td>\n      <td>1.673678</td>\n      <td>2.366344</td>\n      <td>0.920419</td>\n      <td>3.158559</td>\n      <td>2.454304</td>\n      <td>0.311159</td>\n      <td>3.599848</td>\n      <td>1.312220</td>\n      <td>-0.423543</td>\n      <td>1.432478</td>\n      <td>i</td>\n    </tr>\n    <tr>\n      <th>2</th>\n      <td>0.168141</td>\n      <td>-1.772859</td>\n      <td>-0.500348</td>\n      <td>1.046328</td>\n      <td>3.021698</td>\n      <td>-7.178311</td>\n      <td>3.537433</td>\n      <td>-0.229177</td>\n      <td>0.014891</td>\n      <td>-0.685747</td>\n      <td>-1.323345</td>\n      <td>-1.795694</td>\n      <td>-0.414231</td>\n      <td>4.162427</td>\n      <td>-3.456668</td>\n      <td>4.509147</td>\n      <td>br</td>\n    </tr>\n    <tr>\n      <th>3</th>\n      <td>-3.558702</td>\n      <td>-1.454928</td>\n      <td>2.358758</td>\n      <td>1.284768</td>\n      <td>-0.278380</td>\n      <td>-2.398882</td>\n      <td>3.422882</td>\n      <td>2.132612</td>\n      <td>1.681724</td>\n      <td>-4.255305</td>\n      <td>0.222466</td>\n      <td>-0.502357</td>\n      <td>-1.533516</td>\n      <td>0.967723</td>\n      <td>-0.499883</td>\n      <td>-1.353392</td>\n      <td>the</td>\n    </tr>\n    <tr>\n      <th>4</th>\n      <td>-2.494306</td>\n      <td>-2.278086</td>\n      <td>1.807872</td>\n      <td>0.244650</td>\n      <td>3.597616</td>\n      <td>-1.243710</td>\n      <td>0.698184</td>\n      <td>-0.634613</td>\n      <td>-0.723817</td>\n      <td>-0.340771</td>\n      <td>3.004715</td>\n      <td>1.082288</td>\n      <td>4.934502</td>\n      <td>0.853312</td>\n      <td>0.782405</td>\n      <td>-0.290913</td>\n      <td>film</td>\n    </tr>\n  </tbody>\n</table>\n</div>\n      <button class=\"colab-df-convert\" onclick=\"convertToInteractive('df-93e50a83-1d30-42ae-a62c-04969ef962d1')\"\n              title=\"Convert this dataframe to an interactive table.\"\n              style=\"display:none;\">\n        \n  <svg xmlns=\"http://www.w3.org/2000/svg\" height=\"24px\"viewBox=\"0 0 24 24\"\n       width=\"24px\">\n    <path d=\"M0 0h24v24H0V0z\" fill=\"none\"/>\n    <path d=\"M18.56 5.44l.94 2.06.94-2.06 2.06-.94-2.06-.94-.94-2.06-.94 2.06-2.06.94zm-11 1L8.5 8.5l.94-2.06 2.06-.94-2.06-.94L8.5 2.5l-.94 2.06-2.06.94zm10 10l.94 2.06.94-2.06 2.06-.94-2.06-.94-.94-2.06-.94 2.06-2.06.94z\"/><path d=\"M17.41 7.96l-1.37-1.37c-.4-.4-.92-.59-1.43-.59-.52 0-1.04.2-1.43.59L10.3 9.45l-7.72 7.72c-.78.78-.78 2.05 0 2.83L4 21.41c.39.39.9.59 1.41.59.51 0 1.02-.2 1.41-.59l7.78-7.78 2.81-2.81c.8-.78.8-2.07 0-2.86zM5.41 20L4 18.59l7.72-7.72 1.47 1.35L5.41 20z\"/>\n  </svg>\n      </button>\n      \n  <style>\n    .colab-df-container {\n      display:flex;\n      flex-wrap:wrap;\n      gap: 12px;\n    }\n\n    .colab-df-convert {\n      background-color: #E8F0FE;\n      border: none;\n      border-radius: 50%;\n      cursor: pointer;\n      display: none;\n      fill: #1967D2;\n      height: 32px;\n      padding: 0 0 0 0;\n      width: 32px;\n    }\n\n    .colab-df-convert:hover {\n      background-color: #E2EBFA;\n      box-shadow: 0px 1px 2px rgba(60, 64, 67, 0.3), 0px 1px 3px 1px rgba(60, 64, 67, 0.15);\n      fill: #174EA6;\n    }\n\n    [theme=dark] .colab-df-convert {\n      background-color: #3B4455;\n      fill: #D2E3FC;\n    }\n\n    [theme=dark] .colab-df-convert:hover {\n      background-color: #434B5C;\n      box-shadow: 0px 1px 3px 1px rgba(0, 0, 0, 0.15);\n      filter: drop-shadow(0px 1px 2px rgba(0, 0, 0, 0.3));\n      fill: #FFFFFF;\n    }\n  </style>\n\n      <script>\n        const buttonEl =\n          document.querySelector('#df-93e50a83-1d30-42ae-a62c-04969ef962d1 button.colab-df-convert');\n        buttonEl.style.display =\n          google.colab.kernel.accessAllowed ? 'block' : 'none';\n\n        async function convertToInteractive(key) {\n          const element = document.querySelector('#df-93e50a83-1d30-42ae-a62c-04969ef962d1');\n          const dataTable =\n            await google.colab.kernel.invokeFunction('convertToInteractive',\n                                                     [key], {});\n          if (!dataTable) return;\n\n          const docLinkHtml = 'Like what you see? Visit the ' +\n            '<a target=\"_blank\" href=https://colab.research.google.com/notebooks/data_table.ipynb>data table notebook</a>'\n            + ' to learn more about interactive tables.';\n          element.innerHTML = '';\n          dataTable['output_type'] = 'display_data';\n          await google.colab.output.renderOutput(dataTable, element);\n          const docLink = document.createElement('div');\n          docLink.innerHTML = docLinkHtml;\n          element.appendChild(docLink);\n        }\n      </script>\n    </div>\n  </div>\n  "
     },
     "metadata": {},
     "execution_count": 90
    }
   ],
   "source": [
    "pd.read_csv(\"prep_meta_data.tsv\",sep =\"\\t\").head()"
   ]
  },
  {
   "cell_type": "code",
   "execution_count": 86,
   "metadata": {},
   "outputs": [
    {
     "output_type": "execute_result",
     "data": {
      "text/plain": [
       "(140808, 17)"
      ]
     },
     "metadata": {},
     "execution_count": 86
    }
   ],
   "source": [
    "word_vectors"
   ]
  },
  {
   "cell_type": "code",
   "execution_count": 115,
   "metadata": {},
   "outputs": [],
   "source": [
    "test_data = pd.read_csv(\"/content/drive/MyDrive/DL_projects/text_classification/dataset/train.tsv\",sep = '\\t',header = None)[[1,3]].iloc[:12,:]"
   ]
  },
  {
   "cell_type": "code",
   "execution_count": 130,
   "metadata": {},
   "outputs": [
    {
     "output_type": "stream",
     "name": "stdout",
     "text": [
      "HAM\nI have done a lot of international travel, both on business and as a tourist. For both types I assure you the best advice is also the oldest: Always drink the wine of the country. In this movie the archangel Michael comes to Earth on business, wraps it up quickly and decides to hang around for a little touring. Boy! Does he \"drink the wine of the country.\"<br /><br />Could man be drunk forever with liquor, love and fights <br /><br />He'd lief rise up of mornings and lief lie down of nights.<br /><br />These are things you can't do in Heaven so he enjoys them while he's here! Of course it turns out he had a couple of other jobs to tackle and, if he is less direct about them than he was about the first one, he is just as successful. The final scene is a little schmaltzy but it is also wonderful. Jean Stapleton gets to dance with John Travolta.\n\nHAM\nOne of the most frightening game experiences ever that will make you keep the lights on next to your bed. Great storyline with a romantic, horrific, and ironic plot. Fans of the original Resident Evil will be in for a surprise of a returning character! Not to mention that the voice-acting have drastically improved over the previous of the series. Don't miss out on the best of the series.\n\nHAM\nI was amazingly impressed by this movie. It contained fundamental elements of depression, grief, loneliness, despair, hope, dreams and companionship. It wasn't merely about a genius musician who hit rock bottom but it was about a man caught up in grief trying drastically to find solace within his music. He finds a companion who comes with her own issues. Claire and Des were able to provide each other with friendship and love but more importantly a conclusion to events which had shaped their life for the worst. <br /><br />Des is an unlikely character by todays standards of a rock star. Yet he has musical genius. He also has an event in his past that has made him stagnate, while things around him literally go to ruins. His focus is creating his Whale Music, in fact it becomes an obsession for him.<br /><br />Claire is the streetwise kid that needs a place to stay. She finds hidden talents while being in Des company. She also finds a mutual friend that accepts her. She learns to trust him over a period of time.<br /><br />These two find love with one another. Not the mind blowing, sex infused kind of passion, but a love where friendship and understanding means more. For two people who have been hurt, they find trust together.\n\nSPAM\nThis film is stale, and misses the mark. It is far off compared to the 89 Batman that it tries to coppy. That women singer whats her name can not act, and we see why her film carrier died. Notice how this film died in the box office no one see this film on tv either. My uncle and dad were expecting Batman, and the films impression is more like Cop Rock. Not worth renting 3/10\n\nHAM\nAt last!! Sandra Bullock is indeed a beautiful woman, but I've finally found a film that she gets to be an actress! Forget the predictable Keanu-fodder of SPEED, forget the predictable Kleenex-fodder of WHILE YOU WERE SLEEPING - this tests her!<br /><br />And she is great! A techno-feminist role that really works well on screen, on a subject that is very close to the bone. The issues raised don't seem far-fetched at all and the whole experience, helped along by a fine supporting cast, makes for quite an un-nerving couple of hours.<br /><br />You may never enter another chat-room again, in fact I'm getting quite nervous just writing this review...er...bye!\n\n"
     ]
    }
   ],
   "source": [
    "for i in range(5):\n",
    "    if test_data[1][i] == 1:\n",
    "        print(\"HAM\")\n",
    "        print(test_data[3][i])\n",
    "        print()\n",
    "\n",
    "    else:\n",
    "        print(\"SPAM\")\n",
    "        print(test_data[3][i])\n",
    "        print()\n",
    "\n",
    "\n",
    "# test_data[3]"
   ]
  },
  {
   "cell_type": "code",
   "execution_count": null,
   "metadata": {},
   "outputs": [],
   "source": []
  }
 ],
 "metadata": {
  "kernelspec": {
   "name": "python3",
   "display_name": "Python 3.7.14 64-bit"
  },
  "language_info": {
   "codemirror_mode": {
    "name": "ipython",
    "version": 3
   },
   "file_extension": ".py",
   "mimetype": "text/x-python",
   "name": "python",
   "nbconvert_exporter": "python",
   "pygments_lexer": "ipython3",
   "version": "3.7.14"
  },
  "metadata": {
   "interpreter": {
    "hash": "4cd7ab41f5fca4b9b44701077e38c5ffd31fe66a6cab21e0214b68d958d0e462"
   }
  }
 },
 "nbformat": 4,
 "nbformat_minor": 2
}