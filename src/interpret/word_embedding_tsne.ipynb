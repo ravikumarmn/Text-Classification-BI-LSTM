{
 "cells": [
  {
   "cell_type": "markdown",
   "metadata": {},
   "source": [
    "## REQUIREMENTS"
   ]
  },
  {
   "cell_type": "code",
   "execution_count": 14,
   "metadata": {},
   "outputs": [],
   "source": [
    "import numpy as np\n",
    "import pandas as pd\n",
    "import seaborn as sn\n",
    "x = np.random.randn(5,2)\n",
    "x_s,y_s = x.shape"
   ]
  },
  {
   "cell_type": "code",
   "execution_count": 18,
   "metadata": {},
   "outputs": [],
   "source": [
    "from sklearn.metrics import confusion_matrix"
   ]
  },
  {
   "cell_type": "code",
   "execution_count": 21,
   "metadata": {},
   "outputs": [
    {
     "output_type": "error",
     "ename": "ValueError",
     "evalue": "multilabel-indicator is not supported",
     "traceback": [
      "\u001b[0;31m---------------------------------------------------------------------------\u001b[0m",
      "\u001b[0;31mValueError\u001b[0m                                Traceback (most recent call last)",
      "\u001b[0;32m<ipython-input-21-fe044981c61f>\u001b[0m in \u001b[0;36m<module>\u001b[0;34m\u001b[0m\n\u001b[1;32m      4\u001b[0m \u001b[0my_predicted\u001b[0m \u001b[0;34m=\u001b[0m \u001b[0;34m[\u001b[0m\u001b[0;34m[\u001b[0m\u001b[0;36m1\u001b[0m\u001b[0;34m,\u001b[0m \u001b[0;36m0\u001b[0m\u001b[0;34m,\u001b[0m \u001b[0;36m1\u001b[0m\u001b[0;34m,\u001b[0m \u001b[0;36m0\u001b[0m\u001b[0;34m,\u001b[0m \u001b[0;36m0\u001b[0m\u001b[0;34m,\u001b[0m \u001b[0;36m0\u001b[0m\u001b[0;34m,\u001b[0m \u001b[0;36m0\u001b[0m\u001b[0;34m,\u001b[0m \u001b[0;36m1\u001b[0m\u001b[0;34m]\u001b[0m\u001b[0;34m,\u001b[0m\u001b[0;34m[\u001b[0m\u001b[0;36m0\u001b[0m\u001b[0;34m,\u001b[0m \u001b[0;36m0\u001b[0m\u001b[0;34m,\u001b[0m \u001b[0;36m1\u001b[0m\u001b[0;34m,\u001b[0m \u001b[0;36m0\u001b[0m\u001b[0;34m,\u001b[0m \u001b[0;36m0\u001b[0m\u001b[0;34m,\u001b[0m \u001b[0;36m1\u001b[0m\u001b[0;34m,\u001b[0m \u001b[0;36m1\u001b[0m\u001b[0;34m,\u001b[0m \u001b[0;36m1\u001b[0m\u001b[0;34m]\u001b[0m\u001b[0;34m]\u001b[0m\u001b[0;34m\u001b[0m\u001b[0;34m\u001b[0m\u001b[0m\n\u001b[1;32m      5\u001b[0m \u001b[0;34m\u001b[0m\u001b[0m\n\u001b[0;32m----> 6\u001b[0;31m \u001b[0mcm\u001b[0m \u001b[0;34m=\u001b[0m \u001b[0mconfusion_matrix\u001b[0m\u001b[0;34m(\u001b[0m\u001b[0my_target\u001b[0m\u001b[0;34m,\u001b[0m\u001b[0my_predicted\u001b[0m\u001b[0;34m)\u001b[0m\u001b[0;34m\u001b[0m\u001b[0;34m\u001b[0m\u001b[0m\n\u001b[0m\u001b[1;32m      7\u001b[0m \u001b[0mcm\u001b[0m\u001b[0;34m\u001b[0m\u001b[0;34m\u001b[0m\u001b[0m\n",
      "\u001b[0;32m/usr/local/lib/python3.7/dist-packages/sklearn/metrics/_classification.py\u001b[0m in \u001b[0;36mconfusion_matrix\u001b[0;34m(y_true, y_pred, labels, sample_weight, normalize)\u001b[0m\n\u001b[1;32m    307\u001b[0m     \u001b[0my_type\u001b[0m\u001b[0;34m,\u001b[0m \u001b[0my_true\u001b[0m\u001b[0;34m,\u001b[0m \u001b[0my_pred\u001b[0m \u001b[0;34m=\u001b[0m \u001b[0m_check_targets\u001b[0m\u001b[0;34m(\u001b[0m\u001b[0my_true\u001b[0m\u001b[0;34m,\u001b[0m \u001b[0my_pred\u001b[0m\u001b[0;34m)\u001b[0m\u001b[0;34m\u001b[0m\u001b[0;34m\u001b[0m\u001b[0m\n\u001b[1;32m    308\u001b[0m     \u001b[0;32mif\u001b[0m \u001b[0my_type\u001b[0m \u001b[0;32mnot\u001b[0m \u001b[0;32min\u001b[0m \u001b[0;34m(\u001b[0m\u001b[0;34m\"binary\"\u001b[0m\u001b[0;34m,\u001b[0m \u001b[0;34m\"multiclass\"\u001b[0m\u001b[0;34m)\u001b[0m\u001b[0;34m:\u001b[0m\u001b[0;34m\u001b[0m\u001b[0;34m\u001b[0m\u001b[0m\n\u001b[0;32m--> 309\u001b[0;31m         \u001b[0;32mraise\u001b[0m \u001b[0mValueError\u001b[0m\u001b[0;34m(\u001b[0m\u001b[0;34m\"%s is not supported\"\u001b[0m \u001b[0;34m%\u001b[0m \u001b[0my_type\u001b[0m\u001b[0;34m)\u001b[0m\u001b[0;34m\u001b[0m\u001b[0;34m\u001b[0m\u001b[0m\n\u001b[0m\u001b[1;32m    310\u001b[0m \u001b[0;34m\u001b[0m\u001b[0m\n\u001b[1;32m    311\u001b[0m     \u001b[0;32mif\u001b[0m \u001b[0mlabels\u001b[0m \u001b[0;32mis\u001b[0m \u001b[0;32mNone\u001b[0m\u001b[0;34m:\u001b[0m\u001b[0;34m\u001b[0m\u001b[0;34m\u001b[0m\u001b[0m\n",
      "\u001b[0;31mValueError\u001b[0m: multilabel-indicator is not supported"
     ]
    }
   ],
   "source": [
    "# from mlxtend.evaluate import confusion_matrix\n",
    "\n",
    "y_target =    [[0, 0, 1, 0, 0, 1, 1, 1],[0, 0, 1, 0, 0, 1, 1, 1]]\n",
    "y_predicted = [[1, 0, 1, 0, 0, 0, 0, 1],[0, 0, 1, 0, 0, 1, 1, 1]]\n",
    "\n",
    "cm = confusion_matrix(y_target,y_predicted)\n",
    "cm"
   ]
  },
  {
   "cell_type": "code",
   "execution_count": 15,
   "metadata": {},
   "outputs": [
    {
     "output_type": "execute_result",
     "data": {
      "text/plain": [
       "<matplotlib.axes._subplots.AxesSubplot at 0x7fd45d58e550>"
      ]
     },
     "metadata": {},
     "execution_count": 15
    },
    {
     "output_type": "display_data",
     "data": {
      "text/plain": "<Figure size 432x288 with 2 Axes>",
      "image/svg+xml": "<?xml version=\"1.0\" encoding=\"utf-8\" standalone=\"no\"?>\n<!DOCTYPE svg PUBLIC \"-//W3C//DTD SVG 1.1//EN\"\n  \"http://www.w3.org/Graphics/SVG/1.1/DTD/svg11.dtd\">\n<!-- Created with matplotlib (https://matplotlib.org/) -->\n<svg height=\"246.662969pt\" version=\"1.1\" viewBox=\"0 0 347.530516 246.662969\" width=\"347.530516pt\" xmlns=\"http://www.w3.org/2000/svg\" xmlns:xlink=\"http://www.w3.org/1999/xlink\">\n <defs>\n  <style type=\"text/css\">\n*{stroke-linecap:butt;stroke-linejoin:round;}\n  </style>\n </defs>\n <g id=\"figure_1\">\n  <g id=\"patch_1\">\n   <path d=\"M -0 246.662969 \nL 347.530516 246.662969 \nL 347.530516 0 \nL -0 0 \nz\n\" style=\"fill:#ffffff;\"/>\n  </g>\n  <g id=\"axes_1\">\n   <g id=\"patch_2\">\n    <path d=\"M 22.022969 224.64 \nL 289.862969 224.64 \nL 289.862969 7.2 \nL 22.022969 7.2 \nz\n\" style=\"fill:#eaeaf2;\"/>\n   </g>\n   <g id=\"matplotlib.axis_1\">\n    <g id=\"xtick_1\">\n     <g id=\"text_1\">\n      <!-- 0 -->\n      <defs>\n       <path d=\"M 31.78125 66.40625 \nQ 24.171875 66.40625 20.328125 58.90625 \nQ 16.5 51.421875 16.5 36.375 \nQ 16.5 21.390625 20.328125 13.890625 \nQ 24.171875 6.390625 31.78125 6.390625 \nQ 39.453125 6.390625 43.28125 13.890625 \nQ 47.125 21.390625 47.125 36.375 \nQ 47.125 51.421875 43.28125 58.90625 \nQ 39.453125 66.40625 31.78125 66.40625 \nz\nM 31.78125 74.21875 \nQ 44.046875 74.21875 50.515625 64.515625 \nQ 56.984375 54.828125 56.984375 36.375 \nQ 56.984375 17.96875 50.515625 8.265625 \nQ 44.046875 -1.421875 31.78125 -1.421875 \nQ 19.53125 -1.421875 13.0625 8.265625 \nQ 6.59375 17.96875 6.59375 36.375 \nQ 6.59375 54.828125 13.0625 64.515625 \nQ 19.53125 74.21875 31.78125 74.21875 \nz\n\" id=\"DejaVuSans-48\"/>\n      </defs>\n      <g style=\"fill:#262626;\" transform=\"translate(87.233281 238.319141)scale(0.055 -0.055)\">\n       <use xlink:href=\"#DejaVuSans-48\"/>\n      </g>\n     </g>\n    </g>\n    <g id=\"xtick_2\">\n     <g id=\"text_2\">\n      <!-- 1 -->\n      <defs>\n       <path d=\"M 12.40625 8.296875 \nL 28.515625 8.296875 \nL 28.515625 63.921875 \nL 10.984375 60.40625 \nL 10.984375 69.390625 \nL 28.421875 72.90625 \nL 38.28125 72.90625 \nL 38.28125 8.296875 \nL 54.390625 8.296875 \nL 54.390625 0 \nL 12.40625 0 \nz\n\" id=\"DejaVuSans-49\"/>\n      </defs>\n      <g style=\"fill:#262626;\" transform=\"translate(221.153281 238.319141)scale(0.055 -0.055)\">\n       <use xlink:href=\"#DejaVuSans-49\"/>\n      </g>\n     </g>\n    </g>\n   </g>\n   <g id=\"matplotlib.axis_2\">\n    <g id=\"ytick_1\">\n     <g id=\"text_3\">\n      <!-- 0 -->\n      <g style=\"fill:#262626;\" transform=\"translate(11.379141 30.693687)rotate(-90)scale(0.055 -0.055)\">\n       <use xlink:href=\"#DejaVuSans-48\"/>\n      </g>\n     </g>\n    </g>\n    <g id=\"ytick_2\">\n     <g id=\"text_4\">\n      <!-- 1 -->\n      <g style=\"fill:#262626;\" transform=\"translate(11.379141 74.181687)rotate(-90)scale(0.055 -0.055)\">\n       <use xlink:href=\"#DejaVuSans-49\"/>\n      </g>\n     </g>\n    </g>\n    <g id=\"ytick_3\">\n     <g id=\"text_5\">\n      <!-- 2 -->\n      <defs>\n       <path d=\"M 19.1875 8.296875 \nL 53.609375 8.296875 \nL 53.609375 0 \nL 7.328125 0 \nL 7.328125 8.296875 \nQ 12.9375 14.109375 22.625 23.890625 \nQ 32.328125 33.6875 34.8125 36.53125 \nQ 39.546875 41.84375 41.421875 45.53125 \nQ 43.3125 49.21875 43.3125 52.78125 \nQ 43.3125 58.59375 39.234375 62.25 \nQ 35.15625 65.921875 28.609375 65.921875 \nQ 23.96875 65.921875 18.8125 64.3125 \nQ 13.671875 62.703125 7.8125 59.421875 \nL 7.8125 69.390625 \nQ 13.765625 71.78125 18.9375 73 \nQ 24.125 74.21875 28.421875 74.21875 \nQ 39.75 74.21875 46.484375 68.546875 \nQ 53.21875 62.890625 53.21875 53.421875 \nQ 53.21875 48.921875 51.53125 44.890625 \nQ 49.859375 40.875 45.40625 35.40625 \nQ 44.1875 33.984375 37.640625 27.21875 \nQ 31.109375 20.453125 19.1875 8.296875 \nz\n\" id=\"DejaVuSans-50\"/>\n      </defs>\n      <g style=\"fill:#262626;\" transform=\"translate(11.379141 117.669687)rotate(-90)scale(0.055 -0.055)\">\n       <use xlink:href=\"#DejaVuSans-50\"/>\n      </g>\n     </g>\n    </g>\n    <g id=\"ytick_4\">\n     <g id=\"text_6\">\n      <!-- 3 -->\n      <defs>\n       <path d=\"M 40.578125 39.3125 \nQ 47.65625 37.796875 51.625 33 \nQ 55.609375 28.21875 55.609375 21.1875 \nQ 55.609375 10.40625 48.1875 4.484375 \nQ 40.765625 -1.421875 27.09375 -1.421875 \nQ 22.515625 -1.421875 17.65625 -0.515625 \nQ 12.796875 0.390625 7.625 2.203125 \nL 7.625 11.71875 \nQ 11.71875 9.328125 16.59375 8.109375 \nQ 21.484375 6.890625 26.8125 6.890625 \nQ 36.078125 6.890625 40.9375 10.546875 \nQ 45.796875 14.203125 45.796875 21.1875 \nQ 45.796875 27.640625 41.28125 31.265625 \nQ 36.765625 34.90625 28.71875 34.90625 \nL 20.21875 34.90625 \nL 20.21875 43.015625 \nL 29.109375 43.015625 \nQ 36.375 43.015625 40.234375 45.921875 \nQ 44.09375 48.828125 44.09375 54.296875 \nQ 44.09375 59.90625 40.109375 62.90625 \nQ 36.140625 65.921875 28.71875 65.921875 \nQ 24.65625 65.921875 20.015625 65.03125 \nQ 15.375 64.15625 9.8125 62.3125 \nL 9.8125 71.09375 \nQ 15.4375 72.65625 20.34375 73.4375 \nQ 25.25 74.21875 29.59375 74.21875 \nQ 40.828125 74.21875 47.359375 69.109375 \nQ 53.90625 64.015625 53.90625 55.328125 \nQ 53.90625 49.265625 50.4375 45.09375 \nQ 46.96875 40.921875 40.578125 39.3125 \nz\n\" id=\"DejaVuSans-51\"/>\n      </defs>\n      <g style=\"fill:#262626;\" transform=\"translate(11.379141 161.157687)rotate(-90)scale(0.055 -0.055)\">\n       <use xlink:href=\"#DejaVuSans-51\"/>\n      </g>\n     </g>\n    </g>\n    <g id=\"ytick_5\">\n     <g id=\"text_7\">\n      <!-- 4 -->\n      <defs>\n       <path d=\"M 37.796875 64.3125 \nL 12.890625 25.390625 \nL 37.796875 25.390625 \nz\nM 35.203125 72.90625 \nL 47.609375 72.90625 \nL 47.609375 25.390625 \nL 58.015625 25.390625 \nL 58.015625 17.1875 \nL 47.609375 17.1875 \nL 47.609375 0 \nL 37.796875 0 \nL 37.796875 17.1875 \nL 4.890625 17.1875 \nL 4.890625 26.703125 \nz\n\" id=\"DejaVuSans-52\"/>\n      </defs>\n      <g style=\"fill:#262626;\" transform=\"translate(11.379141 204.645687)rotate(-90)scale(0.055 -0.055)\">\n       <use xlink:href=\"#DejaVuSans-52\"/>\n      </g>\n     </g>\n    </g>\n   </g>\n   <g id=\"QuadMesh_1\">\n    <path clip-path=\"url(#pe3b8e8f41b)\" d=\"M 22.022969 7.2 \nL 155.942969 7.2 \nL 155.942969 50.688 \nL 22.022969 50.688 \nL 22.022969 7.2 \n\" style=\"fill:#b71657;\"/>\n    <path clip-path=\"url(#pe3b8e8f41b)\" d=\"M 155.942969 7.2 \nL 289.862969 7.2 \nL 289.862969 50.688 \nL 155.942969 50.688 \nL 155.942969 7.2 \n\" style=\"fill:#481c48;\"/>\n    <path clip-path=\"url(#pe3b8e8f41b)\" d=\"M 22.022969 50.688 \nL 155.942969 50.688 \nL 155.942969 94.176 \nL 22.022969 94.176 \nL 22.022969 50.688 \n\" style=\"fill:#421b45;\"/>\n    <path clip-path=\"url(#pe3b8e8f41b)\" d=\"M 155.942969 50.688 \nL 289.862969 50.688 \nL 289.862969 94.176 \nL 155.942969 94.176 \nL 155.942969 50.688 \n\" style=\"fill:#ec4a3e;\"/>\n    <path clip-path=\"url(#pe3b8e8f41b)\" d=\"M 22.022969 94.176 \nL 155.942969 94.176 \nL 155.942969 137.664 \nL 22.022969 137.664 \nL 22.022969 94.176 \n\" style=\"fill:#f6bf9d;\"/>\n    <path clip-path=\"url(#pe3b8e8f41b)\" d=\"M 155.942969 94.176 \nL 289.862969 94.176 \nL 289.862969 137.664 \nL 155.942969 137.664 \nL 155.942969 94.176 \n\" style=\"fill:#e23442;\"/>\n    <path clip-path=\"url(#pe3b8e8f41b)\" d=\"M 22.022969 137.664 \nL 155.942969 137.664 \nL 155.942969 181.152 \nL 22.022969 181.152 \nL 22.022969 137.664 \n\" style=\"fill:#03051a;\"/>\n    <path clip-path=\"url(#pe3b8e8f41b)\" d=\"M 155.942969 137.664 \nL 289.862969 137.664 \nL 289.862969 181.152 \nL 155.942969 181.152 \nL 155.942969 137.664 \n\" style=\"fill:#421b45;\"/>\n    <path clip-path=\"url(#pe3b8e8f41b)\" d=\"M 22.022969 181.152 \nL 155.942969 181.152 \nL 155.942969 224.64 \nL 22.022969 224.64 \nL 22.022969 181.152 \n\" style=\"fill:#faebdd;\"/>\n    <path clip-path=\"url(#pe3b8e8f41b)\" d=\"M 155.942969 181.152 \nL 289.862969 181.152 \nL 289.862969 224.64 \nL 155.942969 224.64 \nL 155.942969 181.152 \n\" style=\"fill:#f16646;\"/>\n   </g>\n   <g id=\"text_8\">\n    <!-- -0.18 -->\n    <defs>\n     <path d=\"M 4.890625 31.390625 \nL 31.203125 31.390625 \nL 31.203125 23.390625 \nL 4.890625 23.390625 \nz\n\" id=\"DejaVuSans-45\"/>\n     <path d=\"M 10.6875 12.40625 \nL 21 12.40625 \nL 21 0 \nL 10.6875 0 \nz\n\" id=\"DejaVuSans-46\"/>\n     <path d=\"M 31.78125 34.625 \nQ 24.75 34.625 20.71875 30.859375 \nQ 16.703125 27.09375 16.703125 20.515625 \nQ 16.703125 13.921875 20.71875 10.15625 \nQ 24.75 6.390625 31.78125 6.390625 \nQ 38.8125 6.390625 42.859375 10.171875 \nQ 46.921875 13.96875 46.921875 20.515625 \nQ 46.921875 27.09375 42.890625 30.859375 \nQ 38.875 34.625 31.78125 34.625 \nz\nM 21.921875 38.8125 \nQ 15.578125 40.375 12.03125 44.71875 \nQ 8.5 49.078125 8.5 55.328125 \nQ 8.5 64.0625 14.71875 69.140625 \nQ 20.953125 74.21875 31.78125 74.21875 \nQ 42.671875 74.21875 48.875 69.140625 \nQ 55.078125 64.0625 55.078125 55.328125 \nQ 55.078125 49.078125 51.53125 44.71875 \nQ 48 40.375 41.703125 38.8125 \nQ 48.828125 37.15625 52.796875 32.3125 \nQ 56.78125 27.484375 56.78125 20.515625 \nQ 56.78125 9.90625 50.3125 4.234375 \nQ 43.84375 -1.421875 31.78125 -1.421875 \nQ 19.734375 -1.421875 13.25 4.234375 \nQ 6.78125 9.90625 6.78125 20.515625 \nQ 6.78125 27.484375 10.78125 32.3125 \nQ 14.796875 37.15625 21.921875 38.8125 \nz\nM 18.3125 54.390625 \nQ 18.3125 48.734375 21.84375 45.5625 \nQ 25.390625 42.390625 31.78125 42.390625 \nQ 38.140625 42.390625 41.71875 45.5625 \nQ 45.3125 48.734375 45.3125 54.390625 \nQ 45.3125 60.0625 41.71875 63.234375 \nQ 38.140625 66.40625 31.78125 66.40625 \nQ 25.390625 66.40625 21.84375 63.234375 \nQ 18.3125 60.0625 18.3125 54.390625 \nz\n\" id=\"DejaVuSans-56\"/>\n    </defs>\n    <g style=\"fill:#ffffff;\" transform=\"translate(56.641172 35.842437)scale(0.25 -0.25)\">\n     <use xlink:href=\"#DejaVuSans-45\"/>\n     <use x=\"36.083984\" xlink:href=\"#DejaVuSans-48\"/>\n     <use x=\"99.707031\" xlink:href=\"#DejaVuSans-46\"/>\n     <use x=\"131.494141\" xlink:href=\"#DejaVuSans-49\"/>\n     <use x=\"195.117188\" xlink:href=\"#DejaVuSans-56\"/>\n    </g>\n   </g>\n   <g id=\"text_9\">\n    <!-- -1.2 -->\n    <g style=\"fill:#ffffff;\" transform=\"translate(198.514297 35.842437)scale(0.25 -0.25)\">\n     <use xlink:href=\"#DejaVuSans-45\"/>\n     <use x=\"36.083984\" xlink:href=\"#DejaVuSans-49\"/>\n     <use x=\"99.707031\" xlink:href=\"#DejaVuSans-46\"/>\n     <use x=\"131.494141\" xlink:href=\"#DejaVuSans-50\"/>\n    </g>\n   </g>\n   <g id=\"text_10\">\n    <!-- -1.2 -->\n    <g style=\"fill:#ffffff;\" transform=\"translate(64.594297 79.330437)scale(0.25 -0.25)\">\n     <use xlink:href=\"#DejaVuSans-45\"/>\n     <use x=\"36.083984\" xlink:href=\"#DejaVuSans-49\"/>\n     <use x=\"99.707031\" xlink:href=\"#DejaVuSans-46\"/>\n     <use x=\"131.494141\" xlink:href=\"#DejaVuSans-50\"/>\n    </g>\n   </g>\n   <g id=\"text_11\">\n    <!-- 0.48 -->\n    <g style=\"fill:#ffffff;\" transform=\"translate(195.070938 79.330437)scale(0.25 -0.25)\">\n     <use xlink:href=\"#DejaVuSans-48\"/>\n     <use x=\"63.623047\" xlink:href=\"#DejaVuSans-46\"/>\n     <use x=\"95.410156\" xlink:href=\"#DejaVuSans-52\"/>\n     <use x=\"159.033203\" xlink:href=\"#DejaVuSans-56\"/>\n    </g>\n   </g>\n   <g id=\"text_12\">\n    <!-- 1.5 -->\n    <defs>\n     <path d=\"M 10.796875 72.90625 \nL 49.515625 72.90625 \nL 49.515625 64.59375 \nL 19.828125 64.59375 \nL 19.828125 46.734375 \nQ 21.96875 47.46875 24.109375 47.828125 \nQ 26.265625 48.1875 28.421875 48.1875 \nQ 40.625 48.1875 47.75 41.5 \nQ 54.890625 34.8125 54.890625 23.390625 \nQ 54.890625 11.625 47.5625 5.09375 \nQ 40.234375 -1.421875 26.90625 -1.421875 \nQ 22.3125 -1.421875 17.546875 -0.640625 \nQ 12.796875 0.140625 7.71875 1.703125 \nL 7.71875 11.625 \nQ 12.109375 9.234375 16.796875 8.0625 \nQ 21.484375 6.890625 26.703125 6.890625 \nQ 35.15625 6.890625 40.078125 11.328125 \nQ 45.015625 15.765625 45.015625 23.390625 \nQ 45.015625 31 40.078125 35.4375 \nQ 35.15625 39.890625 26.703125 39.890625 \nQ 22.75 39.890625 18.8125 39.015625 \nQ 14.890625 38.140625 10.796875 36.28125 \nz\n\" id=\"DejaVuSans-53\"/>\n    </defs>\n    <g style=\"fill:#262626;\" transform=\"translate(69.104063 122.818437)scale(0.25 -0.25)\">\n     <use xlink:href=\"#DejaVuSans-49\"/>\n     <use x=\"63.623047\" xlink:href=\"#DejaVuSans-46\"/>\n     <use x=\"95.410156\" xlink:href=\"#DejaVuSans-53\"/>\n    </g>\n   </g>\n   <g id=\"text_13\">\n    <!-- 0.31 -->\n    <g style=\"fill:#ffffff;\" transform=\"translate(195.070938 122.818437)scale(0.25 -0.25)\">\n     <use xlink:href=\"#DejaVuSans-48\"/>\n     <use x=\"63.623047\" xlink:href=\"#DejaVuSans-46\"/>\n     <use x=\"95.410156\" xlink:href=\"#DejaVuSans-51\"/>\n     <use x=\"159.033203\" xlink:href=\"#DejaVuSans-49\"/>\n    </g>\n   </g>\n   <g id=\"text_14\">\n    <!-- -1.9 -->\n    <defs>\n     <path d=\"M 10.984375 1.515625 \nL 10.984375 10.5 \nQ 14.703125 8.734375 18.5 7.8125 \nQ 22.3125 6.890625 25.984375 6.890625 \nQ 35.75 6.890625 40.890625 13.453125 \nQ 46.046875 20.015625 46.78125 33.40625 \nQ 43.953125 29.203125 39.59375 26.953125 \nQ 35.25 24.703125 29.984375 24.703125 \nQ 19.046875 24.703125 12.671875 31.3125 \nQ 6.296875 37.9375 6.296875 49.421875 \nQ 6.296875 60.640625 12.9375 67.421875 \nQ 19.578125 74.21875 30.609375 74.21875 \nQ 43.265625 74.21875 49.921875 64.515625 \nQ 56.59375 54.828125 56.59375 36.375 \nQ 56.59375 19.140625 48.40625 8.859375 \nQ 40.234375 -1.421875 26.421875 -1.421875 \nQ 22.703125 -1.421875 18.890625 -0.6875 \nQ 15.09375 0.046875 10.984375 1.515625 \nz\nM 30.609375 32.421875 \nQ 37.25 32.421875 41.125 36.953125 \nQ 45.015625 41.5 45.015625 49.421875 \nQ 45.015625 57.28125 41.125 61.84375 \nQ 37.25 66.40625 30.609375 66.40625 \nQ 23.96875 66.40625 20.09375 61.84375 \nQ 16.21875 57.28125 16.21875 49.421875 \nQ 16.21875 41.5 20.09375 36.953125 \nQ 23.96875 32.421875 30.609375 32.421875 \nz\n\" id=\"DejaVuSans-57\"/>\n    </defs>\n    <g style=\"fill:#ffffff;\" transform=\"translate(64.594297 166.306437)scale(0.25 -0.25)\">\n     <use xlink:href=\"#DejaVuSans-45\"/>\n     <use x=\"36.083984\" xlink:href=\"#DejaVuSans-49\"/>\n     <use x=\"99.707031\" xlink:href=\"#DejaVuSans-46\"/>\n     <use x=\"131.494141\" xlink:href=\"#DejaVuSans-57\"/>\n    </g>\n   </g>\n   <g id=\"text_15\">\n    <!-- -1.2 -->\n    <g style=\"fill:#ffffff;\" transform=\"translate(198.514297 166.306437)scale(0.25 -0.25)\">\n     <use xlink:href=\"#DejaVuSans-45\"/>\n     <use x=\"36.083984\" xlink:href=\"#DejaVuSans-49\"/>\n     <use x=\"99.707031\" xlink:href=\"#DejaVuSans-46\"/>\n     <use x=\"131.494141\" xlink:href=\"#DejaVuSans-50\"/>\n    </g>\n   </g>\n   <g id=\"text_16\">\n    <!-- 1.9 -->\n    <g style=\"fill:#262626;\" transform=\"translate(69.104063 209.794437)scale(0.25 -0.25)\">\n     <use xlink:href=\"#DejaVuSans-49\"/>\n     <use x=\"63.623047\" xlink:href=\"#DejaVuSans-46\"/>\n     <use x=\"95.410156\" xlink:href=\"#DejaVuSans-57\"/>\n    </g>\n   </g>\n   <g id=\"text_17\">\n    <!-- 0.69 -->\n    <defs>\n     <path d=\"M 33.015625 40.375 \nQ 26.375 40.375 22.484375 35.828125 \nQ 18.609375 31.296875 18.609375 23.390625 \nQ 18.609375 15.53125 22.484375 10.953125 \nQ 26.375 6.390625 33.015625 6.390625 \nQ 39.65625 6.390625 43.53125 10.953125 \nQ 47.40625 15.53125 47.40625 23.390625 \nQ 47.40625 31.296875 43.53125 35.828125 \nQ 39.65625 40.375 33.015625 40.375 \nz\nM 52.59375 71.296875 \nL 52.59375 62.3125 \nQ 48.875 64.0625 45.09375 64.984375 \nQ 41.3125 65.921875 37.59375 65.921875 \nQ 27.828125 65.921875 22.671875 59.328125 \nQ 17.53125 52.734375 16.796875 39.40625 \nQ 19.671875 43.65625 24.015625 45.921875 \nQ 28.375 48.1875 33.59375 48.1875 \nQ 44.578125 48.1875 50.953125 41.515625 \nQ 57.328125 34.859375 57.328125 23.390625 \nQ 57.328125 12.15625 50.6875 5.359375 \nQ 44.046875 -1.421875 33.015625 -1.421875 \nQ 20.359375 -1.421875 13.671875 8.265625 \nQ 6.984375 17.96875 6.984375 36.375 \nQ 6.984375 53.65625 15.1875 63.9375 \nQ 23.390625 74.21875 37.203125 74.21875 \nQ 40.921875 74.21875 44.703125 73.484375 \nQ 48.484375 72.75 52.59375 71.296875 \nz\n\" id=\"DejaVuSans-54\"/>\n    </defs>\n    <g style=\"fill:#ffffff;\" transform=\"translate(195.070938 209.794437)scale(0.25 -0.25)\">\n     <use xlink:href=\"#DejaVuSans-48\"/>\n     <use x=\"63.623047\" xlink:href=\"#DejaVuSans-46\"/>\n     <use x=\"95.410156\" xlink:href=\"#DejaVuSans-54\"/>\n     <use x=\"159.033203\" xlink:href=\"#DejaVuSans-57\"/>\n    </g>\n   </g>\n  </g>\n  <g id=\"axes_2\">\n   <g id=\"patch_3\">\n    <path clip-path=\"url(#pc2f62bc246)\" d=\"M 306.602969 224.64 \nL 306.602969 223.790625 \nL 306.602969 8.049375 \nL 306.602969 7.2 \nL 317.474969 7.2 \nL 317.474969 8.049375 \nL 317.474969 223.790625 \nL 317.474969 224.64 \nz\n\" style=\"fill:#eaeaf2;stroke:#eaeaf2;stroke-linejoin:miter;stroke-width:0.01;\"/>\n   </g>\n   <g id=\"matplotlib.axis_3\"/>\n   <g id=\"matplotlib.axis_4\">\n    <g id=\"ytick_6\">\n     <g id=\"line2d_1\">\n      <defs>\n       <path d=\"M 0 0 \nL 6 0 \n\" id=\"m819b79019f\" style=\"stroke:#262626;stroke-width:1.25;\"/>\n      </defs>\n      <g>\n       <use style=\"fill:#262626;stroke:#262626;stroke-width:1.25;\" x=\"317.474969\" xlink:href=\"#m819b79019f\" y=\"202.364791\"/>\n      </g>\n     </g>\n     <g id=\"text_18\">\n      <!-- −1.5 -->\n      <defs>\n       <path d=\"M 10.59375 35.5 \nL 73.1875 35.5 \nL 73.1875 27.203125 \nL 10.59375 27.203125 \nz\n\" id=\"DejaVuSans-8722\"/>\n      </defs>\n      <g style=\"fill:#262626;\" transform=\"translate(326.974969 204.454361)scale(0.055 -0.055)\">\n       <use xlink:href=\"#DejaVuSans-8722\"/>\n       <use x=\"83.789062\" xlink:href=\"#DejaVuSans-49\"/>\n       <use x=\"147.412109\" xlink:href=\"#DejaVuSans-46\"/>\n       <use x=\"179.199219\" xlink:href=\"#DejaVuSans-53\"/>\n      </g>\n     </g>\n    </g>\n    <g id=\"ytick_7\">\n     <g id=\"line2d_2\">\n      <g>\n       <use style=\"fill:#262626;stroke:#262626;stroke-width:1.25;\" x=\"317.474969\" xlink:href=\"#m819b79019f\" y=\"173.791566\"/>\n      </g>\n     </g>\n     <g id=\"text_19\">\n      <!-- −1.0 -->\n      <g style=\"fill:#262626;\" transform=\"translate(326.974969 175.881137)scale(0.055 -0.055)\">\n       <use xlink:href=\"#DejaVuSans-8722\"/>\n       <use x=\"83.789062\" xlink:href=\"#DejaVuSans-49\"/>\n       <use x=\"147.412109\" xlink:href=\"#DejaVuSans-46\"/>\n       <use x=\"179.199219\" xlink:href=\"#DejaVuSans-48\"/>\n      </g>\n     </g>\n    </g>\n    <g id=\"ytick_8\">\n     <g id=\"line2d_3\">\n      <g>\n       <use style=\"fill:#262626;stroke:#262626;stroke-width:1.25;\" x=\"317.474969\" xlink:href=\"#m819b79019f\" y=\"145.218341\"/>\n      </g>\n     </g>\n     <g id=\"text_20\">\n      <!-- −0.5 -->\n      <g style=\"fill:#262626;\" transform=\"translate(326.974969 147.307912)scale(0.055 -0.055)\">\n       <use xlink:href=\"#DejaVuSans-8722\"/>\n       <use x=\"83.789062\" xlink:href=\"#DejaVuSans-48\"/>\n       <use x=\"147.412109\" xlink:href=\"#DejaVuSans-46\"/>\n       <use x=\"179.199219\" xlink:href=\"#DejaVuSans-53\"/>\n      </g>\n     </g>\n    </g>\n    <g id=\"ytick_9\">\n     <g id=\"line2d_4\">\n      <g>\n       <use style=\"fill:#262626;stroke:#262626;stroke-width:1.25;\" x=\"317.474969\" xlink:href=\"#m819b79019f\" y=\"116.645117\"/>\n      </g>\n     </g>\n     <g id=\"text_21\">\n      <!-- 0.0 -->\n      <g style=\"fill:#262626;\" transform=\"translate(326.974969 118.734687)scale(0.055 -0.055)\">\n       <use xlink:href=\"#DejaVuSans-48\"/>\n       <use x=\"63.623047\" xlink:href=\"#DejaVuSans-46\"/>\n       <use x=\"95.410156\" xlink:href=\"#DejaVuSans-48\"/>\n      </g>\n     </g>\n    </g>\n    <g id=\"ytick_10\">\n     <g id=\"line2d_5\">\n      <g>\n       <use style=\"fill:#262626;stroke:#262626;stroke-width:1.25;\" x=\"317.474969\" xlink:href=\"#m819b79019f\" y=\"88.071892\"/>\n      </g>\n     </g>\n     <g id=\"text_22\">\n      <!-- 0.5 -->\n      <g style=\"fill:#262626;\" transform=\"translate(326.974969 90.161462)scale(0.055 -0.055)\">\n       <use xlink:href=\"#DejaVuSans-48\"/>\n       <use x=\"63.623047\" xlink:href=\"#DejaVuSans-46\"/>\n       <use x=\"95.410156\" xlink:href=\"#DejaVuSans-53\"/>\n      </g>\n     </g>\n    </g>\n    <g id=\"ytick_11\">\n     <g id=\"line2d_6\">\n      <g>\n       <use style=\"fill:#262626;stroke:#262626;stroke-width:1.25;\" x=\"317.474969\" xlink:href=\"#m819b79019f\" y=\"59.498667\"/>\n      </g>\n     </g>\n     <g id=\"text_23\">\n      <!-- 1.0 -->\n      <g style=\"fill:#262626;\" transform=\"translate(326.974969 61.588237)scale(0.055 -0.055)\">\n       <use xlink:href=\"#DejaVuSans-49\"/>\n       <use x=\"63.623047\" xlink:href=\"#DejaVuSans-46\"/>\n       <use x=\"95.410156\" xlink:href=\"#DejaVuSans-48\"/>\n      </g>\n     </g>\n    </g>\n    <g id=\"ytick_12\">\n     <g id=\"line2d_7\">\n      <g>\n       <use style=\"fill:#262626;stroke:#262626;stroke-width:1.25;\" x=\"317.474969\" xlink:href=\"#m819b79019f\" y=\"30.925442\"/>\n      </g>\n     </g>\n     <g id=\"text_24\">\n      <!-- 1.5 -->\n      <g style=\"fill:#262626;\" transform=\"translate(326.974969 33.015012)scale(0.055 -0.055)\">\n       <use xlink:href=\"#DejaVuSans-49\"/>\n       <use x=\"63.623047\" xlink:href=\"#DejaVuSans-46\"/>\n       <use x=\"95.410156\" xlink:href=\"#DejaVuSans-53\"/>\n      </g>\n     </g>\n    </g>\n   </g>\n   <image height=\"217\" id=\"image39be0dd5f5\" transform=\"scale(1 -1)translate(0 -217)\" width=\"10\" x=\"307\" xlink:href=\"data:image/png;base64,\niVBORw0KGgoAAAANSUhEUgAAAAoAAADZCAYAAAAZmKE8AAAABHNCSVQICAgIfAhkiAAAAVVJREFUaIHdmMkNw0AMA3WlifRfZ5wWRgAJIfFbIDXUHrZzXu8nwDOZSeo2haFW7CxWWHKYksPgHjG1fjKHOS6oaaGeWg6jtzYoGkZ41iO2nsDLjD2Xk+EnLqVmZZ4Tl8fDnsV2pYr6EXKYu4XriAcqtn7PUGv9CPk9QxUdPaqtDTDoVdhEDQsXC5daU2o9DKeWT4aPUG49h4EbrJmkg/qB1o7tCq1b3uMCRm3d8YGKMEhDjwn36xQtbFqot4YvUgvrhieAA4Zbo7qFYhdcuPDFfhHPIXXBW3PRoyEeqFjw/piQW+sL4SdXTM6dNTzEHYrwIjb0GFRxAaP+y4V7XBTCHnk8lDrovxQ9dcqpo9lHqSFwfY4Jv7AtI8SrR65ooKYHgH7Ww+4PR47yeHihfhfqYfSKTWf9C9RymEz90XxIfXZIYUUe+OXCVeeY/wTDNxemVsN8AfCAKyMdTxfzAAAAAElFTkSuQmCC\" y=\"-7\"/>\n   <g id=\"patch_4\">\n    <path d=\"M 306.602969 224.64 \nL 306.602969 223.790625 \nL 306.602969 8.049375 \nL 306.602969 7.2 \nL 317.474969 7.2 \nL 317.474969 8.049375 \nL 317.474969 223.790625 \nL 317.474969 224.64 \nz\n\" style=\"fill:none;\"/>\n   </g>\n  </g>\n </g>\n <defs>\n  <clipPath id=\"pe3b8e8f41b\">\n   <rect height=\"217.44\" width=\"267.84\" x=\"22.022969\" y=\"7.2\"/>\n  </clipPath>\n  <clipPath id=\"pc2f62bc246\">\n   <rect height=\"217.44\" width=\"10.872\" x=\"306.602969\" y=\"7.2\"/>\n  </clipPath>\n </defs>\n</svg>\n",
      "image/png": "[encoded data removed]"
     },
     "metadata": {}
    }
   ],
   "source": [
    "df_cm = pd.DataFrame(x, range(x_s), range(y_s))\n",
    "sn.set(font_scale=0.5) # for label size\n",
    "sn.heatmap(df_cm, annot=True, annot_kws={\"size\": 25}) # font size"
   ]
  },
  {
   "cell_type": "code",
   "execution_count": 8,
   "metadata": {},
   "outputs": [],
   "source": [
    "import sys\n",
    "sys.path.append(\"/content/drive/MyDrive/DL_projects/text_classification/src\")"
   ]
  },
  {
   "cell_type": "code",
   "execution_count": 2,
   "metadata": {},
   "outputs": [
    {
     "output_type": "stream",
     "name": "stderr",
     "text": [
      "[nltk_data] Downloading package stopwords to /root/nltk_data...\n[nltk_data]   Package stopwords is already up-to-date!\n[nltk_data] Downloading package wordnet to /root/nltk_data...\n[nltk_data] Downloading package omw-1.4 to /root/nltk_data...\n"
     ]
    },
    {
     "output_type": "execute_result",
     "data": {
      "text/plain": [
       "True"
      ]
     },
     "metadata": {},
     "execution_count": 2
    }
   ],
   "source": [
    "import sys \n",
    "import json\n",
    "import torch\n",
    "import nltk\n",
    "import pickle\n",
    "import numpy as np\n",
    "import pandas as pd\n",
    "from tqdm.notebook import tqdm\n",
    "import re\n",
    "import gensim\n",
    "import config\n",
    "import helper\n",
    "from sklearn.model_selection import train_test_split\n",
    "from model import ClassifierModel\n",
    "from nltk.corpus import stopwords\n",
    "from nltk.stem import PorterStemmer\n",
    "from nltk.stem import WordNetLemmatizer\n",
    "sw = stopwords.words('english')\n",
    "from gensim.models import KeyedVectors\n",
    "import model\n",
    "nltk.download('wordnet')\n",
    "nltk.download('omw-1.4')\n"
   ]
  },
  {
   "cell_type": "code",
   "execution_count": 3,
   "metadata": {},
   "outputs": [],
   "source": [
    "config.local_base_dir = \"/content/drive/MyDrive/DL_projects/text_classification/\"\n",
    "config.local_train_file = \"dataset/imdb_dataset.csv\"\n",
    "config.prep_train_test_vocabed = \"imdb_train_test_vocabed.pkl\"\n",
    "config.EMBED_SIZE = 32"
   ]
  },
  {
   "cell_type": "code",
   "execution_count": 44,
   "metadata": {},
   "outputs": [],
   "source": [
    "data = pd.read_csv(config.local_base_dir +config.local_train_file)"
   ]
  },
  {
   "cell_type": "code",
   "execution_count": 45,
   "metadata": {},
   "outputs": [
    {
     "output_type": "execute_result",
     "data": {
      "text/plain": [
       "                                              review  sentiment\n",
       "0  One of the other reviewers has mentioned that ...          1\n",
       "1  A wonderful little production. <br /><br />The...          1\n",
       "2  I thought this was a wonderful way to spend ti...          1\n",
       "3  Basically there's a family where a little boy ...          0\n",
       "4  Petter Mattei's \"Love in the Time of Money\" is...          1"
      ],
      "text/html": "\n  <div id=\"df-483b71dd-33db-4e86-b679-9bf8a568b173\">\n    <div class=\"colab-df-container\">\n      <div>\n<style scoped>\n    .dataframe tbody tr th:only-of-type {\n        vertical-align: middle;\n    }\n\n    .dataframe tbody tr th {\n        vertical-align: top;\n    }\n\n    .dataframe thead th {\n        text-align: right;\n    }\n</style>\n<table border=\"1\" class=\"dataframe\">\n  <thead>\n    <tr style=\"text-align: right;\">\n      <th></th>\n      <th>review</th>\n      <th>sentiment</th>\n    </tr>\n  </thead>\n  <tbody>\n    <tr>\n      <th>0</th>\n      <td>One of the other reviewers has mentioned that ...</td>\n      <td>1</td>\n    </tr>\n    <tr>\n      <th>1</th>\n      <td>A wonderful little production. &lt;br /&gt;&lt;br /&gt;The...</td>\n      <td>1</td>\n    </tr>\n    <tr>\n      <th>2</th>\n      <td>I thought this was a wonderful way to spend ti...</td>\n      <td>1</td>\n    </tr>\n    <tr>\n      <th>3</th>\n      <td>Basically there's a family where a little boy ...</td>\n      <td>0</td>\n    </tr>\n    <tr>\n      <th>4</th>\n      <td>Petter Mattei's \"Love in the Time of Money\" is...</td>\n      <td>1</td>\n    </tr>\n  </tbody>\n</table>\n</div>\n      <button class=\"colab-df-convert\" onclick=\"convertToInteractive('df-483b71dd-33db-4e86-b679-9bf8a568b173')\"\n              title=\"Convert this dataframe to an interactive table.\"\n              style=\"display:none;\">\n        \n  <svg xmlns=\"http://www.w3.org/2000/svg\" height=\"24px\"viewBox=\"0 0 24 24\"\n       width=\"24px\">\n    <path d=\"M0 0h24v24H0V0z\" fill=\"none\"/>\n    <path d=\"M18.56 5.44l.94 2.06.94-2.06 2.06-.94-2.06-.94-.94-2.06-.94 2.06-2.06.94zm-11 1L8.5 8.5l.94-2.06 2.06-.94-2.06-.94L8.5 2.5l-.94 2.06-2.06.94zm10 10l.94 2.06.94-2.06 2.06-.94-2.06-.94-.94-2.06-.94 2.06-2.06.94z\"/><path d=\"M17.41 7.96l-1.37-1.37c-.4-.4-.92-.59-1.43-.59-.52 0-1.04.2-1.43.59L10.3 9.45l-7.72 7.72c-.78.78-.78 2.05 0 2.83L4 21.41c.39.39.9.59 1.41.59.51 0 1.02-.2 1.41-.59l7.78-7.78 2.81-2.81c.8-.78.8-2.07 0-2.86zM5.41 20L4 18.59l7.72-7.72 1.47 1.35L5.41 20z\"/>\n  </svg>\n      </button>\n      \n  <style>\n    .colab-df-container {\n      display:flex;\n      flex-wrap:wrap;\n      gap: 12px;\n    }\n\n    .colab-df-convert {\n      background-color: #E8F0FE;\n      border: none;\n      border-radius: 50%;\n      cursor: pointer;\n      display: none;\n      fill: #1967D2;\n      height: 32px;\n      padding: 0 0 0 0;\n      width: 32px;\n    }\n\n    .colab-df-convert:hover {\n      background-color: #E2EBFA;\n      box-shadow: 0px 1px 2px rgba(60, 64, 67, 0.3), 0px 1px 3px 1px rgba(60, 64, 67, 0.15);\n      fill: #174EA6;\n    }\n\n    [theme=dark] .colab-df-convert {\n      background-color: #3B4455;\n      fill: #D2E3FC;\n    }\n\n    [theme=dark] .colab-df-convert:hover {\n      background-color: #434B5C;\n      box-shadow: 0px 1px 3px 1px rgba(0, 0, 0, 0.15);\n      filter: drop-shadow(0px 1px 2px rgba(0, 0, 0, 0.3));\n      fill: #FFFFFF;\n    }\n  </style>\n\n      <script>\n        const buttonEl =\n          document.querySelector('#df-483b71dd-33db-4e86-b679-9bf8a568b173 button.colab-df-convert');\n        buttonEl.style.display =\n          google.colab.kernel.accessAllowed ? 'block' : 'none';\n\n        async function convertToInteractive(key) {\n          const element = document.querySelector('#df-483b71dd-33db-4e86-b679-9bf8a568b173');\n          const dataTable =\n            await google.colab.kernel.invokeFunction('convertToInteractive',\n                                                     [key], {});\n          if (!dataTable) return;\n\n          const docLinkHtml = 'Like what you see? Visit the ' +\n            '<a target=\"_blank\" href=https://colab.research.google.com/notebooks/data_table.ipynb>data table notebook</a>'\n            + ' to learn more about interactive tables.';\n          element.innerHTML = '';\n          dataTable['output_type'] = 'display_data';\n          await google.colab.output.renderOutput(dataTable, element);\n          const docLink = document.createElement('div');\n          docLink.innerHTML = docLinkHtml;\n          element.appendChild(docLink);\n        }\n      </script>\n    </div>\n  </div>\n  "
     },
     "metadata": {},
     "execution_count": 45
    }
   ],
   "source": [
    "mapping = {\"positive\" : 1,\"negative\":0}\n",
    "data['sentiment'] = data['sentiment'].map(mapping) \n",
    "data.head()"
   ]
  },
  {
   "cell_type": "markdown",
   "metadata": {},
   "source": [
    "## PREPROCESSING"
   ]
  },
  {
   "cell_type": "code",
   "execution_count": 46,
   "metadata": {},
   "outputs": [],
   "source": [
    "wordnet_lemmatizer = WordNetLemmatizer()\n",
    "porter_stemmer  = PorterStemmer()\n",
    "\n",
    "def preprocess_text(text):\n",
    "    text = re.sub(r\"^[A-Za-z]\",\"\",text)\n",
    "    # text = \" \".join([x for x in text.split() if x not in sw])\n",
    "    # text = \" \".join([wordnet_lemmatizer.lemmatize(x) for x in text.split() ])\n",
    "    # # text = \" \".join([porter_stemmer.stem(x) for x in text.split()])\n",
    "    # text = re.sub(r'[^\\w\\s]', '', text)\n",
    "    text = text.lower()\n",
    "    return text"
   ]
  },
  {
   "cell_type": "code",
   "execution_count": 47,
   "metadata": {},
   "outputs": [],
   "source": [
    "def data_length(dataframe):\n",
    "    all_words = set()\n",
    "    all_sentence = list()\n",
    "    for sentence in dataframe[\"prep_data\"]:\n",
    "        all_sentence.append(sentence.lower().split())\n",
    "        for word in sentence.lower().split():\n",
    "            all_words.add(word)\n",
    "    len_all_words = len(all_words)\n",
    "    len_all_sentence = len(all_sentence)\n",
    "    print(f\"Total number of words : {len_all_words}\")\n",
    "    print(f\"Total number of sentence : {len_all_sentence}\")\n",
    "    print()\n",
    "    return all_words,all_sentence"
   ]
  },
  {
   "cell_type": "code",
   "execution_count": null,
   "metadata": {},
   "outputs": [],
   "source": []
  },
  {
   "cell_type": "code",
   "execution_count": 48,
   "metadata": {},
   "outputs": [
    {
     "output_type": "stream",
     "name": "stdout",
     "text": [
      "Total number of words : 394208\nTotal number of sentence : 50000\n\n"
     ]
    }
   ],
   "source": [
    "if __name__ == \"__main__\":\n",
    "    prep_data = data[\"review\"].apply(lambda x : preprocess_text(x)) \n",
    "    data[\"prep_data\"] = prep_data\n",
    "    all_words,all_sentence = data_length(data)\n",
    "    samples_lbl = data[\"sentiment\"]\n",
    "    X_train, X_test, y_train, y_test = train_test_split(all_sentence,samples_lbl,test_size=0.2,shuffle=True)\n"
   ]
  },
  {
   "cell_type": "code",
   "execution_count": 49,
   "metadata": {},
   "outputs": [
    {
     "output_type": "execute_result",
     "data": {
      "text/plain": [
       "                                              review  sentiment  \\\n",
       "0  One of the other reviewers has mentioned that ...          1   \n",
       "1  A wonderful little production. <br /><br />The...          1   \n",
       "2  I thought this was a wonderful way to spend ti...          1   \n",
       "3  Basically there's a family where a little boy ...          0   \n",
       "4  Petter Mattei's \"Love in the Time of Money\" is...          1   \n",
       "\n",
       "                                           prep_data  \n",
       "0  ne of the other reviewers has mentioned that a...  \n",
       "1   wonderful little production. <br /><br />the ...  \n",
       "2   thought this was a wonderful way to spend tim...  \n",
       "3  asically there's a family where a little boy (...  \n",
       "4  etter mattei's \"love in the time of money\" is ...  "
      ],
      "text/html": "\n  <div id=\"df-acf9ca8b-7721-485c-ba96-e139ac8d628c\">\n    <div class=\"colab-df-container\">\n      <div>\n<style scoped>\n    .dataframe tbody tr th:only-of-type {\n        vertical-align: middle;\n    }\n\n    .dataframe tbody tr th {\n        vertical-align: top;\n    }\n\n    .dataframe thead th {\n        text-align: right;\n    }\n</style>\n<table border=\"1\" class=\"dataframe\">\n  <thead>\n    <tr style=\"text-align: right;\">\n      <th></th>\n      <th>review</th>\n      <th>sentiment</th>\n      <th>prep_data</th>\n    </tr>\n  </thead>\n  <tbody>\n    <tr>\n      <th>0</th>\n      <td>One of the other reviewers has mentioned that ...</td>\n      <td>1</td>\n      <td>ne of the other reviewers has mentioned that a...</td>\n    </tr>\n    <tr>\n      <th>1</th>\n      <td>A wonderful little production. &lt;br /&gt;&lt;br /&gt;The...</td>\n      <td>1</td>\n      <td>wonderful little production. &lt;br /&gt;&lt;br /&gt;the ...</td>\n    </tr>\n    <tr>\n      <th>2</th>\n      <td>I thought this was a wonderful way to spend ti...</td>\n      <td>1</td>\n      <td>thought this was a wonderful way to spend tim...</td>\n    </tr>\n    <tr>\n      <th>3</th>\n      <td>Basically there's a family where a little boy ...</td>\n      <td>0</td>\n      <td>asically there's a family where a little boy (...</td>\n    </tr>\n    <tr>\n      <th>4</th>\n      <td>Petter Mattei's \"Love in the Time of Money\" is...</td>\n      <td>1</td>\n      <td>etter mattei's \"love in the time of money\" is ...</td>\n    </tr>\n  </tbody>\n</table>\n</div>\n      <button class=\"colab-df-convert\" onclick=\"convertToInteractive('df-acf9ca8b-7721-485c-ba96-e139ac8d628c')\"\n              title=\"Convert this dataframe to an interactive table.\"\n              style=\"display:none;\">\n        \n  <svg xmlns=\"http://www.w3.org/2000/svg\" height=\"24px\"viewBox=\"0 0 24 24\"\n       width=\"24px\">\n    <path d=\"M0 0h24v24H0V0z\" fill=\"none\"/>\n    <path d=\"M18.56 5.44l.94 2.06.94-2.06 2.06-.94-2.06-.94-.94-2.06-.94 2.06-2.06.94zm-11 1L8.5 8.5l.94-2.06 2.06-.94-2.06-.94L8.5 2.5l-.94 2.06-2.06.94zm10 10l.94 2.06.94-2.06 2.06-.94-2.06-.94-.94-2.06-.94 2.06-2.06.94z\"/><path d=\"M17.41 7.96l-1.37-1.37c-.4-.4-.92-.59-1.43-.59-.52 0-1.04.2-1.43.59L10.3 9.45l-7.72 7.72c-.78.78-.78 2.05 0 2.83L4 21.41c.39.39.9.59 1.41.59.51 0 1.02-.2 1.41-.59l7.78-7.78 2.81-2.81c.8-.78.8-2.07 0-2.86zM5.41 20L4 18.59l7.72-7.72 1.47 1.35L5.41 20z\"/>\n  </svg>\n      </button>\n      \n  <style>\n    .colab-df-container {\n      display:flex;\n      flex-wrap:wrap;\n      gap: 12px;\n    }\n\n    .colab-df-convert {\n      background-color: #E8F0FE;\n      border: none;\n      border-radius: 50%;\n      cursor: pointer;\n      display: none;\n      fill: #1967D2;\n      height: 32px;\n      padding: 0 0 0 0;\n      width: 32px;\n    }\n\n    .colab-df-convert:hover {\n      background-color: #E2EBFA;\n      box-shadow: 0px 1px 2px rgba(60, 64, 67, 0.3), 0px 1px 3px 1px rgba(60, 64, 67, 0.15);\n      fill: #174EA6;\n    }\n\n    [theme=dark] .colab-df-convert {\n      background-color: #3B4455;\n      fill: #D2E3FC;\n    }\n\n    [theme=dark] .colab-df-convert:hover {\n      background-color: #434B5C;\n      box-shadow: 0px 1px 3px 1px rgba(0, 0, 0, 0.15);\n      filter: drop-shadow(0px 1px 2px rgba(0, 0, 0, 0.3));\n      fill: #FFFFFF;\n    }\n  </style>\n\n      <script>\n        const buttonEl =\n          document.querySelector('#df-acf9ca8b-7721-485c-ba96-e139ac8d628c button.colab-df-convert');\n        buttonEl.style.display =\n          google.colab.kernel.accessAllowed ? 'block' : 'none';\n\n        async function convertToInteractive(key) {\n          const element = document.querySelector('#df-acf9ca8b-7721-485c-ba96-e139ac8d628c');\n          const dataTable =\n            await google.colab.kernel.invokeFunction('convertToInteractive',\n                                                     [key], {});\n          if (!dataTable) return;\n\n          const docLinkHtml = 'Like what you see? Visit the ' +\n            '<a target=\"_blank\" href=https://colab.research.google.com/notebooks/data_table.ipynb>data table notebook</a>'\n            + ' to learn more about interactive tables.';\n          element.innerHTML = '';\n          dataTable['output_type'] = 'display_data';\n          await google.colab.output.renderOutput(dataTable, element);\n          const docLink = document.createElement('div');\n          docLink.innerHTML = docLinkHtml;\n          element.appendChild(docLink);\n        }\n      </script>\n    </div>\n  </div>\n  "
     },
     "metadata": {},
     "execution_count": 49
    }
   ],
   "source": [
    "data.head()"
   ]
  },
  {
   "cell_type": "code",
   "execution_count": 50,
   "metadata": {},
   "outputs": [
    {
     "output_type": "execute_result",
     "data": {
      "text/plain": [
       "0        1\n",
       "1        1\n",
       "2        1\n",
       "3        0\n",
       "4        1\n",
       "        ..\n",
       "49995    1\n",
       "49996    0\n",
       "49997    0\n",
       "49998    0\n",
       "49999    0\n",
       "Name: sentiment, Length: 50000, dtype: int64"
      ]
     },
     "metadata": {},
     "execution_count": 50
    }
   ],
   "source": [
    "data['sentiment']"
   ]
  },
  {
   "cell_type": "code",
   "execution_count": 51,
   "metadata": {},
   "outputs": [],
   "source": [
    "\n",
    "pickle.dump({\n",
    "    \"X_train\" : X_train,\n",
    "    \"X_test\" : X_test,\n",
    "    \"y_train\" : y_train.values.tolist(),\n",
    "    \"y_test\" : y_test.values.tolist(),\n",
    "},open(config.local_base_dir + \"dataset/\"+ config.prep_train_test_vocabed,'wb'))\n",
    "\n"
   ]
  },
  {
   "cell_type": "code",
   "execution_count": 52,
   "metadata": {},
   "outputs": [
    {
     "output_type": "execute_result",
     "data": {
      "text/plain": [
       "'/content/drive/MyDrive/DL_projects/text_classification/dataset/imdb_train_test_vocabed.pkl'"
      ],
      "application/vnd.google.colaboratory.intrinsic+json": {
       "type": "string"
      }
     },
     "metadata": {},
     "execution_count": 52
    }
   ],
   "source": [
    "config.local_base_dir + \"dataset/\"+ config.prep_train_test_vocabed"
   ]
  },
  {
   "cell_type": "code",
   "execution_count": 53,
   "metadata": {},
   "outputs": [],
   "source": [
    "split_data = pickle.load(open(config.local_base_dir + \"dataset/\"+ config.prep_train_test_vocabed,'rb'))"
   ]
  },
  {
   "cell_type": "markdown",
   "metadata": {},
   "source": [
    "# **Word to Vectors**"
   ]
  },
  {
   "cell_type": "code",
   "execution_count": 54,
   "metadata": {},
   "outputs": [],
   "source": [
    "def build_word2vec(all_sentence,embedding_size):\n",
    "    w2v_model = gensim.models.Word2Vec(sentences=all_sentence,min_count=1,vector_size= embedding_size)\n",
    "    w2v_model.build_vocab(all_sentence)\n",
    "    print(\"Length of samples : \",w2v_model.corpus_count)\n",
    "    print(\"Length of vocab   : \",len(w2v_model.wv.key_to_index))\n",
    "    print(\"Training and saving model...\")\n",
    "    w2v_model.train(all_sentence,total_examples=w2v_model.corpus_count,epochs=w2v_model.epochs)\n",
    "    w2v_model.save(f\"{config.local_base_dir}dataset/prep_word2vectors_{config.EMBED_SIZE}.model\")\n",
    "    wordvecs = KeyedVectors.load(f\"{config.local_base_dir}dataset/prep_word2vectors_{config.EMBED_SIZE}.model\")    \n",
    "    all_words = list(wordvecs.wv.key_to_index.keys())\n",
    "# wordvecs.wv.index_to_key = {v:k for k,v in wordvecs.wv.key_to_index.items()}\n",
    "    word2index = {k:v+1 for k,v in wordvecs.wv.key_to_index.items()}\n",
    "    index2word = {v:k for k,v in word2index.items()}\n",
    "    \n",
    "    matrix_vec = np.zeros((len(word2index)+1,config.EMBED_SIZE))\n",
    "    for word,idx in word2index.items():\n",
    "        vector_x = wordvecs.wv[word]\n",
    "        matrix_vec[idx,:] = vector_x    \n",
    "    pickle_data = {\n",
    "    \"word2index\" : word2index,\n",
    "    \"index2word\" : index2word,\n",
    "    \"embedding_vector\" : matrix_vec\n",
    "    }\n",
    "    pickle.dump(pickle_data,open(config.local_base_dir+\"dataset/prep_emb_vec.pkl\",'wb'))\n",
    "    print(\"Done\")\n",
    "    print(f'Model saved to {config.local_base_dir+\"dataset/prep_emb_vec.pkl\"}')\n",
    "    "
   ]
  },
  {
   "cell_type": "code",
   "execution_count": 55,
   "metadata": {},
   "outputs": [
    {
     "output_type": "stream",
     "name": "stderr",
     "text": [
      "WARNING:gensim.models.keyedvectors:sorting after vectors have been allocated is expensive & error-prone\n",
      "WARNING:gensim.models.word2vec:Effective 'alpha' higher than previous training cycles\n",
      "Length of samples :  50000\n",
      "Length of vocab   :  394208\n",
      "Training and saving model...\n",
      "Done\n",
      "Model saved to /content/drive/MyDrive/DL_projects/text_classification/dataset/prep_emb_vec.pkl\n"
     ]
    }
   ],
   "source": [
    "config.EMBED_SIZE = 32\n",
    "build_word2vec(all_sentence,config.EMBED_SIZE)"
   ]
  },
  {
   "cell_type": "code",
   "execution_count": 2,
   "metadata": {},
   "outputs": [],
   "source": [
    "import pickle"
   ]
  },
  {
   "cell_type": "code",
   "execution_count": 3,
   "metadata": {},
   "outputs": [
    {
     "output_type": "error",
     "ename": "UnpicklingError",
     "evalue": "A load persistent id instruction was encountered,\nbut no persistent_load function was specified.",
     "traceback": [
      "\u001b[0;31m---------------------------------------------------------------------------\u001b[0m",
      "\u001b[0;31mUnpicklingError\u001b[0m                           Traceback (most recent call last)",
      "\u001b[0;32m<ipython-input-3-cd7baf947c91>\u001b[0m in \u001b[0;36m<module>\u001b[0;34m\u001b[0m\n\u001b[0;32m----> 1\u001b[0;31m \u001b[0mpickle_data\u001b[0m \u001b[0;34m=\u001b[0m\u001b[0mpickle\u001b[0m\u001b[0;34m.\u001b[0m\u001b[0mload\u001b[0m\u001b[0;34m(\u001b[0m\u001b[0mopen\u001b[0m\u001b[0;34m(\u001b[0m\u001b[0;34m\"/content/drive/MyDrive/DL_projects/text_classification/trained_models/seq2seq_hidden_32_embed_32_imdb_word2vec.pt\"\u001b[0m\u001b[0;34m,\u001b[0m\u001b[0;34m'rb'\u001b[0m\u001b[0;34m)\u001b[0m\u001b[0;34m)\u001b[0m\u001b[0;34m\u001b[0m\u001b[0;34m\u001b[0m\u001b[0m\n\u001b[0m",
      "\u001b[0;31mUnpicklingError\u001b[0m: A load persistent id instruction was encountered,\nbut no persistent_load function was specified."
     ]
    }
   ],
   "source": [
    "pickle_data =pickle.load(open(\"/content/drive/MyDrive/DL_projects/text_classification/trained_models/seq2seq_hidden_32_embed_32_imdb_word2vec.pt\",'rb'))"
   ]
  },
  {
   "cell_type": "code",
   "execution_count": 57,
   "metadata": {},
   "outputs": [],
   "source": [
    "word2index = pickle_data['word2index']\n",
    "index2word = pickle_data['index2word']\n",
    "word_vectors = pd.DataFrame(pickle_data['embedding_vector'])\n",
    "word_vectors = word_vectors.iloc[:1000,:]\n",
    "word_vectors.to_csv(\"imdb_embedding_matrix.tsv\",sep =\"\\t\",header = None,index = False)\n",
    "index2word[0] = \"[PAD]\"\n",
    "only_words = [index2word[x] for x in range(len(index2word))]\n",
    "word_vectors[\"metadata\"] =only_words\n",
    "word_vectors.to_csv(\"imdb_meta_data.tsv\",sep =\"\\t\",index = False)"
   ]
  },
  {
   "cell_type": "code",
   "execution_count": 58,
   "metadata": {},
   "outputs": [
    {
     "output_type": "execute_result",
     "data": {
      "text/plain": [
       "(1000, 33)"
      ]
     },
     "metadata": {},
     "execution_count": 58
    }
   ],
   "source": [
    "word_vectors = word_vectors.iloc[:1000,:]"
   ]
  },
  {
   "cell_type": "code",
   "execution_count": 38,
   "metadata": {},
   "outputs": [],
   "source": [
    "import sys\n",
    "import torch\n",
    "import pickle\n",
    "\n",
    "sys.path.append(\"/content/drive/MyDrive/DL_projects/text_classification/src\")"
   ]
  },
  {
   "cell_type": "code",
   "execution_count": 39,
   "metadata": {},
   "outputs": [
    {
     "output_type": "execute_result",
     "data": {
      "text/plain": [
       "dict_keys(['model_state_dict', 'params'])"
      ]
     },
     "metadata": {},
     "execution_count": 39
    }
   ],
   "source": [
    "\n",
    "checkpoint = torch.load(\"/content/drive/MyDrive/DL_projects/text_classification/trained_models/seq2seq_hidden_32_embed_32_imdb_prep_word2vec.pt\")\n",
    "checkpoint.keys()"
   ]
  },
  {
   "cell_type": "code",
   "execution_count": 40,
   "metadata": {},
   "outputs": [],
   "source": [
    "params = checkpoint['params']\n",
    "pickle_data =pickle.load(open(params[\"base_dir\"] +params[\"emb_vec_file\"],'rb'))\n",
    "pickle_data.keys()\n",
    "\n",
    "word2index = pickle_data['word2index']\n",
    "index2word = pickle_data['index2word']"
   ]
  },
  {
   "cell_type": "code",
   "execution_count": 41,
   "metadata": {},
   "outputs": [],
   "source": [
    "# n_vocab,hidden_size,out_hidden,embedding_dim,n_labels,max_seq\n",
    "import model\n",
    "my_model = model.ClassifierModel(len(word2index),params[\"HIDDEN_SIZE\"],params[\"OUT_DIM\"],params[\"EMBED_SIZE\"],n_labels = params[\"n_labels\"],max_seq=params['max_seq_len'])"
   ]
  },
  {
   "cell_type": "code",
   "execution_count": 42,
   "metadata": {},
   "outputs": [
    {
     "output_type": "execute_result",
     "data": {
      "text/plain": [
       "<All keys matched successfully>"
      ]
     },
     "metadata": {},
     "execution_count": 42
    }
   ],
   "source": [
    "my_model.load_state_dict(checkpoint['model_state_dict'])"
   ]
  },
  {
   "cell_type": "code",
   "execution_count": 43,
   "metadata": {},
   "outputs": [],
   "source": [
    "import pandas as pd\n",
    "emb_matrix = my_model.embedding.weight.detach().numpy()"
   ]
  },
  {
   "cell_type": "code",
   "execution_count": 44,
   "metadata": {},
   "outputs": [],
   "source": [
    "emb = pd.DataFrame(emb_matrix)"
   ]
  },
  {
   "cell_type": "code",
   "execution_count": 45,
   "metadata": {},
   "outputs": [
    {
     "output_type": "execute_result",
     "data": {
      "text/plain": [
       "         0         1         2         3         4         5         6   \\\n",
       "0  0.000000  0.000000  0.000000  0.000000  0.000000  0.000000  0.000000   \n",
       "1  2.958725 -2.012993 -1.990048 -1.875980  3.330124 -2.696292  1.574587   \n",
       "2  2.715530  0.238338 -1.754464  1.052473 -0.633279 -0.596190  3.750718   \n",
       "3  3.593699 -2.938445  0.486397 -0.726218  2.960893 -0.602916  2.390825   \n",
       "4  0.758281 -4.095868  1.659120 -2.380796  0.754716 -2.022166  2.962155   \n",
       "\n",
       "         7         8         9   ...        22        23        24        25  \\\n",
       "0  0.000000  0.000000  0.000000  ...  0.000000  0.000000  0.000000  0.000000   \n",
       "1 -2.688815 -3.183158 -1.885756  ... -0.626177  3.819112 -0.908313 -0.049486   \n",
       "2 -1.615034 -4.787402  1.783780  ... -0.741260  5.175512 -1.019670 -1.194044   \n",
       "3 -2.248037 -3.166243 -1.237077  ...  0.737794 -0.942997 -2.011789 -0.670723   \n",
       "4 -4.156785 -2.601961 -0.019272  ... -1.192267  1.165249 -0.408238 -2.747801   \n",
       "\n",
       "         26        27        28        29        30        31  \n",
       "0  0.000000  0.000000  0.000000  0.000000  0.000000  0.000000  \n",
       "1  3.113933  0.165160 -1.879725 -2.445399 -0.156372 -0.157932  \n",
       "2  0.738397 -1.957601 -3.177318 -2.834952  1.767297 -2.191243  \n",
       "3  1.667908 -0.338682 -3.615632 -2.489557  0.348990 -1.230961  \n",
       "4  2.871237 -0.324455 -0.632131 -0.466374 -2.312047 -1.023201  \n",
       "\n",
       "[5 rows x 32 columns]"
      ],
      "text/html": "\n  <div id=\"df-4eb710fa-5e68-48ef-8f5d-c6a577cd305b\">\n    <div class=\"colab-df-container\">\n      <div>\n<style scoped>\n    .dataframe tbody tr th:only-of-type {\n        vertical-align: middle;\n    }\n\n    .dataframe tbody tr th {\n        vertical-align: top;\n    }\n\n    .dataframe thead th {\n        text-align: right;\n    }\n</style>\n<table border=\"1\" class=\"dataframe\">\n  <thead>\n    <tr style=\"text-align: right;\">\n      <th></th>\n      <th>0</th>\n      <th>1</th>\n      <th>2</th>\n      <th>3</th>\n      <th>4</th>\n      <th>5</th>\n      <th>6</th>\n      <th>7</th>\n      <th>8</th>\n      <th>9</th>\n      <th>...</th>\n      <th>22</th>\n      <th>23</th>\n      <th>24</th>\n      <th>25</th>\n      <th>26</th>\n      <th>27</th>\n      <th>28</th>\n      <th>29</th>\n      <th>30</th>\n      <th>31</th>\n    </tr>\n  </thead>\n  <tbody>\n    <tr>\n      <th>0</th>\n      <td>0.000000</td>\n      <td>0.000000</td>\n      <td>0.000000</td>\n      <td>0.000000</td>\n      <td>0.000000</td>\n      <td>0.000000</td>\n      <td>0.000000</td>\n      <td>0.000000</td>\n      <td>0.000000</td>\n      <td>0.000000</td>\n      <td>...</td>\n      <td>0.000000</td>\n      <td>0.000000</td>\n      <td>0.000000</td>\n      <td>0.000000</td>\n      <td>0.000000</td>\n      <td>0.000000</td>\n      <td>0.000000</td>\n      <td>0.000000</td>\n      <td>0.000000</td>\n      <td>0.000000</td>\n    </tr>\n    <tr>\n      <th>1</th>\n      <td>2.958725</td>\n      <td>-2.012993</td>\n      <td>-1.990048</td>\n      <td>-1.875980</td>\n      <td>3.330124</td>\n      <td>-2.696292</td>\n      <td>1.574587</td>\n      <td>-2.688815</td>\n      <td>-3.183158</td>\n      <td>-1.885756</td>\n      <td>...</td>\n      <td>-0.626177</td>\n      <td>3.819112</td>\n      <td>-0.908313</td>\n      <td>-0.049486</td>\n      <td>3.113933</td>\n      <td>0.165160</td>\n      <td>-1.879725</td>\n      <td>-2.445399</td>\n      <td>-0.156372</td>\n      <td>-0.157932</td>\n    </tr>\n    <tr>\n      <th>2</th>\n      <td>2.715530</td>\n      <td>0.238338</td>\n      <td>-1.754464</td>\n      <td>1.052473</td>\n      <td>-0.633279</td>\n      <td>-0.596190</td>\n      <td>3.750718</td>\n      <td>-1.615034</td>\n      <td>-4.787402</td>\n      <td>1.783780</td>\n      <td>...</td>\n      <td>-0.741260</td>\n      <td>5.175512</td>\n      <td>-1.019670</td>\n      <td>-1.194044</td>\n      <td>0.738397</td>\n      <td>-1.957601</td>\n      <td>-3.177318</td>\n      <td>-2.834952</td>\n      <td>1.767297</td>\n      <td>-2.191243</td>\n    </tr>\n    <tr>\n      <th>3</th>\n      <td>3.593699</td>\n      <td>-2.938445</td>\n      <td>0.486397</td>\n      <td>-0.726218</td>\n      <td>2.960893</td>\n      <td>-0.602916</td>\n      <td>2.390825</td>\n      <td>-2.248037</td>\n      <td>-3.166243</td>\n      <td>-1.237077</td>\n      <td>...</td>\n      <td>0.737794</td>\n      <td>-0.942997</td>\n      <td>-2.011789</td>\n      <td>-0.670723</td>\n      <td>1.667908</td>\n      <td>-0.338682</td>\n      <td>-3.615632</td>\n      <td>-2.489557</td>\n      <td>0.348990</td>\n      <td>-1.230961</td>\n    </tr>\n    <tr>\n      <th>4</th>\n      <td>0.758281</td>\n      <td>-4.095868</td>\n      <td>1.659120</td>\n      <td>-2.380796</td>\n      <td>0.754716</td>\n      <td>-2.022166</td>\n      <td>2.962155</td>\n      <td>-4.156785</td>\n      <td>-2.601961</td>\n      <td>-0.019272</td>\n      <td>...</td>\n      <td>-1.192267</td>\n      <td>1.165249</td>\n      <td>-0.408238</td>\n      <td>-2.747801</td>\n      <td>2.871237</td>\n      <td>-0.324455</td>\n      <td>-0.632131</td>\n      <td>-0.466374</td>\n      <td>-2.312047</td>\n      <td>-1.023201</td>\n    </tr>\n  </tbody>\n</table>\n<p>5 rows × 32 columns</p>\n</div>\n      <button class=\"colab-df-convert\" onclick=\"convertToInteractive('df-4eb710fa-5e68-48ef-8f5d-c6a577cd305b')\"\n              title=\"Convert this dataframe to an interactive table.\"\n              style=\"display:none;\">\n        \n  <svg xmlns=\"http://www.w3.org/2000/svg\" height=\"24px\"viewBox=\"0 0 24 24\"\n       width=\"24px\">\n    <path d=\"M0 0h24v24H0V0z\" fill=\"none\"/>\n    <path d=\"M18.56 5.44l.94 2.06.94-2.06 2.06-.94-2.06-.94-.94-2.06-.94 2.06-2.06.94zm-11 1L8.5 8.5l.94-2.06 2.06-.94-2.06-.94L8.5 2.5l-.94 2.06-2.06.94zm10 10l.94 2.06.94-2.06 2.06-.94-2.06-.94-.94-2.06-.94 2.06-2.06.94z\"/><path d=\"M17.41 7.96l-1.37-1.37c-.4-.4-.92-.59-1.43-.59-.52 0-1.04.2-1.43.59L10.3 9.45l-7.72 7.72c-.78.78-.78 2.05 0 2.83L4 21.41c.39.39.9.59 1.41.59.51 0 1.02-.2 1.41-.59l7.78-7.78 2.81-2.81c.8-.78.8-2.07 0-2.86zM5.41 20L4 18.59l7.72-7.72 1.47 1.35L5.41 20z\"/>\n  </svg>\n      </button>\n      \n  <style>\n    .colab-df-container {\n      display:flex;\n      flex-wrap:wrap;\n      gap: 12px;\n    }\n\n    .colab-df-convert {\n      background-color: #E8F0FE;\n      border: none;\n      border-radius: 50%;\n      cursor: pointer;\n      display: none;\n      fill: #1967D2;\n      height: 32px;\n      padding: 0 0 0 0;\n      width: 32px;\n    }\n\n    .colab-df-convert:hover {\n      background-color: #E2EBFA;\n      box-shadow: 0px 1px 2px rgba(60, 64, 67, 0.3), 0px 1px 3px 1px rgba(60, 64, 67, 0.15);\n      fill: #174EA6;\n    }\n\n    [theme=dark] .colab-df-convert {\n      background-color: #3B4455;\n      fill: #D2E3FC;\n    }\n\n    [theme=dark] .colab-df-convert:hover {\n      background-color: #434B5C;\n      box-shadow: 0px 1px 3px 1px rgba(0, 0, 0, 0.15);\n      filter: drop-shadow(0px 1px 2px rgba(0, 0, 0, 0.3));\n      fill: #FFFFFF;\n    }\n  </style>\n\n      <script>\n        const buttonEl =\n          document.querySelector('#df-4eb710fa-5e68-48ef-8f5d-c6a577cd305b button.colab-df-convert');\n        buttonEl.style.display =\n          google.colab.kernel.accessAllowed ? 'block' : 'none';\n\n        async function convertToInteractive(key) {\n          const element = document.querySelector('#df-4eb710fa-5e68-48ef-8f5d-c6a577cd305b');\n          const dataTable =\n            await google.colab.kernel.invokeFunction('convertToInteractive',\n                                                     [key], {});\n          if (!dataTable) return;\n\n          const docLinkHtml = 'Like what you see? Visit the ' +\n            '<a target=\"_blank\" href=https://colab.research.google.com/notebooks/data_table.ipynb>data table notebook</a>'\n            + ' to learn more about interactive tables.';\n          element.innerHTML = '';\n          dataTable['output_type'] = 'display_data';\n          await google.colab.output.renderOutput(dataTable, element);\n          const docLink = document.createElement('div');\n          docLink.innerHTML = docLinkHtml;\n          element.appendChild(docLink);\n        }\n      </script>\n    </div>\n  </div>\n  "
     },
     "metadata": {},
     "execution_count": 45
    }
   ],
   "source": [
    "emb.head()"
   ]
  },
  {
   "cell_type": "code",
   "execution_count": 46,
   "metadata": {},
   "outputs": [
    {
     "output_type": "execute_result",
     "data": {
      "text/plain": [
       "(394209, 32)"
      ]
     },
     "metadata": {},
     "execution_count": 46
    }
   ],
   "source": [
    "emb.shape"
   ]
  },
  {
   "cell_type": "code",
   "execution_count": 47,
   "metadata": {},
   "outputs": [
    {
     "output_type": "execute_result",
     "data": {
      "text/plain": [
       "394208"
      ]
     },
     "metadata": {},
     "execution_count": 47
    }
   ],
   "source": [
    "len(index2word)"
   ]
  },
  {
   "cell_type": "code",
   "execution_count": 48,
   "metadata": {},
   "outputs": [],
   "source": [
    "emb = emb.iloc[:10000,:]"
   ]
  },
  {
   "cell_type": "code",
   "execution_count": 49,
   "metadata": {},
   "outputs": [],
   "source": [
    "emb.to_csv(\"imdb_prep_embedding_matrix.tsv\",sep = '\\t',header=None,index = False)"
   ]
  },
  {
   "cell_type": "code",
   "execution_count": 50,
   "metadata": {},
   "outputs": [
    {
     "output_type": "execute_result",
     "data": {
      "text/plain": [
       "        0.0     0.0.1     0.0.2     0.0.3     0.0.4     0.0.5     0.0.6  \\\n",
       "0  2.958725 -2.012993 -1.990048 -1.875980  3.330124 -2.696292  1.574587   \n",
       "1  2.715530  0.238338 -1.754464  1.052473 -0.633279 -0.596190  3.750718   \n",
       "2  3.593698 -2.938445  0.486397 -0.726218  2.960893 -0.602916  2.390825   \n",
       "3  0.758281 -4.095868  1.659120 -2.380796  0.754716 -2.022166  2.962155   \n",
       "4  4.715492 -5.668120 -4.044202  1.723107  0.952262  0.606390  0.886648   \n",
       "\n",
       "      0.0.7     0.0.8     0.0.9  ...    0.0.22    0.0.23    0.0.24    0.0.25  \\\n",
       "0 -2.688815 -3.183158 -1.885756  ... -0.626177  3.819112 -0.908313 -0.049486   \n",
       "1 -1.615034 -4.787402  1.783780  ... -0.741260  5.175512 -1.019670 -1.194044   \n",
       "2 -2.248037 -3.166243 -1.237076  ...  0.737794 -0.942997 -2.011789 -0.670723   \n",
       "3 -4.156784 -2.601961 -0.019272  ... -1.192267  1.165249 -0.408238 -2.747801   \n",
       "4 -5.929870  1.248306  3.377407  ...  0.803426  0.616652 -0.097585  2.527737   \n",
       "\n",
       "     0.0.26    0.0.27    0.0.28    0.0.29    0.0.30    0.0.31  \n",
       "0  3.113933  0.165160 -1.879725 -2.445399 -0.156372 -0.157932  \n",
       "1  0.738397 -1.957601 -3.177318 -2.834952  1.767297 -2.191243  \n",
       "2  1.667908 -0.338682 -3.615632 -2.489557  0.348990 -1.230961  \n",
       "3  2.871237 -0.324455 -0.632131 -0.466374 -2.312047 -1.023201  \n",
       "4  3.889546  0.377124 -4.822519  1.301059  3.585556  1.519022  \n",
       "\n",
       "[5 rows x 32 columns]"
      ],
      "text/html": "\n  <div id=\"df-da96511e-aa36-4ae0-ad1f-aa8d51942569\">\n    <div class=\"colab-df-container\">\n      <div>\n<style scoped>\n    .dataframe tbody tr th:only-of-type {\n        vertical-align: middle;\n    }\n\n    .dataframe tbody tr th {\n        vertical-align: top;\n    }\n\n    .dataframe thead th {\n        text-align: right;\n    }\n</style>\n<table border=\"1\" class=\"dataframe\">\n  <thead>\n    <tr style=\"text-align: right;\">\n      <th></th>\n      <th>0.0</th>\n      <th>0.0.1</th>\n      <th>0.0.2</th>\n      <th>0.0.3</th>\n      <th>0.0.4</th>\n      <th>0.0.5</th>\n      <th>0.0.6</th>\n      <th>0.0.7</th>\n      <th>0.0.8</th>\n      <th>0.0.9</th>\n      <th>...</th>\n      <th>0.0.22</th>\n      <th>0.0.23</th>\n      <th>0.0.24</th>\n      <th>0.0.25</th>\n      <th>0.0.26</th>\n      <th>0.0.27</th>\n      <th>0.0.28</th>\n      <th>0.0.29</th>\n      <th>0.0.30</th>\n      <th>0.0.31</th>\n    </tr>\n  </thead>\n  <tbody>\n    <tr>\n      <th>0</th>\n      <td>2.958725</td>\n      <td>-2.012993</td>\n      <td>-1.990048</td>\n      <td>-1.875980</td>\n      <td>3.330124</td>\n      <td>-2.696292</td>\n      <td>1.574587</td>\n      <td>-2.688815</td>\n      <td>-3.183158</td>\n      <td>-1.885756</td>\n      <td>...</td>\n      <td>-0.626177</td>\n      <td>3.819112</td>\n      <td>-0.908313</td>\n      <td>-0.049486</td>\n      <td>3.113933</td>\n      <td>0.165160</td>\n      <td>-1.879725</td>\n      <td>-2.445399</td>\n      <td>-0.156372</td>\n      <td>-0.157932</td>\n    </tr>\n    <tr>\n      <th>1</th>\n      <td>2.715530</td>\n      <td>0.238338</td>\n      <td>-1.754464</td>\n      <td>1.052473</td>\n      <td>-0.633279</td>\n      <td>-0.596190</td>\n      <td>3.750718</td>\n      <td>-1.615034</td>\n      <td>-4.787402</td>\n      <td>1.783780</td>\n      <td>...</td>\n      <td>-0.741260</td>\n      <td>5.175512</td>\n      <td>-1.019670</td>\n      <td>-1.194044</td>\n      <td>0.738397</td>\n      <td>-1.957601</td>\n      <td>-3.177318</td>\n      <td>-2.834952</td>\n      <td>1.767297</td>\n      <td>-2.191243</td>\n    </tr>\n    <tr>\n      <th>2</th>\n      <td>3.593698</td>\n      <td>-2.938445</td>\n      <td>0.486397</td>\n      <td>-0.726218</td>\n      <td>2.960893</td>\n      <td>-0.602916</td>\n      <td>2.390825</td>\n      <td>-2.248037</td>\n      <td>-3.166243</td>\n      <td>-1.237076</td>\n      <td>...</td>\n      <td>0.737794</td>\n      <td>-0.942997</td>\n      <td>-2.011789</td>\n      <td>-0.670723</td>\n      <td>1.667908</td>\n      <td>-0.338682</td>\n      <td>-3.615632</td>\n      <td>-2.489557</td>\n      <td>0.348990</td>\n      <td>-1.230961</td>\n    </tr>\n    <tr>\n      <th>3</th>\n      <td>0.758281</td>\n      <td>-4.095868</td>\n      <td>1.659120</td>\n      <td>-2.380796</td>\n      <td>0.754716</td>\n      <td>-2.022166</td>\n      <td>2.962155</td>\n      <td>-4.156784</td>\n      <td>-2.601961</td>\n      <td>-0.019272</td>\n      <td>...</td>\n      <td>-1.192267</td>\n      <td>1.165249</td>\n      <td>-0.408238</td>\n      <td>-2.747801</td>\n      <td>2.871237</td>\n      <td>-0.324455</td>\n      <td>-0.632131</td>\n      <td>-0.466374</td>\n      <td>-2.312047</td>\n      <td>-1.023201</td>\n    </tr>\n    <tr>\n      <th>4</th>\n      <td>4.715492</td>\n      <td>-5.668120</td>\n      <td>-4.044202</td>\n      <td>1.723107</td>\n      <td>0.952262</td>\n      <td>0.606390</td>\n      <td>0.886648</td>\n      <td>-5.929870</td>\n      <td>1.248306</td>\n      <td>3.377407</td>\n      <td>...</td>\n      <td>0.803426</td>\n      <td>0.616652</td>\n      <td>-0.097585</td>\n      <td>2.527737</td>\n      <td>3.889546</td>\n      <td>0.377124</td>\n      <td>-4.822519</td>\n      <td>1.301059</td>\n      <td>3.585556</td>\n      <td>1.519022</td>\n    </tr>\n  </tbody>\n</table>\n<p>5 rows × 32 columns</p>\n</div>\n      <button class=\"colab-df-convert\" onclick=\"convertToInteractive('df-da96511e-aa36-4ae0-ad1f-aa8d51942569')\"\n              title=\"Convert this dataframe to an interactive table.\"\n              style=\"display:none;\">\n        \n  <svg xmlns=\"http://www.w3.org/2000/svg\" height=\"24px\"viewBox=\"0 0 24 24\"\n       width=\"24px\">\n    <path d=\"M0 0h24v24H0V0z\" fill=\"none\"/>\n    <path d=\"M18.56 5.44l.94 2.06.94-2.06 2.06-.94-2.06-.94-.94-2.06-.94 2.06-2.06.94zm-11 1L8.5 8.5l.94-2.06 2.06-.94-2.06-.94L8.5 2.5l-.94 2.06-2.06.94zm10 10l.94 2.06.94-2.06 2.06-.94-2.06-.94-.94-2.06-.94 2.06-2.06.94z\"/><path d=\"M17.41 7.96l-1.37-1.37c-.4-.4-.92-.59-1.43-.59-.52 0-1.04.2-1.43.59L10.3 9.45l-7.72 7.72c-.78.78-.78 2.05 0 2.83L4 21.41c.39.39.9.59 1.41.59.51 0 1.02-.2 1.41-.59l7.78-7.78 2.81-2.81c.8-.78.8-2.07 0-2.86zM5.41 20L4 18.59l7.72-7.72 1.47 1.35L5.41 20z\"/>\n  </svg>\n      </button>\n      \n  <style>\n    .colab-df-container {\n      display:flex;\n      flex-wrap:wrap;\n      gap: 12px;\n    }\n\n    .colab-df-convert {\n      background-color: #E8F0FE;\n      border: none;\n      border-radius: 50%;\n      cursor: pointer;\n      display: none;\n      fill: #1967D2;\n      height: 32px;\n      padding: 0 0 0 0;\n      width: 32px;\n    }\n\n    .colab-df-convert:hover {\n      background-color: #E2EBFA;\n      box-shadow: 0px 1px 2px rgba(60, 64, 67, 0.3), 0px 1px 3px 1px rgba(60, 64, 67, 0.15);\n      fill: #174EA6;\n    }\n\n    [theme=dark] .colab-df-convert {\n      background-color: #3B4455;\n      fill: #D2E3FC;\n    }\n\n    [theme=dark] .colab-df-convert:hover {\n      background-color: #434B5C;\n      box-shadow: 0px 1px 3px 1px rgba(0, 0, 0, 0.15);\n      filter: drop-shadow(0px 1px 2px rgba(0, 0, 0, 0.3));\n      fill: #FFFFFF;\n    }\n  </style>\n\n      <script>\n        const buttonEl =\n          document.querySelector('#df-da96511e-aa36-4ae0-ad1f-aa8d51942569 button.colab-df-convert');\n        buttonEl.style.display =\n          google.colab.kernel.accessAllowed ? 'block' : 'none';\n\n        async function convertToInteractive(key) {\n          const element = document.querySelector('#df-da96511e-aa36-4ae0-ad1f-aa8d51942569');\n          const dataTable =\n            await google.colab.kernel.invokeFunction('convertToInteractive',\n                                                     [key], {});\n          if (!dataTable) return;\n\n          const docLinkHtml = 'Like what you see? Visit the ' +\n            '<a target=\"_blank\" href=https://colab.research.google.com/notebooks/data_table.ipynb>data table notebook</a>'\n            + ' to learn more about interactive tables.';\n          element.innerHTML = '';\n          dataTable['output_type'] = 'display_data';\n          await google.colab.output.renderOutput(dataTable, element);\n          const docLink = document.createElement('div');\n          docLink.innerHTML = docLinkHtml;\n          element.appendChild(docLink);\n        }\n      </script>\n    </div>\n  </div>\n  "
     },
     "metadata": {},
     "execution_count": 50
    }
   ],
   "source": [
    "pd.read_csv(\"/content/drive/MyDrive/DL_projects/text_classification/src/interpret/imdb_prep_embedding_matrix.tsv\",sep = '\\t').head()"
   ]
  },
  {
   "cell_type": "code",
   "execution_count": 51,
   "metadata": {},
   "outputs": [],
   "source": [
    "index2word[0] = \"[PAD]\""
   ]
  },
  {
   "cell_type": "code",
   "execution_count": 52,
   "metadata": {},
   "outputs": [
    {
     "output_type": "stream",
     "name": "stdout",
     "text": [
      "(10000, 32) 394209\n(10000, 32)\n"
     ]
    }
   ],
   "source": [
    "word_vectors = pd.read_csv(\"/content/drive/MyDrive/DL_projects/text_classification/src/interpret/imdb_prep_embedding_matrix.tsv\",sep = '\\t',header = None)\n",
    "print(word_vectors.shape,len(index2word))\n",
    "word_vectors.head()\n",
    "print(word_vectors.shape)"
   ]
  },
  {
   "cell_type": "code",
   "execution_count": 53,
   "metadata": {},
   "outputs": [],
   "source": [
    "only_words = [index2word[x] for x in range(len(index2word))]"
   ]
  },
  {
   "cell_type": "code",
   "execution_count": 54,
   "metadata": {},
   "outputs": [
    {
     "output_type": "execute_result",
     "data": {
      "text/plain": [
       "((10000, 32), 394209, 'firm);')"
      ]
     },
     "metadata": {},
     "execution_count": 54
    }
   ],
   "source": [
    "word_vectors.shape,len(only_words),only_words[-1]"
   ]
  },
  {
   "cell_type": "code",
   "execution_count": 55,
   "metadata": {},
   "outputs": [
    {
     "output_type": "execute_result",
     "data": {
      "text/plain": [
       "         0         1         2         3         4         5         6   \\\n",
       "0  0.000000  0.000000  0.000000  0.000000  0.000000  0.000000  0.000000   \n",
       "1  2.958725 -2.012993 -1.990048 -1.875980  3.330124 -2.696292  1.574587   \n",
       "2  2.715530  0.238338 -1.754464  1.052473 -0.633279 -0.596190  3.750718   \n",
       "3  3.593698 -2.938445  0.486397 -0.726218  2.960893 -0.602916  2.390825   \n",
       "4  0.758281 -4.095868  1.659120 -2.380796  0.754716 -2.022166  2.962155   \n",
       "\n",
       "         7         8         9   ...        22        23        24        25  \\\n",
       "0  0.000000  0.000000  0.000000  ...  0.000000  0.000000  0.000000  0.000000   \n",
       "1 -2.688815 -3.183158 -1.885756  ... -0.626177  3.819112 -0.908313 -0.049486   \n",
       "2 -1.615034 -4.787402  1.783780  ... -0.741260  5.175512 -1.019670 -1.194044   \n",
       "3 -2.248037 -3.166243 -1.237076  ...  0.737794 -0.942997 -2.011789 -0.670723   \n",
       "4 -4.156784 -2.601961 -0.019272  ... -1.192267  1.165249 -0.408238 -2.747801   \n",
       "\n",
       "         26        27        28        29        30        31  \n",
       "0  0.000000  0.000000  0.000000  0.000000  0.000000  0.000000  \n",
       "1  3.113933  0.165160 -1.879725 -2.445399 -0.156372 -0.157932  \n",
       "2  0.738397 -1.957601 -3.177318 -2.834952  1.767297 -2.191243  \n",
       "3  1.667908 -0.338682 -3.615632 -2.489557  0.348990 -1.230961  \n",
       "4  2.871237 -0.324455 -0.632131 -0.466374 -2.312047 -1.023201  \n",
       "\n",
       "[5 rows x 32 columns]"
      ],
      "text/html": "\n  <div id=\"df-4873d1c1-b495-4f2c-9bf5-e1744497dcb1\">\n    <div class=\"colab-df-container\">\n      <div>\n<style scoped>\n    .dataframe tbody tr th:only-of-type {\n        vertical-align: middle;\n    }\n\n    .dataframe tbody tr th {\n        vertical-align: top;\n    }\n\n    .dataframe thead th {\n        text-align: right;\n    }\n</style>\n<table border=\"1\" class=\"dataframe\">\n  <thead>\n    <tr style=\"text-align: right;\">\n      <th></th>\n      <th>0</th>\n      <th>1</th>\n      <th>2</th>\n      <th>3</th>\n      <th>4</th>\n      <th>5</th>\n      <th>6</th>\n      <th>7</th>\n      <th>8</th>\n      <th>9</th>\n      <th>...</th>\n      <th>22</th>\n      <th>23</th>\n      <th>24</th>\n      <th>25</th>\n      <th>26</th>\n      <th>27</th>\n      <th>28</th>\n      <th>29</th>\n      <th>30</th>\n      <th>31</th>\n    </tr>\n  </thead>\n  <tbody>\n    <tr>\n      <th>0</th>\n      <td>0.000000</td>\n      <td>0.000000</td>\n      <td>0.000000</td>\n      <td>0.000000</td>\n      <td>0.000000</td>\n      <td>0.000000</td>\n      <td>0.000000</td>\n      <td>0.000000</td>\n      <td>0.000000</td>\n      <td>0.000000</td>\n      <td>...</td>\n      <td>0.000000</td>\n      <td>0.000000</td>\n      <td>0.000000</td>\n      <td>0.000000</td>\n      <td>0.000000</td>\n      <td>0.000000</td>\n      <td>0.000000</td>\n      <td>0.000000</td>\n      <td>0.000000</td>\n      <td>0.000000</td>\n    </tr>\n    <tr>\n      <th>1</th>\n      <td>2.958725</td>\n      <td>-2.012993</td>\n      <td>-1.990048</td>\n      <td>-1.875980</td>\n      <td>3.330124</td>\n      <td>-2.696292</td>\n      <td>1.574587</td>\n      <td>-2.688815</td>\n      <td>-3.183158</td>\n      <td>-1.885756</td>\n      <td>...</td>\n      <td>-0.626177</td>\n      <td>3.819112</td>\n      <td>-0.908313</td>\n      <td>-0.049486</td>\n      <td>3.113933</td>\n      <td>0.165160</td>\n      <td>-1.879725</td>\n      <td>-2.445399</td>\n      <td>-0.156372</td>\n      <td>-0.157932</td>\n    </tr>\n    <tr>\n      <th>2</th>\n      <td>2.715530</td>\n      <td>0.238338</td>\n      <td>-1.754464</td>\n      <td>1.052473</td>\n      <td>-0.633279</td>\n      <td>-0.596190</td>\n      <td>3.750718</td>\n      <td>-1.615034</td>\n      <td>-4.787402</td>\n      <td>1.783780</td>\n      <td>...</td>\n      <td>-0.741260</td>\n      <td>5.175512</td>\n      <td>-1.019670</td>\n      <td>-1.194044</td>\n      <td>0.738397</td>\n      <td>-1.957601</td>\n      <td>-3.177318</td>\n      <td>-2.834952</td>\n      <td>1.767297</td>\n      <td>-2.191243</td>\n    </tr>\n    <tr>\n      <th>3</th>\n      <td>3.593698</td>\n      <td>-2.938445</td>\n      <td>0.486397</td>\n      <td>-0.726218</td>\n      <td>2.960893</td>\n      <td>-0.602916</td>\n      <td>2.390825</td>\n      <td>-2.248037</td>\n      <td>-3.166243</td>\n      <td>-1.237076</td>\n      <td>...</td>\n      <td>0.737794</td>\n      <td>-0.942997</td>\n      <td>-2.011789</td>\n      <td>-0.670723</td>\n      <td>1.667908</td>\n      <td>-0.338682</td>\n      <td>-3.615632</td>\n      <td>-2.489557</td>\n      <td>0.348990</td>\n      <td>-1.230961</td>\n    </tr>\n    <tr>\n      <th>4</th>\n      <td>0.758281</td>\n      <td>-4.095868</td>\n      <td>1.659120</td>\n      <td>-2.380796</td>\n      <td>0.754716</td>\n      <td>-2.022166</td>\n      <td>2.962155</td>\n      <td>-4.156784</td>\n      <td>-2.601961</td>\n      <td>-0.019272</td>\n      <td>...</td>\n      <td>-1.192267</td>\n      <td>1.165249</td>\n      <td>-0.408238</td>\n      <td>-2.747801</td>\n      <td>2.871237</td>\n      <td>-0.324455</td>\n      <td>-0.632131</td>\n      <td>-0.466374</td>\n      <td>-2.312047</td>\n      <td>-1.023201</td>\n    </tr>\n  </tbody>\n</table>\n<p>5 rows × 32 columns</p>\n</div>\n      <button class=\"colab-df-convert\" onclick=\"convertToInteractive('df-4873d1c1-b495-4f2c-9bf5-e1744497dcb1')\"\n              title=\"Convert this dataframe to an interactive table.\"\n              style=\"display:none;\">\n        \n  <svg xmlns=\"http://www.w3.org/2000/svg\" height=\"24px\"viewBox=\"0 0 24 24\"\n       width=\"24px\">\n    <path d=\"M0 0h24v24H0V0z\" fill=\"none\"/>\n    <path d=\"M18.56 5.44l.94 2.06.94-2.06 2.06-.94-2.06-.94-.94-2.06-.94 2.06-2.06.94zm-11 1L8.5 8.5l.94-2.06 2.06-.94-2.06-.94L8.5 2.5l-.94 2.06-2.06.94zm10 10l.94 2.06.94-2.06 2.06-.94-2.06-.94-.94-2.06-.94 2.06-2.06.94z\"/><path d=\"M17.41 7.96l-1.37-1.37c-.4-.4-.92-.59-1.43-.59-.52 0-1.04.2-1.43.59L10.3 9.45l-7.72 7.72c-.78.78-.78 2.05 0 2.83L4 21.41c.39.39.9.59 1.41.59.51 0 1.02-.2 1.41-.59l7.78-7.78 2.81-2.81c.8-.78.8-2.07 0-2.86zM5.41 20L4 18.59l7.72-7.72 1.47 1.35L5.41 20z\"/>\n  </svg>\n      </button>\n      \n  <style>\n    .colab-df-container {\n      display:flex;\n      flex-wrap:wrap;\n      gap: 12px;\n    }\n\n    .colab-df-convert {\n      background-color: #E8F0FE;\n      border: none;\n      border-radius: 50%;\n      cursor: pointer;\n      display: none;\n      fill: #1967D2;\n      height: 32px;\n      padding: 0 0 0 0;\n      width: 32px;\n    }\n\n    .colab-df-convert:hover {\n      background-color: #E2EBFA;\n      box-shadow: 0px 1px 2px rgba(60, 64, 67, 0.3), 0px 1px 3px 1px rgba(60, 64, 67, 0.15);\n      fill: #174EA6;\n    }\n\n    [theme=dark] .colab-df-convert {\n      background-color: #3B4455;\n      fill: #D2E3FC;\n    }\n\n    [theme=dark] .colab-df-convert:hover {\n      background-color: #434B5C;\n      box-shadow: 0px 1px 3px 1px rgba(0, 0, 0, 0.15);\n      filter: drop-shadow(0px 1px 2px rgba(0, 0, 0, 0.3));\n      fill: #FFFFFF;\n    }\n  </style>\n\n      <script>\n        const buttonEl =\n          document.querySelector('#df-4873d1c1-b495-4f2c-9bf5-e1744497dcb1 button.colab-df-convert');\n        buttonEl.style.display =\n          google.colab.kernel.accessAllowed ? 'block' : 'none';\n\n        async function convertToInteractive(key) {\n          const element = document.querySelector('#df-4873d1c1-b495-4f2c-9bf5-e1744497dcb1');\n          const dataTable =\n            await google.colab.kernel.invokeFunction('convertToInteractive',\n                                                     [key], {});\n          if (!dataTable) return;\n\n          const docLinkHtml = 'Like what you see? Visit the ' +\n            '<a target=\"_blank\" href=https://colab.research.google.com/notebooks/data_table.ipynb>data table notebook</a>'\n            + ' to learn more about interactive tables.';\n          element.innerHTML = '';\n          dataTable['output_type'] = 'display_data';\n          await google.colab.output.renderOutput(dataTable, element);\n          const docLink = document.createElement('div');\n          docLink.innerHTML = docLinkHtml;\n          element.appendChild(docLink);\n        }\n      </script>\n    </div>\n  </div>\n  "
     },
     "metadata": {},
     "execution_count": 55
    }
   ],
   "source": [
    "word_vectors.head()"
   ]
  },
  {
   "cell_type": "code",
   "execution_count": 56,
   "metadata": {},
   "outputs": [],
   "source": [
    "only_words = only_words[:10000]"
   ]
  },
  {
   "cell_type": "code",
   "execution_count": 57,
   "metadata": {},
   "outputs": [],
   "source": [
    "word_vectors[\"metadata\"] =only_words"
   ]
  },
  {
   "cell_type": "code",
   "execution_count": 58,
   "metadata": {},
   "outputs": [
    {
     "output_type": "execute_result",
     "data": {
      "text/plain": [
       "          0         1         2         3         4         5         6  \\\n",
       "0  0.000000  0.000000  0.000000  0.000000  0.000000  0.000000  0.000000   \n",
       "1  2.958725 -2.012993 -1.990048 -1.875980  3.330124 -2.696292  1.574587   \n",
       "2  2.715530  0.238338 -1.754464  1.052473 -0.633279 -0.596190  3.750718   \n",
       "3  3.593698 -2.938445  0.486397 -0.726218  2.960893 -0.602916  2.390825   \n",
       "4  0.758281 -4.095868  1.659120 -2.380796  0.754716 -2.022166  2.962155   \n",
       "\n",
       "          7         8         9  ...        23        24        25        26  \\\n",
       "0  0.000000  0.000000  0.000000  ...  0.000000  0.000000  0.000000  0.000000   \n",
       "1 -2.688815 -3.183158 -1.885756  ...  3.819112 -0.908313 -0.049486  3.113933   \n",
       "2 -1.615034 -4.787402  1.783780  ...  5.175512 -1.019670 -1.194044  0.738397   \n",
       "3 -2.248037 -3.166243 -1.237076  ... -0.942997 -2.011789 -0.670723  1.667908   \n",
       "4 -4.156784 -2.601961 -0.019272  ...  1.165249 -0.408238 -2.747801  2.871237   \n",
       "\n",
       "         27        28        29        30        31  metadata  \n",
       "0  0.000000  0.000000  0.000000  0.000000  0.000000     [PAD]  \n",
       "1  0.165160 -1.879725 -2.445399 -0.156372 -0.157932       the  \n",
       "2 -1.957601 -3.177318 -2.834952  1.767297 -2.191243         a  \n",
       "3 -0.338682 -3.615632 -2.489557  0.348990 -1.230961       and  \n",
       "4 -0.324455 -0.632131 -0.466374 -2.312047 -1.023201        of  \n",
       "\n",
       "[5 rows x 33 columns]"
      ],
      "text/html": "\n  <div id=\"df-bd5e383a-1573-4f7c-9a10-6c0560b6eb16\">\n    <div class=\"colab-df-container\">\n      <div>\n<style scoped>\n    .dataframe tbody tr th:only-of-type {\n        vertical-align: middle;\n    }\n\n    .dataframe tbody tr th {\n        vertical-align: top;\n    }\n\n    .dataframe thead th {\n        text-align: right;\n    }\n</style>\n<table border=\"1\" class=\"dataframe\">\n  <thead>\n    <tr style=\"text-align: right;\">\n      <th></th>\n      <th>0</th>\n      <th>1</th>\n      <th>2</th>\n      <th>3</th>\n      <th>4</th>\n      <th>5</th>\n      <th>6</th>\n      <th>7</th>\n      <th>8</th>\n      <th>9</th>\n      <th>...</th>\n      <th>23</th>\n      <th>24</th>\n      <th>25</th>\n      <th>26</th>\n      <th>27</th>\n      <th>28</th>\n      <th>29</th>\n      <th>30</th>\n      <th>31</th>\n      <th>metadata</th>\n    </tr>\n  </thead>\n  <tbody>\n    <tr>\n      <th>0</th>\n      <td>0.000000</td>\n      <td>0.000000</td>\n      <td>0.000000</td>\n      <td>0.000000</td>\n      <td>0.000000</td>\n      <td>0.000000</td>\n      <td>0.000000</td>\n      <td>0.000000</td>\n      <td>0.000000</td>\n      <td>0.000000</td>\n      <td>...</td>\n      <td>0.000000</td>\n      <td>0.000000</td>\n      <td>0.000000</td>\n      <td>0.000000</td>\n      <td>0.000000</td>\n      <td>0.000000</td>\n      <td>0.000000</td>\n      <td>0.000000</td>\n      <td>0.000000</td>\n      <td>[PAD]</td>\n    </tr>\n    <tr>\n      <th>1</th>\n      <td>2.958725</td>\n      <td>-2.012993</td>\n      <td>-1.990048</td>\n      <td>-1.875980</td>\n      <td>3.330124</td>\n      <td>-2.696292</td>\n      <td>1.574587</td>\n      <td>-2.688815</td>\n      <td>-3.183158</td>\n      <td>-1.885756</td>\n      <td>...</td>\n      <td>3.819112</td>\n      <td>-0.908313</td>\n      <td>-0.049486</td>\n      <td>3.113933</td>\n      <td>0.165160</td>\n      <td>-1.879725</td>\n      <td>-2.445399</td>\n      <td>-0.156372</td>\n      <td>-0.157932</td>\n      <td>the</td>\n    </tr>\n    <tr>\n      <th>2</th>\n      <td>2.715530</td>\n      <td>0.238338</td>\n      <td>-1.754464</td>\n      <td>1.052473</td>\n      <td>-0.633279</td>\n      <td>-0.596190</td>\n      <td>3.750718</td>\n      <td>-1.615034</td>\n      <td>-4.787402</td>\n      <td>1.783780</td>\n      <td>...</td>\n      <td>5.175512</td>\n      <td>-1.019670</td>\n      <td>-1.194044</td>\n      <td>0.738397</td>\n      <td>-1.957601</td>\n      <td>-3.177318</td>\n      <td>-2.834952</td>\n      <td>1.767297</td>\n      <td>-2.191243</td>\n      <td>a</td>\n    </tr>\n    <tr>\n      <th>3</th>\n      <td>3.593698</td>\n      <td>-2.938445</td>\n      <td>0.486397</td>\n      <td>-0.726218</td>\n      <td>2.960893</td>\n      <td>-0.602916</td>\n      <td>2.390825</td>\n      <td>-2.248037</td>\n      <td>-3.166243</td>\n      <td>-1.237076</td>\n      <td>...</td>\n      <td>-0.942997</td>\n      <td>-2.011789</td>\n      <td>-0.670723</td>\n      <td>1.667908</td>\n      <td>-0.338682</td>\n      <td>-3.615632</td>\n      <td>-2.489557</td>\n      <td>0.348990</td>\n      <td>-1.230961</td>\n      <td>and</td>\n    </tr>\n    <tr>\n      <th>4</th>\n      <td>0.758281</td>\n      <td>-4.095868</td>\n      <td>1.659120</td>\n      <td>-2.380796</td>\n      <td>0.754716</td>\n      <td>-2.022166</td>\n      <td>2.962155</td>\n      <td>-4.156784</td>\n      <td>-2.601961</td>\n      <td>-0.019272</td>\n      <td>...</td>\n      <td>1.165249</td>\n      <td>-0.408238</td>\n      <td>-2.747801</td>\n      <td>2.871237</td>\n      <td>-0.324455</td>\n      <td>-0.632131</td>\n      <td>-0.466374</td>\n      <td>-2.312047</td>\n      <td>-1.023201</td>\n      <td>of</td>\n    </tr>\n  </tbody>\n</table>\n<p>5 rows × 33 columns</p>\n</div>\n      <button class=\"colab-df-convert\" onclick=\"convertToInteractive('df-bd5e383a-1573-4f7c-9a10-6c0560b6eb16')\"\n              title=\"Convert this dataframe to an interactive table.\"\n              style=\"display:none;\">\n        \n  <svg xmlns=\"http://www.w3.org/2000/svg\" height=\"24px\"viewBox=\"0 0 24 24\"\n       width=\"24px\">\n    <path d=\"M0 0h24v24H0V0z\" fill=\"none\"/>\n    <path d=\"M18.56 5.44l.94 2.06.94-2.06 2.06-.94-2.06-.94-.94-2.06-.94 2.06-2.06.94zm-11 1L8.5 8.5l.94-2.06 2.06-.94-2.06-.94L8.5 2.5l-.94 2.06-2.06.94zm10 10l.94 2.06.94-2.06 2.06-.94-2.06-.94-.94-2.06-.94 2.06-2.06.94z\"/><path d=\"M17.41 7.96l-1.37-1.37c-.4-.4-.92-.59-1.43-.59-.52 0-1.04.2-1.43.59L10.3 9.45l-7.72 7.72c-.78.78-.78 2.05 0 2.83L4 21.41c.39.39.9.59 1.41.59.51 0 1.02-.2 1.41-.59l7.78-7.78 2.81-2.81c.8-.78.8-2.07 0-2.86zM5.41 20L4 18.59l7.72-7.72 1.47 1.35L5.41 20z\"/>\n  </svg>\n      </button>\n      \n  <style>\n    .colab-df-container {\n      display:flex;\n      flex-wrap:wrap;\n      gap: 12px;\n    }\n\n    .colab-df-convert {\n      background-color: #E8F0FE;\n      border: none;\n      border-radius: 50%;\n      cursor: pointer;\n      display: none;\n      fill: #1967D2;\n      height: 32px;\n      padding: 0 0 0 0;\n      width: 32px;\n    }\n\n    .colab-df-convert:hover {\n      background-color: #E2EBFA;\n      box-shadow: 0px 1px 2px rgba(60, 64, 67, 0.3), 0px 1px 3px 1px rgba(60, 64, 67, 0.15);\n      fill: #174EA6;\n    }\n\n    [theme=dark] .colab-df-convert {\n      background-color: #3B4455;\n      fill: #D2E3FC;\n    }\n\n    [theme=dark] .colab-df-convert:hover {\n      background-color: #434B5C;\n      box-shadow: 0px 1px 3px 1px rgba(0, 0, 0, 0.15);\n      filter: drop-shadow(0px 1px 2px rgba(0, 0, 0, 0.3));\n      fill: #FFFFFF;\n    }\n  </style>\n\n      <script>\n        const buttonEl =\n          document.querySelector('#df-bd5e383a-1573-4f7c-9a10-6c0560b6eb16 button.colab-df-convert');\n        buttonEl.style.display =\n          google.colab.kernel.accessAllowed ? 'block' : 'none';\n\n        async function convertToInteractive(key) {\n          const element = document.querySelector('#df-bd5e383a-1573-4f7c-9a10-6c0560b6eb16');\n          const dataTable =\n            await google.colab.kernel.invokeFunction('convertToInteractive',\n                                                     [key], {});\n          if (!dataTable) return;\n\n          const docLinkHtml = 'Like what you see? Visit the ' +\n            '<a target=\"_blank\" href=https://colab.research.google.com/notebooks/data_table.ipynb>data table notebook</a>'\n            + ' to learn more about interactive tables.';\n          element.innerHTML = '';\n          dataTable['output_type'] = 'display_data';\n          await google.colab.output.renderOutput(dataTable, element);\n          const docLink = document.createElement('div');\n          docLink.innerHTML = docLinkHtml;\n          element.appendChild(docLink);\n        }\n      </script>\n    </div>\n  </div>\n  "
     },
     "metadata": {},
     "execution_count": 58
    }
   ],
   "source": [
    "word_vectors.head()"
   ]
  },
  {
   "cell_type": "code",
   "execution_count": 59,
   "metadata": {},
   "outputs": [],
   "source": [
    "word_vectors.to_csv(\"imdb_prep_meta_data.tsv\",sep =\"\\t\",index = False)"
   ]
  },
  {
   "cell_type": "code",
   "execution_count": 60,
   "metadata": {},
   "outputs": [
    {
     "output_type": "execute_result",
     "data": {
      "text/plain": [
       "          0         1         2         3         4         5         6  \\\n",
       "0  0.000000  0.000000  0.000000  0.000000  0.000000  0.000000  0.000000   \n",
       "1  2.958725 -2.012993 -1.990048 -1.875980  3.330124 -2.696292  1.574587   \n",
       "2  2.715530  0.238338 -1.754464  1.052473 -0.633279 -0.596190  3.750718   \n",
       "3  3.593698 -2.938445  0.486397 -0.726218  2.960893 -0.602916  2.390825   \n",
       "4  0.758281 -4.095868  1.659120 -2.380796  0.754716 -2.022166  2.962155   \n",
       "\n",
       "          7         8         9  ...        23        24        25        26  \\\n",
       "0  0.000000  0.000000  0.000000  ...  0.000000  0.000000  0.000000  0.000000   \n",
       "1 -2.688815 -3.183158 -1.885756  ...  3.819112 -0.908313 -0.049486  3.113933   \n",
       "2 -1.615034 -4.787402  1.783780  ...  5.175512 -1.019670 -1.194044  0.738397   \n",
       "3 -2.248037 -3.166243 -1.237076  ... -0.942997 -2.011789 -0.670723  1.667908   \n",
       "4 -4.156784 -2.601961 -0.019272  ...  1.165249 -0.408238 -2.747801  2.871237   \n",
       "\n",
       "         27        28        29        30        31  metadata  \n",
       "0  0.000000  0.000000  0.000000  0.000000  0.000000     [PAD]  \n",
       "1  0.165160 -1.879725 -2.445399 -0.156372 -0.157932       the  \n",
       "2 -1.957601 -3.177318 -2.834952  1.767297 -2.191243         a  \n",
       "3 -0.338682 -3.615632 -2.489557  0.348990 -1.230961       and  \n",
       "4 -0.324455 -0.632131 -0.466374 -2.312047 -1.023201        of  \n",
       "\n",
       "[5 rows x 33 columns]"
      ],
      "text/html": "\n  <div id=\"df-812c135d-a5cc-4608-9bcd-0ef13bf4e5bc\">\n    <div class=\"colab-df-container\">\n      <div>\n<style scoped>\n    .dataframe tbody tr th:only-of-type {\n        vertical-align: middle;\n    }\n\n    .dataframe tbody tr th {\n        vertical-align: top;\n    }\n\n    .dataframe thead th {\n        text-align: right;\n    }\n</style>\n<table border=\"1\" class=\"dataframe\">\n  <thead>\n    <tr style=\"text-align: right;\">\n      <th></th>\n      <th>0</th>\n      <th>1</th>\n      <th>2</th>\n      <th>3</th>\n      <th>4</th>\n      <th>5</th>\n      <th>6</th>\n      <th>7</th>\n      <th>8</th>\n      <th>9</th>\n      <th>...</th>\n      <th>23</th>\n      <th>24</th>\n      <th>25</th>\n      <th>26</th>\n      <th>27</th>\n      <th>28</th>\n      <th>29</th>\n      <th>30</th>\n      <th>31</th>\n      <th>metadata</th>\n    </tr>\n  </thead>\n  <tbody>\n    <tr>\n      <th>0</th>\n      <td>0.000000</td>\n      <td>0.000000</td>\n      <td>0.000000</td>\n      <td>0.000000</td>\n      <td>0.000000</td>\n      <td>0.000000</td>\n      <td>0.000000</td>\n      <td>0.000000</td>\n      <td>0.000000</td>\n      <td>0.000000</td>\n      <td>...</td>\n      <td>0.000000</td>\n      <td>0.000000</td>\n      <td>0.000000</td>\n      <td>0.000000</td>\n      <td>0.000000</td>\n      <td>0.000000</td>\n      <td>0.000000</td>\n      <td>0.000000</td>\n      <td>0.000000</td>\n      <td>[PAD]</td>\n    </tr>\n    <tr>\n      <th>1</th>\n      <td>2.958725</td>\n      <td>-2.012993</td>\n      <td>-1.990048</td>\n      <td>-1.875980</td>\n      <td>3.330124</td>\n      <td>-2.696292</td>\n      <td>1.574587</td>\n      <td>-2.688815</td>\n      <td>-3.183158</td>\n      <td>-1.885756</td>\n      <td>...</td>\n      <td>3.819112</td>\n      <td>-0.908313</td>\n      <td>-0.049486</td>\n      <td>3.113933</td>\n      <td>0.165160</td>\n      <td>-1.879725</td>\n      <td>-2.445399</td>\n      <td>-0.156372</td>\n      <td>-0.157932</td>\n      <td>the</td>\n    </tr>\n    <tr>\n      <th>2</th>\n      <td>2.715530</td>\n      <td>0.238338</td>\n      <td>-1.754464</td>\n      <td>1.052473</td>\n      <td>-0.633279</td>\n      <td>-0.596190</td>\n      <td>3.750718</td>\n      <td>-1.615034</td>\n      <td>-4.787402</td>\n      <td>1.783780</td>\n      <td>...</td>\n      <td>5.175512</td>\n      <td>-1.019670</td>\n      <td>-1.194044</td>\n      <td>0.738397</td>\n      <td>-1.957601</td>\n      <td>-3.177318</td>\n      <td>-2.834952</td>\n      <td>1.767297</td>\n      <td>-2.191243</td>\n      <td>a</td>\n    </tr>\n    <tr>\n      <th>3</th>\n      <td>3.593698</td>\n      <td>-2.938445</td>\n      <td>0.486397</td>\n      <td>-0.726218</td>\n      <td>2.960893</td>\n      <td>-0.602916</td>\n      <td>2.390825</td>\n      <td>-2.248037</td>\n      <td>-3.166243</td>\n      <td>-1.237076</td>\n      <td>...</td>\n      <td>-0.942997</td>\n      <td>-2.011789</td>\n      <td>-0.670723</td>\n      <td>1.667908</td>\n      <td>-0.338682</td>\n      <td>-3.615632</td>\n      <td>-2.489557</td>\n      <td>0.348990</td>\n      <td>-1.230961</td>\n      <td>and</td>\n    </tr>\n    <tr>\n      <th>4</th>\n      <td>0.758281</td>\n      <td>-4.095868</td>\n      <td>1.659120</td>\n      <td>-2.380796</td>\n      <td>0.754716</td>\n      <td>-2.022166</td>\n      <td>2.962155</td>\n      <td>-4.156784</td>\n      <td>-2.601961</td>\n      <td>-0.019272</td>\n      <td>...</td>\n      <td>1.165249</td>\n      <td>-0.408238</td>\n      <td>-2.747801</td>\n      <td>2.871237</td>\n      <td>-0.324455</td>\n      <td>-0.632131</td>\n      <td>-0.466374</td>\n      <td>-2.312047</td>\n      <td>-1.023201</td>\n      <td>of</td>\n    </tr>\n  </tbody>\n</table>\n<p>5 rows × 33 columns</p>\n</div>\n      <button class=\"colab-df-convert\" onclick=\"convertToInteractive('df-812c135d-a5cc-4608-9bcd-0ef13bf4e5bc')\"\n              title=\"Convert this dataframe to an interactive table.\"\n              style=\"display:none;\">\n        \n  <svg xmlns=\"http://www.w3.org/2000/svg\" height=\"24px\"viewBox=\"0 0 24 24\"\n       width=\"24px\">\n    <path d=\"M0 0h24v24H0V0z\" fill=\"none\"/>\n    <path d=\"M18.56 5.44l.94 2.06.94-2.06 2.06-.94-2.06-.94-.94-2.06-.94 2.06-2.06.94zm-11 1L8.5 8.5l.94-2.06 2.06-.94-2.06-.94L8.5 2.5l-.94 2.06-2.06.94zm10 10l.94 2.06.94-2.06 2.06-.94-2.06-.94-.94-2.06-.94 2.06-2.06.94z\"/><path d=\"M17.41 7.96l-1.37-1.37c-.4-.4-.92-.59-1.43-.59-.52 0-1.04.2-1.43.59L10.3 9.45l-7.72 7.72c-.78.78-.78 2.05 0 2.83L4 21.41c.39.39.9.59 1.41.59.51 0 1.02-.2 1.41-.59l7.78-7.78 2.81-2.81c.8-.78.8-2.07 0-2.86zM5.41 20L4 18.59l7.72-7.72 1.47 1.35L5.41 20z\"/>\n  </svg>\n      </button>\n      \n  <style>\n    .colab-df-container {\n      display:flex;\n      flex-wrap:wrap;\n      gap: 12px;\n    }\n\n    .colab-df-convert {\n      background-color: #E8F0FE;\n      border: none;\n      border-radius: 50%;\n      cursor: pointer;\n      display: none;\n      fill: #1967D2;\n      height: 32px;\n      padding: 0 0 0 0;\n      width: 32px;\n    }\n\n    .colab-df-convert:hover {\n      background-color: #E2EBFA;\n      box-shadow: 0px 1px 2px rgba(60, 64, 67, 0.3), 0px 1px 3px 1px rgba(60, 64, 67, 0.15);\n      fill: #174EA6;\n    }\n\n    [theme=dark] .colab-df-convert {\n      background-color: #3B4455;\n      fill: #D2E3FC;\n    }\n\n    [theme=dark] .colab-df-convert:hover {\n      background-color: #434B5C;\n      box-shadow: 0px 1px 3px 1px rgba(0, 0, 0, 0.15);\n      filter: drop-shadow(0px 1px 2px rgba(0, 0, 0, 0.3));\n      fill: #FFFFFF;\n    }\n  </style>\n\n      <script>\n        const buttonEl =\n          document.querySelector('#df-812c135d-a5cc-4608-9bcd-0ef13bf4e5bc button.colab-df-convert');\n        buttonEl.style.display =\n          google.colab.kernel.accessAllowed ? 'block' : 'none';\n\n        async function convertToInteractive(key) {\n          const element = document.querySelector('#df-812c135d-a5cc-4608-9bcd-0ef13bf4e5bc');\n          const dataTable =\n            await google.colab.kernel.invokeFunction('convertToInteractive',\n                                                     [key], {});\n          if (!dataTable) return;\n\n          const docLinkHtml = 'Like what you see? Visit the ' +\n            '<a target=\"_blank\" href=https://colab.research.google.com/notebooks/data_table.ipynb>data table notebook</a>'\n            + ' to learn more about interactive tables.';\n          element.innerHTML = '';\n          dataTable['output_type'] = 'display_data';\n          await google.colab.output.renderOutput(dataTable, element);\n          const docLink = document.createElement('div');\n          docLink.innerHTML = docLinkHtml;\n          element.appendChild(docLink);\n        }\n      </script>\n    </div>\n  </div>\n  "
     },
     "metadata": {},
     "execution_count": 60
    }
   ],
   "source": [
    "pd.read_csv(\"imdb_prep_meta_data.tsv\",sep =\"\\t\").head()"
   ]
  },
  {
   "cell_type": "code",
   "execution_count": 61,
   "metadata": {},
   "outputs": [
    {
     "output_type": "execute_result",
     "data": {
      "text/plain": [
       "             0         1         2         3         4         5         6  \\\n",
       "0     0.000000  0.000000  0.000000  0.000000  0.000000  0.000000  0.000000   \n",
       "1     2.958725 -2.012993 -1.990048 -1.875980  3.330124 -2.696292  1.574587   \n",
       "2     2.715530  0.238338 -1.754464  1.052473 -0.633279 -0.596190  3.750718   \n",
       "3     3.593698 -2.938445  0.486397 -0.726218  2.960893 -0.602916  2.390825   \n",
       "4     0.758281 -4.095868  1.659120 -2.380796  0.754716 -2.022166  2.962155   \n",
       "...        ...       ...       ...       ...       ...       ...       ...   \n",
       "9995 -0.054073 -1.306047 -0.225386  0.520529 -0.289925  0.499278  0.589277   \n",
       "9996  1.660530 -2.385274 -2.172968  0.730488 -0.181869  0.515578 -0.059546   \n",
       "9997 -0.053825 -1.348443  1.516496  1.278098 -1.267467  0.038891  1.771448   \n",
       "9998  0.276255 -0.830416  0.446468  0.560811 -0.545029  0.218184  0.850519   \n",
       "9999 -0.334946 -1.039857 -0.029070  0.581560  0.640900  0.519195  0.961228   \n",
       "\n",
       "             7         8         9  ...        23        24        25  \\\n",
       "0     0.000000  0.000000  0.000000  ...  0.000000  0.000000  0.000000   \n",
       "1    -2.688815 -3.183158 -1.885756  ...  3.819112 -0.908313 -0.049486   \n",
       "2    -1.615034 -4.787402  1.783780  ...  5.175512 -1.019670 -1.194044   \n",
       "3    -2.248037 -3.166243 -1.237076  ... -0.942997 -2.011789 -0.670723   \n",
       "4    -4.156784 -2.601961 -0.019272  ...  1.165249 -0.408238 -2.747801   \n",
       "...        ...       ...       ...  ...       ...       ...       ...   \n",
       "9995  0.719818 -0.478099 -0.565172  ... -0.291355  0.354963 -0.418208   \n",
       "9996  0.797483 -1.913517 -0.023179  ... -1.310679  0.155042  1.490086   \n",
       "9997 -0.129162  1.357086 -0.926320  ... -1.756148 -0.039685  2.316189   \n",
       "9998 -0.050351 -1.521231 -0.589575  ... -0.793796  0.062207 -0.594397   \n",
       "9999  0.014307 -0.718210 -0.603422  ... -0.955220  0.270574 -0.159934   \n",
       "\n",
       "            26        27        28        29        30        31    metadata  \n",
       "0     0.000000  0.000000  0.000000  0.000000  0.000000  0.000000       [PAD]  \n",
       "1     3.113933  0.165160 -1.879725 -2.445399 -0.156372 -0.157932         the  \n",
       "2     0.738397 -1.957601 -3.177318 -2.834952  1.767297 -2.191243           a  \n",
       "3     1.667908 -0.338682 -3.615632 -2.489557  0.348990 -1.230961         and  \n",
       "4     2.871237 -0.324455 -0.632131 -0.466374 -2.312047 -1.023201          of  \n",
       "...        ...       ...       ...       ...       ...       ...         ...  \n",
       "9995 -0.708060 -0.007273 -0.071855 -0.651207  0.003861  0.294426      lester  \n",
       "9996 -0.515011 -0.044432 -1.980839  0.415008 -1.998591  1.192466  encouraged  \n",
       "9997 -1.693603  0.969027 -0.361738 -1.226461 -1.539251  1.138865          8.  \n",
       "9998 -0.811170 -0.261929  0.354554 -0.946608 -0.071854  0.348152      paxton  \n",
       "9999 -0.997063 -0.341227 -0.574605 -0.327188 -0.253993  0.080549    suicide,  \n",
       "\n",
       "[10000 rows x 33 columns]"
      ],
      "text/html": "\n  <div id=\"df-06ffb618-aa35-4f81-b8f8-deede430f480\">\n    <div class=\"colab-df-container\">\n      <div>\n<style scoped>\n    .dataframe tbody tr th:only-of-type {\n        vertical-align: middle;\n    }\n\n    .dataframe tbody tr th {\n        vertical-align: top;\n    }\n\n    .dataframe thead th {\n        text-align: right;\n    }\n</style>\n<table border=\"1\" class=\"dataframe\">\n  <thead>\n    <tr style=\"text-align: right;\">\n      <th></th>\n      <th>0</th>\n      <th>1</th>\n      <th>2</th>\n      <th>3</th>\n      <th>4</th>\n      <th>5</th>\n      <th>6</th>\n      <th>7</th>\n      <th>8</th>\n      <th>9</th>\n      <th>...</th>\n      <th>23</th>\n      <th>24</th>\n      <th>25</th>\n      <th>26</th>\n      <th>27</th>\n      <th>28</th>\n      <th>29</th>\n      <th>30</th>\n      <th>31</th>\n      <th>metadata</th>\n    </tr>\n  </thead>\n  <tbody>\n    <tr>\n      <th>0</th>\n      <td>0.000000</td>\n      <td>0.000000</td>\n      <td>0.000000</td>\n      <td>0.000000</td>\n      <td>0.000000</td>\n      <td>0.000000</td>\n      <td>0.000000</td>\n      <td>0.000000</td>\n      <td>0.000000</td>\n      <td>0.000000</td>\n      <td>...</td>\n      <td>0.000000</td>\n      <td>0.000000</td>\n      <td>0.000000</td>\n      <td>0.000000</td>\n      <td>0.000000</td>\n      <td>0.000000</td>\n      <td>0.000000</td>\n      <td>0.000000</td>\n      <td>0.000000</td>\n      <td>[PAD]</td>\n    </tr>\n    <tr>\n      <th>1</th>\n      <td>2.958725</td>\n      <td>-2.012993</td>\n      <td>-1.990048</td>\n      <td>-1.875980</td>\n      <td>3.330124</td>\n      <td>-2.696292</td>\n      <td>1.574587</td>\n      <td>-2.688815</td>\n      <td>-3.183158</td>\n      <td>-1.885756</td>\n      <td>...</td>\n      <td>3.819112</td>\n      <td>-0.908313</td>\n      <td>-0.049486</td>\n      <td>3.113933</td>\n      <td>0.165160</td>\n      <td>-1.879725</td>\n      <td>-2.445399</td>\n      <td>-0.156372</td>\n      <td>-0.157932</td>\n      <td>the</td>\n    </tr>\n    <tr>\n      <th>2</th>\n      <td>2.715530</td>\n      <td>0.238338</td>\n      <td>-1.754464</td>\n      <td>1.052473</td>\n      <td>-0.633279</td>\n      <td>-0.596190</td>\n      <td>3.750718</td>\n      <td>-1.615034</td>\n      <td>-4.787402</td>\n      <td>1.783780</td>\n      <td>...</td>\n      <td>5.175512</td>\n      <td>-1.019670</td>\n      <td>-1.194044</td>\n      <td>0.738397</td>\n      <td>-1.957601</td>\n      <td>-3.177318</td>\n      <td>-2.834952</td>\n      <td>1.767297</td>\n      <td>-2.191243</td>\n      <td>a</td>\n    </tr>\n    <tr>\n      <th>3</th>\n      <td>3.593698</td>\n      <td>-2.938445</td>\n      <td>0.486397</td>\n      <td>-0.726218</td>\n      <td>2.960893</td>\n      <td>-0.602916</td>\n      <td>2.390825</td>\n      <td>-2.248037</td>\n      <td>-3.166243</td>\n      <td>-1.237076</td>\n      <td>...</td>\n      <td>-0.942997</td>\n      <td>-2.011789</td>\n      <td>-0.670723</td>\n      <td>1.667908</td>\n      <td>-0.338682</td>\n      <td>-3.615632</td>\n      <td>-2.489557</td>\n      <td>0.348990</td>\n      <td>-1.230961</td>\n      <td>and</td>\n    </tr>\n    <tr>\n      <th>4</th>\n      <td>0.758281</td>\n      <td>-4.095868</td>\n      <td>1.659120</td>\n      <td>-2.380796</td>\n      <td>0.754716</td>\n      <td>-2.022166</td>\n      <td>2.962155</td>\n      <td>-4.156784</td>\n      <td>-2.601961</td>\n      <td>-0.019272</td>\n      <td>...</td>\n      <td>1.165249</td>\n      <td>-0.408238</td>\n      <td>-2.747801</td>\n      <td>2.871237</td>\n      <td>-0.324455</td>\n      <td>-0.632131</td>\n      <td>-0.466374</td>\n      <td>-2.312047</td>\n      <td>-1.023201</td>\n      <td>of</td>\n    </tr>\n    <tr>\n      <th>...</th>\n      <td>...</td>\n      <td>...</td>\n      <td>...</td>\n      <td>...</td>\n      <td>...</td>\n      <td>...</td>\n      <td>...</td>\n      <td>...</td>\n      <td>...</td>\n      <td>...</td>\n      <td>...</td>\n      <td>...</td>\n      <td>...</td>\n      <td>...</td>\n      <td>...</td>\n      <td>...</td>\n      <td>...</td>\n      <td>...</td>\n      <td>...</td>\n      <td>...</td>\n      <td>...</td>\n    </tr>\n    <tr>\n      <th>9995</th>\n      <td>-0.054073</td>\n      <td>-1.306047</td>\n      <td>-0.225386</td>\n      <td>0.520529</td>\n      <td>-0.289925</td>\n      <td>0.499278</td>\n      <td>0.589277</td>\n      <td>0.719818</td>\n      <td>-0.478099</td>\n      <td>-0.565172</td>\n      <td>...</td>\n      <td>-0.291355</td>\n      <td>0.354963</td>\n      <td>-0.418208</td>\n      <td>-0.708060</td>\n      <td>-0.007273</td>\n      <td>-0.071855</td>\n      <td>-0.651207</td>\n      <td>0.003861</td>\n      <td>0.294426</td>\n      <td>lester</td>\n    </tr>\n    <tr>\n      <th>9996</th>\n      <td>1.660530</td>\n      <td>-2.385274</td>\n      <td>-2.172968</td>\n      <td>0.730488</td>\n      <td>-0.181869</td>\n      <td>0.515578</td>\n      <td>-0.059546</td>\n      <td>0.797483</td>\n      <td>-1.913517</td>\n      <td>-0.023179</td>\n      <td>...</td>\n      <td>-1.310679</td>\n      <td>0.155042</td>\n      <td>1.490086</td>\n      <td>-0.515011</td>\n      <td>-0.044432</td>\n      <td>-1.980839</td>\n      <td>0.415008</td>\n      <td>-1.998591</td>\n      <td>1.192466</td>\n      <td>encouraged</td>\n    </tr>\n    <tr>\n      <th>9997</th>\n      <td>-0.053825</td>\n      <td>-1.348443</td>\n      <td>1.516496</td>\n      <td>1.278098</td>\n      <td>-1.267467</td>\n      <td>0.038891</td>\n      <td>1.771448</td>\n      <td>-0.129162</td>\n      <td>1.357086</td>\n      <td>-0.926320</td>\n      <td>...</td>\n      <td>-1.756148</td>\n      <td>-0.039685</td>\n      <td>2.316189</td>\n      <td>-1.693603</td>\n      <td>0.969027</td>\n      <td>-0.361738</td>\n      <td>-1.226461</td>\n      <td>-1.539251</td>\n      <td>1.138865</td>\n      <td>8.</td>\n    </tr>\n    <tr>\n      <th>9998</th>\n      <td>0.276255</td>\n      <td>-0.830416</td>\n      <td>0.446468</td>\n      <td>0.560811</td>\n      <td>-0.545029</td>\n      <td>0.218184</td>\n      <td>0.850519</td>\n      <td>-0.050351</td>\n      <td>-1.521231</td>\n      <td>-0.589575</td>\n      <td>...</td>\n      <td>-0.793796</td>\n      <td>0.062207</td>\n      <td>-0.594397</td>\n      <td>-0.811170</td>\n      <td>-0.261929</td>\n      <td>0.354554</td>\n      <td>-0.946608</td>\n      <td>-0.071854</td>\n      <td>0.348152</td>\n      <td>paxton</td>\n    </tr>\n    <tr>\n      <th>9999</th>\n      <td>-0.334946</td>\n      <td>-1.039857</td>\n      <td>-0.029070</td>\n      <td>0.581560</td>\n      <td>0.640900</td>\n      <td>0.519195</td>\n      <td>0.961228</td>\n      <td>0.014307</td>\n      <td>-0.718210</td>\n      <td>-0.603422</td>\n      <td>...</td>\n      <td>-0.955220</td>\n      <td>0.270574</td>\n      <td>-0.159934</td>\n      <td>-0.997063</td>\n      <td>-0.341227</td>\n      <td>-0.574605</td>\n      <td>-0.327188</td>\n      <td>-0.253993</td>\n      <td>0.080549</td>\n      <td>suicide,</td>\n    </tr>\n  </tbody>\n</table>\n<p>10000 rows × 33 columns</p>\n</div>\n      <button class=\"colab-df-convert\" onclick=\"convertToInteractive('df-06ffb618-aa35-4f81-b8f8-deede430f480')\"\n              title=\"Convert this dataframe to an interactive table.\"\n              style=\"display:none;\">\n        \n  <svg xmlns=\"http://www.w3.org/2000/svg\" height=\"24px\"viewBox=\"0 0 24 24\"\n       width=\"24px\">\n    <path d=\"M0 0h24v24H0V0z\" fill=\"none\"/>\n    <path d=\"M18.56 5.44l.94 2.06.94-2.06 2.06-.94-2.06-.94-.94-2.06-.94 2.06-2.06.94zm-11 1L8.5 8.5l.94-2.06 2.06-.94-2.06-.94L8.5 2.5l-.94 2.06-2.06.94zm10 10l.94 2.06.94-2.06 2.06-.94-2.06-.94-.94-2.06-.94 2.06-2.06.94z\"/><path d=\"M17.41 7.96l-1.37-1.37c-.4-.4-.92-.59-1.43-.59-.52 0-1.04.2-1.43.59L10.3 9.45l-7.72 7.72c-.78.78-.78 2.05 0 2.83L4 21.41c.39.39.9.59 1.41.59.51 0 1.02-.2 1.41-.59l7.78-7.78 2.81-2.81c.8-.78.8-2.07 0-2.86zM5.41 20L4 18.59l7.72-7.72 1.47 1.35L5.41 20z\"/>\n  </svg>\n      </button>\n      \n  <style>\n    .colab-df-container {\n      display:flex;\n      flex-wrap:wrap;\n      gap: 12px;\n    }\n\n    .colab-df-convert {\n      background-color: #E8F0FE;\n      border: none;\n      border-radius: 50%;\n      cursor: pointer;\n      display: none;\n      fill: #1967D2;\n      height: 32px;\n      padding: 0 0 0 0;\n      width: 32px;\n    }\n\n    .colab-df-convert:hover {\n      background-color: #E2EBFA;\n      box-shadow: 0px 1px 2px rgba(60, 64, 67, 0.3), 0px 1px 3px 1px rgba(60, 64, 67, 0.15);\n      fill: #174EA6;\n    }\n\n    [theme=dark] .colab-df-convert {\n      background-color: #3B4455;\n      fill: #D2E3FC;\n    }\n\n    [theme=dark] .colab-df-convert:hover {\n      background-color: #434B5C;\n      box-shadow: 0px 1px 3px 1px rgba(0, 0, 0, 0.15);\n      filter: drop-shadow(0px 1px 2px rgba(0, 0, 0, 0.3));\n      fill: #FFFFFF;\n    }\n  </style>\n\n      <script>\n        const buttonEl =\n          document.querySelector('#df-06ffb618-aa35-4f81-b8f8-deede430f480 button.colab-df-convert');\n        buttonEl.style.display =\n          google.colab.kernel.accessAllowed ? 'block' : 'none';\n\n        async function convertToInteractive(key) {\n          const element = document.querySelector('#df-06ffb618-aa35-4f81-b8f8-deede430f480');\n          const dataTable =\n            await google.colab.kernel.invokeFunction('convertToInteractive',\n                                                     [key], {});\n          if (!dataTable) return;\n\n          const docLinkHtml = 'Like what you see? Visit the ' +\n            '<a target=\"_blank\" href=https://colab.research.google.com/notebooks/data_table.ipynb>data table notebook</a>'\n            + ' to learn more about interactive tables.';\n          element.innerHTML = '';\n          dataTable['output_type'] = 'display_data';\n          await google.colab.output.renderOutput(dataTable, element);\n          const docLink = document.createElement('div');\n          docLink.innerHTML = docLinkHtml;\n          element.appendChild(docLink);\n        }\n      </script>\n    </div>\n  </div>\n  "
     },
     "metadata": {},
     "execution_count": 61
    }
   ],
   "source": [
    "word_vectors"
   ]
  },
  {
   "cell_type": "code",
   "execution_count": 62,
   "metadata": {},
   "outputs": [],
   "source": [
    "test_data = pd.read_csv(\"/content/drive/MyDrive/DL_projects/text_classification/dataset/imdb_dataset.csv\")[:100]"
   ]
  },
  {
   "cell_type": "code",
   "execution_count": 63,
   "metadata": {},
   "outputs": [
    {
     "output_type": "execute_result",
     "data": {
      "text/plain": [
       "\"One of the other reviewers has mentioned that after watching just 1 Oz episode you'll be hooked. They are right, as this is exactly what happened with me.<br /><br />The first thing that struck me about Oz was its brutality and unflinching scenes of violence, which set in right from the word GO. Trust me, this is not a show for the faint hearted or timid. This show pulls no punches with regards to drugs, sex or violence. Its is hardcore, in the classic use of the word.<br /><br />It is called OZ as that is the nickname given to the Oswald Maximum Security State Penitentary. It focuses mainly on Emerald City, an experimental section of the prison where all the cells have glass fronts and face inwards, so privacy is not high on the agenda. Em City is home to many..Aryans, Muslims, gangstas, Latinos, Christians, Italians, Irish and more....so scuffles, death stares, dodgy dealings and shady agreements are never far away.<br /><br />I would say the main appeal of the show is due to the fact that it goes where other shows wouldn't dare. Forget pretty pictures painted for mainstream audiences, forget charm, forget romance...OZ doesn't mess around. The first episode I ever saw struck me as so nasty it was surreal, I couldn't say I was ready for it, but as I watched more, I developed a taste for Oz, and got accustomed to the high levels of graphic violence. Not just violence, but injustice (crooked guards who'll be sold out for a nickel, inmates who'll kill on order and get away with it, well mannered, middle class inmates being turned into prison bitches due to their lack of street skills or prison experience) Watching Oz, you may become comfortable with what is uncomfortable viewing....thats if you can get in touch with your darker side.\""
      ],
      "application/vnd.google.colaboratory.intrinsic+json": {
       "type": "string"
      }
     },
     "metadata": {},
     "execution_count": 63
    }
   ],
   "source": [
    "test_data.iloc[0]['review']"
   ]
  },
  {
   "cell_type": "code",
   "execution_count": 64,
   "metadata": {},
   "outputs": [
    {
     "output_type": "stream",
     "name": "stdout",
     "text": [
      "POSITIVE\nOne of the other reviewers has mentioned that after watching just 1 Oz episode you'll be hooked. They are right, as this is exactly what happened with me.<br /><br />The first thing that struck me about Oz was its brutality and unflinching scenes of violence, which set in right from the word GO. Trust me, this is not a show for the faint hearted or timid. This show pulls no punches with regards to drugs, sex or violence. Its is hardcore, in the classic use of the word.<br /><br />It is called OZ as that is the nickname given to the Oswald Maximum Security State Penitentary. It focuses mainly on Emerald City, an experimental section of the prison where all the cells have glass fronts and face inwards, so privacy is not high on the agenda. Em City is home to many..Aryans, Muslims, gangstas, Latinos, Christians, Italians, Irish and more....so scuffles, death stares, dodgy dealings and shady agreements are never far away.<br /><br />I would say the main appeal of the show is due to the fact that it goes where other shows wouldn't dare. Forget pretty pictures painted for mainstream audiences, forget charm, forget romance...OZ doesn't mess around. The first episode I ever saw struck me as so nasty it was surreal, I couldn't say I was ready for it, but as I watched more, I developed a taste for Oz, and got accustomed to the high levels of graphic violence. Not just violence, but injustice (crooked guards who'll be sold out for a nickel, inmates who'll kill on order and get away with it, well mannered, middle class inmates being turned into prison bitches due to their lack of street skills or prison experience) Watching Oz, you may become comfortable with what is uncomfortable viewing....thats if you can get in touch with your darker side.\n\nPOSITIVE\nA wonderful little production. <br /><br />The filming technique is very unassuming- very old-time-BBC fashion and gives a comforting, and sometimes discomforting, sense of realism to the entire piece. <br /><br />The actors are extremely well chosen- Michael Sheen not only \"has got all the polari\" but he has all the voices down pat too! You can truly see the seamless editing guided by the references to Williams' diary entries, not only is it well worth the watching but it is a terrificly written and performed piece. A masterful production about one of the great master's of comedy and his life. <br /><br />The realism really comes home with the little things: the fantasy of the guard which, rather than use the traditional 'dream' techniques remains solid then disappears. It plays on our knowledge and our senses, particularly with the scenes concerning Orton and Halliwell and the sets (particularly of their flat with Halliwell's murals decorating every surface) are terribly well done.\n\nPOSITIVE\nI thought this was a wonderful way to spend time on a too hot summer weekend, sitting in the air conditioned theater and watching a light-hearted comedy. The plot is simplistic, but the dialogue is witty and the characters are likable (even the well bread suspected serial killer). While some may be disappointed when they realize this is not Match Point 2: Risk Addiction, I thought it was proof that Woody Allen is still fully in control of the style many of us have grown to love.<br /><br />This was the most I'd laughed at one of Woody's comedies in years (dare I say a decade?). While I've never been impressed with Scarlet Johanson, in this she managed to tone down her \"sexy\" image and jumped right into a average, but spirited young woman.<br /><br />This may not be the crown jewel of his career, but it was wittier than \"Devil Wears Prada\" and more interesting than \"Superman\" a great comedy to go see with friends.\n\nNEGATIVE\nBasically there's a family where a little boy (Jake) thinks there's a zombie in his closet & his parents are fighting all the time.<br /><br />This movie is slower than a soap opera... and suddenly, Jake decides to become Rambo and kill the zombie.<br /><br />OK, first of all when you're going to make a film you must Decide if its a thriller or a drama! As a drama the movie is watchable. Parents are divorcing & arguing like in real life. And then we have Jake with his closet which totally ruins all the film! I expected to see a BOOGEYMAN similar movie, and instead i watched a drama with some meaningless thriller spots.<br /><br />3 out of 10 just for the well playing parents & descent dialogs. As for the shots with Jake: just ignore them.\n\nPOSITIVE\nPetter Mattei's \"Love in the Time of Money\" is a visually stunning film to watch. Mr. Mattei offers us a vivid portrait about human relations. This is a movie that seems to be telling us what money, power and success do to people in the different situations we encounter. <br /><br />This being a variation on the Arthur Schnitzler's play about the same theme, the director transfers the action to the present time New York where all these different characters meet and connect. Each one is connected in one way, or another to the next person, but no one seems to know the previous point of contact. Stylishly, the film has a sophisticated luxurious look. We are taken to see how these people live and the world they live in their own habitat.<br /><br />The only thing one gets out of all these souls in the picture is the different stages of loneliness each one inhabits. A big city is not exactly the best place in which human relations find sincere fulfillment, as one discerns is the case with most of the people we encounter.<br /><br />The acting is good under Mr. Mattei's direction. Steve Buscemi, Rosario Dawson, Carol Kane, Michael Imperioli, Adrian Grenier, and the rest of the talented cast, make these characters come alive.<br /><br />We wish Mr. Mattei good luck and await anxiously for his next work.\n\nPOSITIVE\nProbably my all-time favorite movie, a story of selflessness, sacrifice and dedication to a noble cause, but it's not preachy or boring. It just never gets old, despite my having seen it some 15 or more times in the last 25 years. Paul Lukas' performance brings tears to my eyes, and Bette Davis, in one of her very few truly sympathetic roles, is a delight. The kids are, as grandma says, more like \"dressed-up midgets\" than children, but that only makes them more fun to watch. And the mother's slow awakening to what's happening in the world and under her own roof is believable and startling. If I had a dozen thumbs, they'd all be \"up\" for this movie.\n\nPOSITIVE\nI sure would like to see a resurrection of a up dated Seahunt series with the tech they have today it would bring back the kid excitement in me.I grew up on black and white TV and Seahunt with Gunsmoke were my hero's every week.You have my vote for a comeback of a new sea hunt.We need a change of pace in TV and this would work for a world of under water adventure.Oh by the way thank you for an outlet like this to view many viewpoints about TV and the many movies.So any ole way I believe I've got what I wanna say.Would be nice to read some more plus points about sea hunt.If my rhymes would be 10 lines would you let me submit,or leave me out to be in doubt and have me to quit,If this is so then I must go so lets do it.\n\nNEGATIVE\nThis show was an amazing, fresh & innovative idea in the 70's when it first aired. The first 7 or 8 years were brilliant, but things dropped off after that. By 1990, the show was not really funny anymore, and it's continued its decline further to the complete waste of time it is today.<br /><br />It's truly disgraceful how far this show has fallen. The writing is painfully bad, the performances are almost as bad - if not for the mildly entertaining respite of the guest-hosts, this show probably wouldn't still be on the air. I find it so hard to believe that the same creator that hand-selected the original cast also chose the band of hacks that followed. How can one recognize such brilliance and then see fit to replace it with such mediocrity? I felt I must give 2 stars out of respect for the original cast that made this show such a huge success. As it is now, the show is just awful. I can't believe it's still on the air.\n\nNEGATIVE\nEncouraged by the positive comments about this film on here I was looking forward to watching this film. Bad mistake. I've seen 950+ films and this is truly one of the worst of them - it's awful in almost every way: editing, pacing, storyline, 'acting,' soundtrack (the film's only song - a lame country tune - is played no less than four times). The film looks cheap and nasty and is boring in the extreme. Rarely have I been so happy to see the end credits of a film. <br /><br />The only thing that prevents me giving this a 1-score is Harvey Keitel - while this is far from his best performance he at least seems to be making a bit of an effort. One for Keitel obsessives only.\n\nPOSITIVE\nIf you like original gut wrenching laughter you will like this movie. If you are young or old then you will love this movie, hell even my mom liked it.<br /><br />Great Camp!!!\n\n"
     ]
    }
   ],
   "source": [
    "for i in range(10):\n",
    "    if test_data['sentiment'][i] == 'positive':\n",
    "        print(\"POSITIVE\")\n",
    "        print(test_data.iloc[i]['review'])\n",
    "        print()\n",
    "    else:\n",
    "        print(\"NEGATIVE\")\n",
    "        print(test_data.iloc[i]['review'])\n",
    "        print()"
   ]
  },
  {
   "cell_type": "code",
   "execution_count": 130,
   "metadata": {},
   "outputs": [
    {
     "output_type": "stream",
     "name": "stdout",
     "text": [
      "HAM\nI have done a lot of international travel, both on business and as a tourist. For both types I assure you the best advice is also the oldest: Always drink the wine of the country. In this movie the archangel Michael comes to Earth on business, wraps it up quickly and decides to hang around for a little touring. Boy! Does he \"drink the wine of the country.\"<br /><br />Could man be drunk forever with liquor, love and fights <br /><br />He'd lief rise up of mornings and lief lie down of nights.<br /><br />These are things you can't do in Heaven so he enjoys them while he's here! Of course it turns out he had a couple of other jobs to tackle and, if he is less direct about them than he was about the first one, he is just as successful. The final scene is a little schmaltzy but it is also wonderful. Jean Stapleton gets to dance with John Travolta.\n\nHAM\nOne of the most frightening game experiences ever that will make you keep the lights on next to your bed. Great storyline with a romantic, horrific, and ironic plot. Fans of the original Resident Evil will be in for a surprise of a returning character! Not to mention that the voice-acting have drastically improved over the previous of the series. Don't miss out on the best of the series.\n\nHAM\nI was amazingly impressed by this movie. It contained fundamental elements of depression, grief, loneliness, despair, hope, dreams and companionship. It wasn't merely about a genius musician who hit rock bottom but it was about a man caught up in grief trying drastically to find solace within his music. He finds a companion who comes with her own issues. Claire and Des were able to provide each other with friendship and love but more importantly a conclusion to events which had shaped their life for the worst. <br /><br />Des is an unlikely character by todays standards of a rock star. Yet he has musical genius. He also has an event in his past that has made him stagnate, while things around him literally go to ruins. His focus is creating his Whale Music, in fact it becomes an obsession for him.<br /><br />Claire is the streetwise kid that needs a place to stay. She finds hidden talents while being in Des company. She also finds a mutual friend that accepts her. She learns to trust him over a period of time.<br /><br />These two find love with one another. Not the mind blowing, sex infused kind of passion, but a love where friendship and understanding means more. For two people who have been hurt, they find trust together.\n\nSPAM\nThis film is stale, and misses the mark. It is far off compared to the 89 Batman that it tries to coppy. That women singer whats her name can not act, and we see why her film carrier died. Notice how this film died in the box office no one see this film on tv either. My uncle and dad were expecting Batman, and the films impression is more like Cop Rock. Not worth renting 3/10\n\nHAM\nAt last!! Sandra Bullock is indeed a beautiful woman, but I've finally found a film that she gets to be an actress! Forget the predictable Keanu-fodder of SPEED, forget the predictable Kleenex-fodder of WHILE YOU WERE SLEEPING - this tests her!<br /><br />And she is great! A techno-feminist role that really works well on screen, on a subject that is very close to the bone. The issues raised don't seem far-fetched at all and the whole experience, helped along by a fine supporting cast, makes for quite an un-nerving couple of hours.<br /><br />You may never enter another chat-room again, in fact I'm getting quite nervous just writing this review...er...bye!\n\n"
     ]
    }
   ],
   "source": [
    "for i in range(5):\n",
    "    if test_data[1][i] == 1:\n",
    "        print(\"HAM\")\n",
    "        print(test_data[3][i])\n",
    "        print()\n",
    "\n",
    "    else:\n",
    "        print(\"SPAM\")\n",
    "        print(test_data[3][i])\n",
    "        print()\n",
    "\n",
    "\n",
    "# test_data[3]"
   ]
  },
  {
   "cell_type": "code",
   "execution_count": 22,
   "metadata": {},
   "outputs": [
    {
     "output_type": "execute_result",
     "data": {
      "text/plain": [
       "'i am man >with ?///?'"
      ],
      "application/vnd.google.colaboratory.intrinsic+json": {
       "type": "string"
      }
     },
     "metadata": {},
     "execution_count": 22
    }
   ],
   "source": []
  },
  {
   "cell_type": "code",
   "execution_count": 30,
   "metadata": {},
   "outputs": [
    {
     "output_type": "execute_result",
     "data": {
      "text/plain": [
       "'i am ravi score'"
      ],
      "application/vnd.google.colaboratory.intrinsic+json": {
       "type": "string"
      }
     },
     "metadata": {},
     "execution_count": 30
    }
   ],
   "source": [
    "text = \"i am ravi score 50 ??\"\n",
    "text = re.sub(r\"[^A-Za-z]\",\" \",text).strip()\n",
    "re.sub(r\"[^\\w\\s]\", '', text).strip()\n"
   ]
  },
  {
   "cell_type": "code",
   "execution_count": null,
   "metadata": {},
   "outputs": [],
   "source": []
  }
 ],
 "metadata": {
  "kernelspec": {
   "name": "python3715jvsc74a57bd04cd7ab41f5fca4b9b44701077e38c5ffd31fe66a6cab21e0214b68d958d0e462",
   "display_name": "Python 3.7.15 64-bit"
  },
  "language_info": {
   "codemirror_mode": {
    "name": "ipython",
    "version": 3
   },
   "file_extension": ".py",
   "mimetype": "text/x-python",
   "name": "python",
   "nbconvert_exporter": "python",
   "pygments_lexer": "ipython3",
   "version": "3.7.15"
  },
  "metadata": {
   "interpreter": {
    "hash": "4cd7ab41f5fca4b9b44701077e38c5ffd31fe66a6cab21e0214b68d958d0e462"
   }
  }
 },
 "nbformat": 4,
 "nbformat_minor": 2
}