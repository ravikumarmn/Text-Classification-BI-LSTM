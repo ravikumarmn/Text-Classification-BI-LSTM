{
 "cells": [
  {
   "cell_type": "markdown",
   "metadata": {},
   "source": [
    "## REQUIREMENTS"
   ]
  },
  {
   "cell_type": "code",
   "execution_count": 1,
   "metadata": {},
   "outputs": [],
   "source": [
    "import sys\n",
    "sys.path.append(\"/home/ravikumar/gdrive/DL_projects/text_classification/src\")"
   ]
  },
  {
   "cell_type": "code",
   "execution_count": 45,
   "metadata": {},
   "outputs": [],
   "source": [
    "import sys \n",
    "import json\n",
    "import torch\n",
    "import nltk\n",
    "import pickle\n",
    "import pickle\n",
    "import numpy as np\n",
    "import pandas as pd\n",
    "from tqdm.notebook import tqdm\n",
    "import re\n",
    "import gensim\n",
    "import config\n",
    "import helper\n",
    "from sklearn.model_selection import train_test_split\n",
    "from model import ClassifierModel\n",
    "from nltk.corpus import stopwords\n",
    "from nltk.stem import PorterStemmer\n",
    "from nltk.stem import WordNetLemmatizer\n",
    "sw = stopwords.words('english')\n",
    "from gensim.models import KeyedVectors"
   ]
  },
  {
   "cell_type": "code",
   "execution_count": 14,
   "metadata": {},
   "outputs": [],
   "source": [
    "config.local_base_dir = \"/home/ravikumar/gdrive/DL_projects/text_classification/\"\n",
    "config.local_train_file = \"dataset/train.tsv\"\n",
    "config.prep_train_test_vocabed = \"prep_train_test_vocabed.pkl\"\n",
    "config.EMBED_SIZE = 32"
   ]
  },
  {
   "cell_type": "code",
   "execution_count": 4,
   "metadata": {},
   "outputs": [
    {
     "data": {
      "text/html": [
       "<div>\n",
       "<style scoped>\n",
       "    .dataframe tbody tr th:only-of-type {\n",
       "        vertical-align: middle;\n",
       "    }\n",
       "\n",
       "    .dataframe tbody tr th {\n",
       "        vertical-align: top;\n",
       "    }\n",
       "\n",
       "    .dataframe thead th {\n",
       "        text-align: right;\n",
       "    }\n",
       "</style>\n",
       "<table border=\"1\" class=\"dataframe\">\n",
       "  <thead>\n",
       "    <tr style=\"text-align: right;\">\n",
       "      <th></th>\n",
       "      <th>1</th>\n",
       "      <th>3</th>\n",
       "    </tr>\n",
       "  </thead>\n",
       "  <tbody>\n",
       "    <tr>\n",
       "      <th>0</th>\n",
       "      <td>1</td>\n",
       "      <td>I have done a lot of international travel, bot...</td>\n",
       "    </tr>\n",
       "    <tr>\n",
       "      <th>1</th>\n",
       "      <td>1</td>\n",
       "      <td>One of the most frightening game experiences e...</td>\n",
       "    </tr>\n",
       "    <tr>\n",
       "      <th>2</th>\n",
       "      <td>1</td>\n",
       "      <td>I was amazingly impressed by this movie. It co...</td>\n",
       "    </tr>\n",
       "    <tr>\n",
       "      <th>3</th>\n",
       "      <td>0</td>\n",
       "      <td>This film is stale, and misses the mark. It is...</td>\n",
       "    </tr>\n",
       "    <tr>\n",
       "      <th>4</th>\n",
       "      <td>1</td>\n",
       "      <td>At last!! Sandra Bullock is indeed a beautiful...</td>\n",
       "    </tr>\n",
       "  </tbody>\n",
       "</table>\n",
       "</div>"
      ],
      "text/plain": [
       "   1                                                  3\n",
       "0  1  I have done a lot of international travel, bot...\n",
       "1  1  One of the most frightening game experiences e...\n",
       "2  1  I was amazingly impressed by this movie. It co...\n",
       "3  0  This film is stale, and misses the mark. It is...\n",
       "4  1  At last!! Sandra Bullock is indeed a beautiful..."
      ]
     },
     "execution_count": 4,
     "metadata": {},
     "output_type": "execute_result"
    }
   ],
   "source": [
    "data = helper.read_csv(config.local_base_dir,config.local_train_file,config.input_column,config.target_columns)\n",
    "data.head()"
   ]
  },
  {
   "cell_type": "markdown",
   "metadata": {},
   "source": [
    "## PREPROCESSING"
   ]
  },
  {
   "cell_type": "code",
   "execution_count": 5,
   "metadata": {},
   "outputs": [],
   "source": [
    "wordnet_lemmatizer = WordNetLemmatizer()\n",
    "porter_stemmer  = PorterStemmer()\n",
    "\n",
    "def preprocess_text(text):\n",
    "    text = re.sub(r\"^[A-Za-z]\",\"\",text)\n",
    "    text = \" \".join([x for x in text.split() if x not in sw])\n",
    "    text = \" \".join([wordnet_lemmatizer.lemmatize(x) for x in text.split() ])\n",
    "    text = \" \".join([porter_stemmer.stem(x) for x in text.split()])\n",
    "    text = re.sub(r'[^\\w\\s]', '', text)\n",
    "    text = text.lower()\n",
    "    return text"
   ]
  },
  {
   "cell_type": "code",
   "execution_count": 6,
   "metadata": {},
   "outputs": [],
   "source": [
    "def data_length(dataframe):\n",
    "    all_words = set()\n",
    "    all_sentence = list()\n",
    "    for sentence in dataframe[\"prep_data\"]:\n",
    "        all_sentence.append(sentence.lower().split())\n",
    "        for word in sentence.lower().split():\n",
    "            all_words.add(word)\n",
    "    len_all_words = len(all_words)\n",
    "    len_all_sentence = len(all_sentence)\n",
    "    print(f\"Total number of words : {len_all_words}\")\n",
    "    print(f\"Total number of sentence : {len_all_sentence}\")\n",
    "    print()\n",
    "    return all_words,all_sentence"
   ]
  },
  {
   "cell_type": "code",
   "execution_count": null,
   "metadata": {},
   "outputs": [],
   "source": [
    "if __name__ == \"__main__\":\n",
    "    prep_data = data[3].apply(lambda x : preprocess_text(x)) \n",
    "    data[\"prep_data\"] = prep_data\n",
    "    all_words,all_sentence = data_length(data)\n",
    "    \n",
    "    samples_lbl = data[1]\n",
    "    X_train, X_test, y_train, y_test = train_test_split(all_sentence,samples_lbl,test_size=0.2,shuffle=True)\n",
    "    \n",
    "    pickle.dump({\n",
    "        \"X_train\" : X_train,\n",
    "        \"X_test\" : X_test,\n",
    "        \"y_train\" : y_train.values.tolist(),\n",
    "        \"y_test\" : y_test.values.tolist(),\n",
    "    },open(config.local_base_dir + \"dataset/\"+ config.prep_train_test_vocabed,'wb'))\n",
    "    \n",
    "    "
   ]
  },
  {
   "cell_type": "code",
   "execution_count": 10,
   "metadata": {},
   "outputs": [],
   "source": [
    "split_data = pickle.load(open(config.local_base_dir + \"dataset/\"+config.prep_train_test_vocabed,'rb'))"
   ]
  },
  {
   "cell_type": "markdown",
   "metadata": {},
   "source": [
    "# **Word to Vectors**"
   ]
  },
  {
   "cell_type": "code",
   "execution_count": 71,
   "metadata": {},
   "outputs": [],
   "source": [
    "def build_word2vec(all_sentence,embedding_size):\n",
    "    w2v_model = gensim.models.Word2Vec(sentences=all_sentence,min_count=1,vector_size= embedding_size)\n",
    "    w2v_model.build_vocab(all_sentence)\n",
    "    print(\"Length of samples : \",w2v_model.corpus_count)\n",
    "    print(\"Length of vocab   : \",len(w2v_model.wv.key_to_index))\n",
    "    print(\"Training and saving model...\")\n",
    "    w2v_model.train(all_sentence,total_examples=w2v_model.corpus_count,epochs=w2v_model.epochs)\n",
    "    w2v_model.save(f\"{config.local_base_dir}dataset/prep_word2vectors_{config.EMBED_SIZE}.model\")\n",
    "    wordvecs = KeyedVectors.load(f\"{config.local_base_dir}dataset/prep_word2vectors_{config.EMBED_SIZE}.model\")    \n",
    "    all_words = list(wordvecs.wv.key_to_index.keys())\n",
    "# wordvecs.wv.index_to_key = {v:k for k,v in wordvecs.wv.key_to_index.items()}\n",
    "    word2index = {k:v+1 for k,v in wordvecs.wv.key_to_index.items()}\n",
    "    index2word = {v:k for k,v in word2index.items()}\n",
    "    \n",
    "    matrix_vec = np.zeros((len(word2index)+1,config.EMBED_SIZE))\n",
    "    for word,idx in word2index.items():\n",
    "        vector_x = wordvecs.wv[word]\n",
    "        matrix_vec[idx,:] = vector_x    \n",
    "    pickle_data = {\n",
    "    \"word2index\" : word2index,\n",
    "    \"index2word\" : index2word,\n",
    "    \"embedding_vector\" : matrix_vec\n",
    "    }\n",
    "    pickle.dump(pickle_data,open(config.local_base_dir+\"dataset/prep_emb_vec.pkl\",'wb'))\n",
    "    print(\"Done\")\n",
    "    print(f'Model saved to {config.local_base_dir+\"dataset/prep_emb_vec.pkl\"}')\n",
    "    "
   ]
  },
  {
   "cell_type": "code",
   "execution_count": 75,
   "metadata": {},
   "outputs": [
    {
     "ename": "AttributeError",
     "evalue": "module 'helper' has no attribute 'build_word2vec'",
     "output_type": "error",
     "traceback": [
      "\u001b[0;31m---------------------------------------------------------------------------\u001b[0m",
      "\u001b[0;31mAttributeError\u001b[0m                            Traceback (most recent call last)",
      "Input \u001b[0;32mIn [75]\u001b[0m, in \u001b[0;36m<cell line: 2>\u001b[0;34m()\u001b[0m\n\u001b[1;32m      1\u001b[0m config\u001b[38;5;241m.\u001b[39mEMBED_SIZE \u001b[38;5;241m=\u001b[39m \u001b[38;5;241m8\u001b[39m\n\u001b[0;32m----> 2\u001b[0m \u001b[43mhelper\u001b[49m\u001b[38;5;241;43m.\u001b[39;49m\u001b[43mbuild_word2vec\u001b[49m(all_sentence,config\u001b[38;5;241m.\u001b[39mEMBED_SIZE)\n",
      "\u001b[0;31mAttributeError\u001b[0m: module 'helper' has no attribute 'build_word2vec'"
     ]
    }
   ],
   "source": [
    "config.EMBED_SIZE = 8\n",
    "build_word2vec(all_sentence,config.EMBED_SIZE)"
   ]
  },
  {
   "cell_type": "code",
   "execution_count": 68,
   "metadata": {},
   "outputs": [],
   "source": [
    "# pickle_data =pickle.load(open(\"emb_vec.pkl\",'rb'))"
   ]
  },
  {
   "cell_type": "code",
   "execution_count": null,
   "metadata": {},
   "outputs": [],
   "source": [
    "# word2index = pickle_data['word2index']\n",
    "# index2word = pickle_data['index2word']\n",
    "# word_vectors = pd.DataFrame(pickle_data['embedding_vector'])\n",
    "# word_vectors.to_csv(\"embedding_matrix.tsv\",sep =\"\\t\",header = None,index = False)\n",
    "# index2word[0] = \"[PAD]\"\n",
    "# only_words = [index2word[x] for x in range(len(index2word))]\n",
    "# word_vectors[\"metadata\"] =only_words\n",
    "# word_vectors.to_csv(\"meta_data.tsv\",sep =\"\\t\",index = False)"
   ]
  },
  {
   "cell_type": "code",
   "execution_count": null,
   "metadata": {},
   "outputs": [],
   "source": []
  },
  {
   "cell_type": "code",
   "execution_count": 2,
   "metadata": {},
   "outputs": [
    {
     "ename": "FileNotFoundError",
     "evalue": "[Errno 2] No such file or directory: '/content/drive/MyDrive/binary_classification/text_classification/trained_models/seq2seq_hidden_32_embed_32.pt'",
     "output_type": "error",
     "traceback": [
      "\u001b[0;31m---------------------------------------------------------------------------\u001b[0m",
      "\u001b[0;31mFileNotFoundError\u001b[0m                         Traceback (most recent call last)",
      "\u001b[0;32m<ipython-input-2-8aac43a11cbd>\u001b[0m in \u001b[0;36m<module>\u001b[0;34m\u001b[0m\n\u001b[0;32m----> 1\u001b[0;31m \u001b[0mcheckpoint\u001b[0m \u001b[0;34m=\u001b[0m \u001b[0mtorch\u001b[0m\u001b[0;34m.\u001b[0m\u001b[0mload\u001b[0m\u001b[0;34m(\u001b[0m\u001b[0;34m\"/content/drive/MyDrive/binary_classification/text_classification/trained_models/seq2seq_hidden_32_embed_32.pt\"\u001b[0m\u001b[0;34m)\u001b[0m\u001b[0;34m\u001b[0m\u001b[0;34m\u001b[0m\u001b[0m\n\u001b[0m\u001b[1;32m      2\u001b[0m \u001b[0mcheckpoint\u001b[0m\u001b[0;34m.\u001b[0m\u001b[0mkeys\u001b[0m\u001b[0;34m(\u001b[0m\u001b[0;34m)\u001b[0m\u001b[0;34m\u001b[0m\u001b[0;34m\u001b[0m\u001b[0m\n",
      "\u001b[0;32m/usr/local/lib/python3.7/dist-packages/torch/serialization.py\u001b[0m in \u001b[0;36mload\u001b[0;34m(f, map_location, pickle_module, **pickle_load_args)\u001b[0m\n\u001b[1;32m    697\u001b[0m         \u001b[0mpickle_load_args\u001b[0m\u001b[0;34m[\u001b[0m\u001b[0;34m'encoding'\u001b[0m\u001b[0;34m]\u001b[0m \u001b[0;34m=\u001b[0m \u001b[0;34m'utf-8'\u001b[0m\u001b[0;34m\u001b[0m\u001b[0;34m\u001b[0m\u001b[0m\n\u001b[1;32m    698\u001b[0m \u001b[0;34m\u001b[0m\u001b[0m\n\u001b[0;32m--> 699\u001b[0;31m     \u001b[0;32mwith\u001b[0m \u001b[0m_open_file_like\u001b[0m\u001b[0;34m(\u001b[0m\u001b[0mf\u001b[0m\u001b[0;34m,\u001b[0m \u001b[0;34m'rb'\u001b[0m\u001b[0;34m)\u001b[0m \u001b[0;32mas\u001b[0m \u001b[0mopened_file\u001b[0m\u001b[0;34m:\u001b[0m\u001b[0;34m\u001b[0m\u001b[0;34m\u001b[0m\u001b[0m\n\u001b[0m\u001b[1;32m    700\u001b[0m         \u001b[0;32mif\u001b[0m \u001b[0m_is_zipfile\u001b[0m\u001b[0;34m(\u001b[0m\u001b[0mopened_file\u001b[0m\u001b[0;34m)\u001b[0m\u001b[0;34m:\u001b[0m\u001b[0;34m\u001b[0m\u001b[0;34m\u001b[0m\u001b[0m\n\u001b[1;32m    701\u001b[0m             \u001b[0;31m# The zipfile reader is going to advance the current file position.\u001b[0m\u001b[0;34m\u001b[0m\u001b[0;34m\u001b[0m\u001b[0;34m\u001b[0m\u001b[0m\n",
      "\u001b[0;32m/usr/local/lib/python3.7/dist-packages/torch/serialization.py\u001b[0m in \u001b[0;36m_open_file_like\u001b[0;34m(name_or_buffer, mode)\u001b[0m\n\u001b[1;32m    228\u001b[0m \u001b[0;32mdef\u001b[0m \u001b[0m_open_file_like\u001b[0m\u001b[0;34m(\u001b[0m\u001b[0mname_or_buffer\u001b[0m\u001b[0;34m,\u001b[0m \u001b[0mmode\u001b[0m\u001b[0;34m)\u001b[0m\u001b[0;34m:\u001b[0m\u001b[0;34m\u001b[0m\u001b[0;34m\u001b[0m\u001b[0m\n\u001b[1;32m    229\u001b[0m     \u001b[0;32mif\u001b[0m \u001b[0m_is_path\u001b[0m\u001b[0;34m(\u001b[0m\u001b[0mname_or_buffer\u001b[0m\u001b[0;34m)\u001b[0m\u001b[0;34m:\u001b[0m\u001b[0;34m\u001b[0m\u001b[0;34m\u001b[0m\u001b[0m\n\u001b[0;32m--> 230\u001b[0;31m         \u001b[0;32mreturn\u001b[0m \u001b[0m_open_file\u001b[0m\u001b[0;34m(\u001b[0m\u001b[0mname_or_buffer\u001b[0m\u001b[0;34m,\u001b[0m \u001b[0mmode\u001b[0m\u001b[0;34m)\u001b[0m\u001b[0;34m\u001b[0m\u001b[0;34m\u001b[0m\u001b[0m\n\u001b[0m\u001b[1;32m    231\u001b[0m     \u001b[0;32melse\u001b[0m\u001b[0;34m:\u001b[0m\u001b[0;34m\u001b[0m\u001b[0;34m\u001b[0m\u001b[0m\n\u001b[1;32m    232\u001b[0m         \u001b[0;32mif\u001b[0m \u001b[0;34m'w'\u001b[0m \u001b[0;32min\u001b[0m \u001b[0mmode\u001b[0m\u001b[0;34m:\u001b[0m\u001b[0;34m\u001b[0m\u001b[0;34m\u001b[0m\u001b[0m\n",
      "\u001b[0;32m/usr/local/lib/python3.7/dist-packages/torch/serialization.py\u001b[0m in \u001b[0;36m__init__\u001b[0;34m(self, name, mode)\u001b[0m\n\u001b[1;32m    209\u001b[0m \u001b[0;32mclass\u001b[0m \u001b[0m_open_file\u001b[0m\u001b[0;34m(\u001b[0m\u001b[0m_opener\u001b[0m\u001b[0;34m)\u001b[0m\u001b[0;34m:\u001b[0m\u001b[0;34m\u001b[0m\u001b[0;34m\u001b[0m\u001b[0m\n\u001b[1;32m    210\u001b[0m     \u001b[0;32mdef\u001b[0m \u001b[0m__init__\u001b[0m\u001b[0;34m(\u001b[0m\u001b[0mself\u001b[0m\u001b[0;34m,\u001b[0m \u001b[0mname\u001b[0m\u001b[0;34m,\u001b[0m \u001b[0mmode\u001b[0m\u001b[0;34m)\u001b[0m\u001b[0;34m:\u001b[0m\u001b[0;34m\u001b[0m\u001b[0;34m\u001b[0m\u001b[0m\n\u001b[0;32m--> 211\u001b[0;31m         \u001b[0msuper\u001b[0m\u001b[0;34m(\u001b[0m\u001b[0m_open_file\u001b[0m\u001b[0;34m,\u001b[0m \u001b[0mself\u001b[0m\u001b[0;34m)\u001b[0m\u001b[0;34m.\u001b[0m\u001b[0m__init__\u001b[0m\u001b[0;34m(\u001b[0m\u001b[0mopen\u001b[0m\u001b[0;34m(\u001b[0m\u001b[0mname\u001b[0m\u001b[0;34m,\u001b[0m \u001b[0mmode\u001b[0m\u001b[0;34m)\u001b[0m\u001b[0;34m)\u001b[0m\u001b[0;34m\u001b[0m\u001b[0;34m\u001b[0m\u001b[0m\n\u001b[0m\u001b[1;32m    212\u001b[0m \u001b[0;34m\u001b[0m\u001b[0m\n\u001b[1;32m    213\u001b[0m     \u001b[0;32mdef\u001b[0m \u001b[0m__exit__\u001b[0m\u001b[0;34m(\u001b[0m\u001b[0mself\u001b[0m\u001b[0;34m,\u001b[0m \u001b[0;34m*\u001b[0m\u001b[0margs\u001b[0m\u001b[0;34m)\u001b[0m\u001b[0;34m:\u001b[0m\u001b[0;34m\u001b[0m\u001b[0;34m\u001b[0m\u001b[0m\n",
      "\u001b[0;31mFileNotFoundError\u001b[0m: [Errno 2] No such file or directory: '/content/drive/MyDrive/binary_classification/text_classification/trained_models/seq2seq_hidden_32_embed_32.pt'"
     ]
    }
   ],
   "source": [
    "checkpoint = torch.load(\"/content/drive/MyDrive/binary_classification/text_classification/trained_models/seq2seq_hidden_32_embed_32.pt\")\n",
    "checkpoint.keys()"
   ]
  },
  {
   "cell_type": "code",
   "execution_count": 6,
   "metadata": {},
   "outputs": [
    {
     "data": {
      "text/plain": [
       "dict_keys(['model_state_dict', 'params'])"
      ]
     },
     "execution_count": 6,
     "metadata": {},
     "output_type": "execute_result"
    }
   ],
   "source": []
  },
  {
   "cell_type": "code",
   "execution_count": 16,
   "metadata": {},
   "outputs": [],
   "source": [
    "params = checkpoint['params']\n",
    "pickle_data =pickle.load(open(params[\"base_dir\"] +params[\"emb_vec_file\"],'rb'))\n",
    "pickle_data.keys()\n",
    "\n",
    "word2index = pickle_data['word2index']\n",
    "index2word = pickle_data['index2word']"
   ]
  },
  {
   "cell_type": "code",
   "execution_count": 17,
   "metadata": {},
   "outputs": [],
   "source": [
    "# n_vocab,hidden_size,out_hidden,embedding_dim,n_labels,max_seq\n",
    "\n",
    "my_model = ClassifierModel(len(word2index),params[\"HIDDEN_SIZE\"],params[\"OUT_DIM\"],params[\"EMBED_SIZE\"],n_labels = params[\"n_labels\"],max_seq=params['max_seq_len'])"
   ]
  },
  {
   "cell_type": "code",
   "execution_count": 18,
   "metadata": {},
   "outputs": [
    {
     "data": {
      "text/plain": [
       "<All keys matched successfully>"
      ]
     },
     "execution_count": 18,
     "metadata": {},
     "output_type": "execute_result"
    }
   ],
   "source": [
    "my_model.load_state_dict(checkpoint['model_state_dict'])"
   ]
  },
  {
   "cell_type": "code",
   "execution_count": 10,
   "metadata": {},
   "outputs": [],
   "source": [
    "import pandas as pd\n",
    "emb_matrix = my_model.embedding.weight.detach().numpy()"
   ]
  },
  {
   "cell_type": "code",
   "execution_count": 11,
   "metadata": {},
   "outputs": [],
   "source": [
    "emb = pd.DataFrame(emb_matrix)"
   ]
  },
  {
   "cell_type": "code",
   "execution_count": 12,
   "metadata": {},
   "outputs": [
    {
     "data": {
      "text/html": [
       "\n",
       "  <div id=\"df-85b9bc71-28fb-430a-b6fc-c41ca19979e3\">\n",
       "    <div class=\"colab-df-container\">\n",
       "      <div>\n",
       "<style scoped>\n",
       "    .dataframe tbody tr th:only-of-type {\n",
       "        vertical-align: middle;\n",
       "    }\n",
       "\n",
       "    .dataframe tbody tr th {\n",
       "        vertical-align: top;\n",
       "    }\n",
       "\n",
       "    .dataframe thead th {\n",
       "        text-align: right;\n",
       "    }\n",
       "</style>\n",
       "<table border=\"1\" class=\"dataframe\">\n",
       "  <thead>\n",
       "    <tr style=\"text-align: right;\">\n",
       "      <th></th>\n",
       "      <th>0</th>\n",
       "      <th>1</th>\n",
       "      <th>2</th>\n",
       "      <th>3</th>\n",
       "      <th>4</th>\n",
       "      <th>5</th>\n",
       "      <th>6</th>\n",
       "      <th>7</th>\n",
       "      <th>8</th>\n",
       "      <th>9</th>\n",
       "      <th>...</th>\n",
       "      <th>22</th>\n",
       "      <th>23</th>\n",
       "      <th>24</th>\n",
       "      <th>25</th>\n",
       "      <th>26</th>\n",
       "      <th>27</th>\n",
       "      <th>28</th>\n",
       "      <th>29</th>\n",
       "      <th>30</th>\n",
       "      <th>31</th>\n",
       "    </tr>\n",
       "  </thead>\n",
       "  <tbody>\n",
       "    <tr>\n",
       "      <th>0</th>\n",
       "      <td>0.000000</td>\n",
       "      <td>0.000000</td>\n",
       "      <td>0.000000</td>\n",
       "      <td>0.000000</td>\n",
       "      <td>0.000000</td>\n",
       "      <td>0.000000</td>\n",
       "      <td>0.000000</td>\n",
       "      <td>0.000000</td>\n",
       "      <td>0.000000</td>\n",
       "      <td>0.000000</td>\n",
       "      <td>...</td>\n",
       "      <td>0.000000</td>\n",
       "      <td>0.000000</td>\n",
       "      <td>0.000000</td>\n",
       "      <td>0.000000</td>\n",
       "      <td>0.000000</td>\n",
       "      <td>0.000000</td>\n",
       "      <td>0.000000</td>\n",
       "      <td>0.000000</td>\n",
       "      <td>0.000000</td>\n",
       "      <td>0.000000</td>\n",
       "    </tr>\n",
       "    <tr>\n",
       "      <th>1</th>\n",
       "      <td>2.949370</td>\n",
       "      <td>0.922243</td>\n",
       "      <td>0.154138</td>\n",
       "      <td>6.660822</td>\n",
       "      <td>0.547935</td>\n",
       "      <td>-1.501828</td>\n",
       "      <td>0.449356</td>\n",
       "      <td>5.114233</td>\n",
       "      <td>1.495574</td>\n",
       "      <td>-0.509818</td>\n",
       "      <td>...</td>\n",
       "      <td>-0.100000</td>\n",
       "      <td>0.885889</td>\n",
       "      <td>3.526680</td>\n",
       "      <td>-0.710976</td>\n",
       "      <td>-0.467440</td>\n",
       "      <td>-0.558153</td>\n",
       "      <td>1.275188</td>\n",
       "      <td>1.292169</td>\n",
       "      <td>2.493919</td>\n",
       "      <td>2.826359</td>\n",
       "    </tr>\n",
       "    <tr>\n",
       "      <th>2</th>\n",
       "      <td>1.391631</td>\n",
       "      <td>-2.686124</td>\n",
       "      <td>0.682594</td>\n",
       "      <td>3.070784</td>\n",
       "      <td>5.182808</td>\n",
       "      <td>-3.308234</td>\n",
       "      <td>0.893037</td>\n",
       "      <td>2.513214</td>\n",
       "      <td>-1.857512</td>\n",
       "      <td>3.743443</td>\n",
       "      <td>...</td>\n",
       "      <td>-0.949701</td>\n",
       "      <td>-0.554675</td>\n",
       "      <td>4.094296</td>\n",
       "      <td>-2.587744</td>\n",
       "      <td>-2.298055</td>\n",
       "      <td>-2.072783</td>\n",
       "      <td>2.812672</td>\n",
       "      <td>1.100190</td>\n",
       "      <td>3.874818</td>\n",
       "      <td>-0.516906</td>\n",
       "    </tr>\n",
       "    <tr>\n",
       "      <th>3</th>\n",
       "      <td>3.718189</td>\n",
       "      <td>-1.254302</td>\n",
       "      <td>-0.829371</td>\n",
       "      <td>2.559240</td>\n",
       "      <td>3.821116</td>\n",
       "      <td>-0.394726</td>\n",
       "      <td>0.620870</td>\n",
       "      <td>2.456557</td>\n",
       "      <td>0.724074</td>\n",
       "      <td>-1.833603</td>\n",
       "      <td>...</td>\n",
       "      <td>0.915390</td>\n",
       "      <td>2.105058</td>\n",
       "      <td>-0.091596</td>\n",
       "      <td>-2.890089</td>\n",
       "      <td>0.443265</td>\n",
       "      <td>1.707803</td>\n",
       "      <td>2.123006</td>\n",
       "      <td>1.211624</td>\n",
       "      <td>4.827468</td>\n",
       "      <td>2.331058</td>\n",
       "    </tr>\n",
       "    <tr>\n",
       "      <th>4</th>\n",
       "      <td>-0.814408</td>\n",
       "      <td>-0.082425</td>\n",
       "      <td>-1.564898</td>\n",
       "      <td>2.493077</td>\n",
       "      <td>3.762020</td>\n",
       "      <td>-0.735816</td>\n",
       "      <td>1.496172</td>\n",
       "      <td>6.607865</td>\n",
       "      <td>3.168870</td>\n",
       "      <td>-0.339255</td>\n",
       "      <td>...</td>\n",
       "      <td>-0.761504</td>\n",
       "      <td>1.655257</td>\n",
       "      <td>3.251276</td>\n",
       "      <td>-2.384527</td>\n",
       "      <td>2.563825</td>\n",
       "      <td>-2.155195</td>\n",
       "      <td>0.649461</td>\n",
       "      <td>0.612345</td>\n",
       "      <td>0.245135</td>\n",
       "      <td>3.619832</td>\n",
       "    </tr>\n",
       "  </tbody>\n",
       "</table>\n",
       "<p>5 rows × 32 columns</p>\n",
       "</div>\n",
       "      <button class=\"colab-df-convert\" onclick=\"convertToInteractive('df-85b9bc71-28fb-430a-b6fc-c41ca19979e3')\"\n",
       "              title=\"Convert this dataframe to an interactive table.\"\n",
       "              style=\"display:none;\">\n",
       "        \n",
       "  <svg xmlns=\"http://www.w3.org/2000/svg\" height=\"24px\"viewBox=\"0 0 24 24\"\n",
       "       width=\"24px\">\n",
       "    <path d=\"M0 0h24v24H0V0z\" fill=\"none\"/>\n",
       "    <path d=\"M18.56 5.44l.94 2.06.94-2.06 2.06-.94-2.06-.94-.94-2.06-.94 2.06-2.06.94zm-11 1L8.5 8.5l.94-2.06 2.06-.94-2.06-.94L8.5 2.5l-.94 2.06-2.06.94zm10 10l.94 2.06.94-2.06 2.06-.94-2.06-.94-.94-2.06-.94 2.06-2.06.94z\"/><path d=\"M17.41 7.96l-1.37-1.37c-.4-.4-.92-.59-1.43-.59-.52 0-1.04.2-1.43.59L10.3 9.45l-7.72 7.72c-.78.78-.78 2.05 0 2.83L4 21.41c.39.39.9.59 1.41.59.51 0 1.02-.2 1.41-.59l7.78-7.78 2.81-2.81c.8-.78.8-2.07 0-2.86zM5.41 20L4 18.59l7.72-7.72 1.47 1.35L5.41 20z\"/>\n",
       "  </svg>\n",
       "      </button>\n",
       "      \n",
       "  <style>\n",
       "    .colab-df-container {\n",
       "      display:flex;\n",
       "      flex-wrap:wrap;\n",
       "      gap: 12px;\n",
       "    }\n",
       "\n",
       "    .colab-df-convert {\n",
       "      background-color: #E8F0FE;\n",
       "      border: none;\n",
       "      border-radius: 50%;\n",
       "      cursor: pointer;\n",
       "      display: none;\n",
       "      fill: #1967D2;\n",
       "      height: 32px;\n",
       "      padding: 0 0 0 0;\n",
       "      width: 32px;\n",
       "    }\n",
       "\n",
       "    .colab-df-convert:hover {\n",
       "      background-color: #E2EBFA;\n",
       "      box-shadow: 0px 1px 2px rgba(60, 64, 67, 0.3), 0px 1px 3px 1px rgba(60, 64, 67, 0.15);\n",
       "      fill: #174EA6;\n",
       "    }\n",
       "\n",
       "    [theme=dark] .colab-df-convert {\n",
       "      background-color: #3B4455;\n",
       "      fill: #D2E3FC;\n",
       "    }\n",
       "\n",
       "    [theme=dark] .colab-df-convert:hover {\n",
       "      background-color: #434B5C;\n",
       "      box-shadow: 0px 1px 3px 1px rgba(0, 0, 0, 0.15);\n",
       "      filter: drop-shadow(0px 1px 2px rgba(0, 0, 0, 0.3));\n",
       "      fill: #FFFFFF;\n",
       "    }\n",
       "  </style>\n",
       "\n",
       "      <script>\n",
       "        const buttonEl =\n",
       "          document.querySelector('#df-85b9bc71-28fb-430a-b6fc-c41ca19979e3 button.colab-df-convert');\n",
       "        buttonEl.style.display =\n",
       "          google.colab.kernel.accessAllowed ? 'block' : 'none';\n",
       "\n",
       "        async function convertToInteractive(key) {\n",
       "          const element = document.querySelector('#df-85b9bc71-28fb-430a-b6fc-c41ca19979e3');\n",
       "          const dataTable =\n",
       "            await google.colab.kernel.invokeFunction('convertToInteractive',\n",
       "                                                     [key], {});\n",
       "          if (!dataTable) return;\n",
       "\n",
       "          const docLinkHtml = 'Like what you see? Visit the ' +\n",
       "            '<a target=\"_blank\" href=https://colab.research.google.com/notebooks/data_table.ipynb>data table notebook</a>'\n",
       "            + ' to learn more about interactive tables.';\n",
       "          element.innerHTML = '';\n",
       "          dataTable['output_type'] = 'display_data';\n",
       "          await google.colab.output.renderOutput(dataTable, element);\n",
       "          const docLink = document.createElement('div');\n",
       "          docLink.innerHTML = docLinkHtml;\n",
       "          element.appendChild(docLink);\n",
       "        }\n",
       "      </script>\n",
       "    </div>\n",
       "  </div>\n",
       "  "
      ],
      "text/plain": [
       "         0         1         2         3         4         5         6   \\\n",
       "0  0.000000  0.000000  0.000000  0.000000  0.000000  0.000000  0.000000   \n",
       "1  2.949370  0.922243  0.154138  6.660822  0.547935 -1.501828  0.449356   \n",
       "2  1.391631 -2.686124  0.682594  3.070784  5.182808 -3.308234  0.893037   \n",
       "3  3.718189 -1.254302 -0.829371  2.559240  3.821116 -0.394726  0.620870   \n",
       "4 -0.814408 -0.082425 -1.564898  2.493077  3.762020 -0.735816  1.496172   \n",
       "\n",
       "         7         8         9   ...        22        23        24        25  \\\n",
       "0  0.000000  0.000000  0.000000  ...  0.000000  0.000000  0.000000  0.000000   \n",
       "1  5.114233  1.495574 -0.509818  ... -0.100000  0.885889  3.526680 -0.710976   \n",
       "2  2.513214 -1.857512  3.743443  ... -0.949701 -0.554675  4.094296 -2.587744   \n",
       "3  2.456557  0.724074 -1.833603  ...  0.915390  2.105058 -0.091596 -2.890089   \n",
       "4  6.607865  3.168870 -0.339255  ... -0.761504  1.655257  3.251276 -2.384527   \n",
       "\n",
       "         26        27        28        29        30        31  \n",
       "0  0.000000  0.000000  0.000000  0.000000  0.000000  0.000000  \n",
       "1 -0.467440 -0.558153  1.275188  1.292169  2.493919  2.826359  \n",
       "2 -2.298055 -2.072783  2.812672  1.100190  3.874818 -0.516906  \n",
       "3  0.443265  1.707803  2.123006  1.211624  4.827468  2.331058  \n",
       "4  2.563825 -2.155195  0.649461  0.612345  0.245135  3.619832  \n",
       "\n",
       "[5 rows x 32 columns]"
      ]
     },
     "execution_count": 12,
     "metadata": {},
     "output_type": "execute_result"
    }
   ],
   "source": [
    "emb.head()"
   ]
  },
  {
   "cell_type": "code",
   "execution_count": 13,
   "metadata": {},
   "outputs": [
    {
     "data": {
      "text/plain": [
       "(313611, 32)"
      ]
     },
     "execution_count": 13,
     "metadata": {},
     "output_type": "execute_result"
    }
   ],
   "source": [
    "emb.shape"
   ]
  },
  {
   "cell_type": "code",
   "execution_count": 14,
   "metadata": {},
   "outputs": [],
   "source": [
    "emb.to_csv(\"embedding_matrix.tsv\",sep =\"\\t\",header = None,index = False)"
   ]
  },
  {
   "cell_type": "code",
   "execution_count": 15,
   "metadata": {},
   "outputs": [
    {
     "data": {
      "text/plain": [
       "dict_keys(['word2index', 'index2word', 'embedding_vector'])"
      ]
     },
     "execution_count": 15,
     "metadata": {},
     "output_type": "execute_result"
    }
   ],
   "source": []
  },
  {
   "cell_type": "code",
   "execution_count": null,
   "metadata": {},
   "outputs": [],
   "source": []
  }
 ],
 "metadata": {
  "kernelspec": {
   "display_name": "Python 3 (ipykernel)",
   "language": "python",
   "name": "python3"
  },
  "language_info": {
   "codemirror_mode": {
    "name": "ipython",
    "version": 3
   },
   "file_extension": ".py",
   "mimetype": "text/x-python",
   "name": "python",
   "nbconvert_exporter": "python",
   "pygments_lexer": "ipython3",
   "version": "3.9.12"
  },
  "metadata": {
   "interpreter": {
    "hash": "4cd7ab41f5fca4b9b44701077e38c5ffd31fe66a6cab21e0214b68d958d0e462"
   }
  }
 },
 "nbformat": 4,
 "nbformat_minor": 2
}
